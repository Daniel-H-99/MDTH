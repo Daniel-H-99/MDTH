{
  "nbformat": 4,
  "nbformat_minor": 0,
  "metadata": {
    "colab": {
      "name": "colab_demo.ipynb",
      "provenance": [],
      "collapsed_sections": [],
      "include_colab_link": true
    },
    "kernelspec": {
      "name": "python3",
      "display_name": "Python 3"
    },
    "language_info": {
      "name": "python"
    },
    "accelerator": "GPU",
    "widgets": {
      "application/vnd.jupyter.widget-state+json": {
        "134f90c3a6104e529c6167f2af7fe021": {
          "model_module": "@jupyter-widgets/controls",
          "model_name": "HBoxModel",
          "model_module_version": "1.5.0",
          "state": {
            "_view_name": "HBoxView",
            "_dom_classes": [],
            "_model_name": "HBoxModel",
            "_view_module": "@jupyter-widgets/controls",
            "_model_module_version": "1.5.0",
            "_view_count": null,
            "_view_module_version": "1.5.0",
            "box_style": "",
            "layout": "IPY_MODEL_fc674b7f4dbe43c5afeffe785594316b",
            "_model_module": "@jupyter-widgets/controls",
            "children": [
              "IPY_MODEL_45c7088cafdd4fcca122f83335d818ed",
              "IPY_MODEL_ef17c4989e12490393873ccd5aa1ab45",
              "IPY_MODEL_252cc971d1b4439595a99b3d48d5840f"
            ]
          }
        },
        "fc674b7f4dbe43c5afeffe785594316b": {
          "model_module": "@jupyter-widgets/base",
          "model_name": "LayoutModel",
          "model_module_version": "1.2.0",
          "state": {
            "_view_name": "LayoutView",
            "grid_template_rows": null,
            "right": null,
            "justify_content": null,
            "_view_module": "@jupyter-widgets/base",
            "overflow": null,
            "_model_module_version": "1.2.0",
            "_view_count": null,
            "flex_flow": null,
            "width": null,
            "min_width": null,
            "border": null,
            "align_items": null,
            "bottom": null,
            "_model_module": "@jupyter-widgets/base",
            "top": null,
            "grid_column": null,
            "overflow_y": null,
            "overflow_x": null,
            "grid_auto_flow": null,
            "grid_area": null,
            "grid_template_columns": null,
            "flex": null,
            "_model_name": "LayoutModel",
            "justify_items": null,
            "grid_row": null,
            "max_height": null,
            "align_content": null,
            "visibility": null,
            "align_self": null,
            "height": null,
            "min_height": null,
            "padding": null,
            "grid_auto_rows": null,
            "grid_gap": null,
            "max_width": null,
            "order": null,
            "_view_module_version": "1.2.0",
            "grid_template_areas": null,
            "object_position": null,
            "object_fit": null,
            "grid_auto_columns": null,
            "margin": null,
            "display": null,
            "left": null
          }
        },
        "45c7088cafdd4fcca122f83335d818ed": {
          "model_module": "@jupyter-widgets/controls",
          "model_name": "HTMLModel",
          "model_module_version": "1.5.0",
          "state": {
            "_view_name": "HTMLView",
            "style": "IPY_MODEL_2c1040ac285b4999a86327591763a4b9",
            "_dom_classes": [],
            "description": "",
            "_model_name": "HTMLModel",
            "placeholder": "​",
            "_view_module": "@jupyter-widgets/controls",
            "_model_module_version": "1.5.0",
            "value": "100%",
            "_view_count": null,
            "_view_module_version": "1.5.0",
            "description_tooltip": null,
            "_model_module": "@jupyter-widgets/controls",
            "layout": "IPY_MODEL_6ca6419bf38843cd8b8f958d2f247ecd"
          }
        },
        "ef17c4989e12490393873ccd5aa1ab45": {
          "model_module": "@jupyter-widgets/controls",
          "model_name": "FloatProgressModel",
          "model_module_version": "1.5.0",
          "state": {
            "_view_name": "ProgressView",
            "style": "IPY_MODEL_66a578d4d62845d498c3576c18f77aa7",
            "_dom_classes": [],
            "description": "",
            "_model_name": "FloatProgressModel",
            "bar_style": "success",
            "max": 96316515,
            "_view_module": "@jupyter-widgets/controls",
            "_model_module_version": "1.5.0",
            "value": 96316515,
            "_view_count": null,
            "_view_module_version": "1.5.0",
            "orientation": "horizontal",
            "min": 0,
            "description_tooltip": null,
            "_model_module": "@jupyter-widgets/controls",
            "layout": "IPY_MODEL_4e4a29f189ee490b95e245db65317d33"
          }
        },
        "252cc971d1b4439595a99b3d48d5840f": {
          "model_module": "@jupyter-widgets/controls",
          "model_name": "HTMLModel",
          "model_module_version": "1.5.0",
          "state": {
            "_view_name": "HTMLView",
            "style": "IPY_MODEL_c9d4ae9fab0e484b8ccde72d01289422",
            "_dom_classes": [],
            "description": "",
            "_model_name": "HTMLModel",
            "placeholder": "​",
            "_view_module": "@jupyter-widgets/controls",
            "_model_module_version": "1.5.0",
            "value": " 91.9M/91.9M [00:04&lt;00:00, 25.7MB/s]",
            "_view_count": null,
            "_view_module_version": "1.5.0",
            "description_tooltip": null,
            "_model_module": "@jupyter-widgets/controls",
            "layout": "IPY_MODEL_9352dee2c683493aaa1bef885a5ca673"
          }
        },
        "2c1040ac285b4999a86327591763a4b9": {
          "model_module": "@jupyter-widgets/controls",
          "model_name": "DescriptionStyleModel",
          "model_module_version": "1.5.0",
          "state": {
            "_view_name": "StyleView",
            "_model_name": "DescriptionStyleModel",
            "description_width": "",
            "_view_module": "@jupyter-widgets/base",
            "_model_module_version": "1.5.0",
            "_view_count": null,
            "_view_module_version": "1.2.0",
            "_model_module": "@jupyter-widgets/controls"
          }
        },
        "6ca6419bf38843cd8b8f958d2f247ecd": {
          "model_module": "@jupyter-widgets/base",
          "model_name": "LayoutModel",
          "model_module_version": "1.2.0",
          "state": {
            "_view_name": "LayoutView",
            "grid_template_rows": null,
            "right": null,
            "justify_content": null,
            "_view_module": "@jupyter-widgets/base",
            "overflow": null,
            "_model_module_version": "1.2.0",
            "_view_count": null,
            "flex_flow": null,
            "width": null,
            "min_width": null,
            "border": null,
            "align_items": null,
            "bottom": null,
            "_model_module": "@jupyter-widgets/base",
            "top": null,
            "grid_column": null,
            "overflow_y": null,
            "overflow_x": null,
            "grid_auto_flow": null,
            "grid_area": null,
            "grid_template_columns": null,
            "flex": null,
            "_model_name": "LayoutModel",
            "justify_items": null,
            "grid_row": null,
            "max_height": null,
            "align_content": null,
            "visibility": null,
            "align_self": null,
            "height": null,
            "min_height": null,
            "padding": null,
            "grid_auto_rows": null,
            "grid_gap": null,
            "max_width": null,
            "order": null,
            "_view_module_version": "1.2.0",
            "grid_template_areas": null,
            "object_position": null,
            "object_fit": null,
            "grid_auto_columns": null,
            "margin": null,
            "display": null,
            "left": null
          }
        },
        "66a578d4d62845d498c3576c18f77aa7": {
          "model_module": "@jupyter-widgets/controls",
          "model_name": "ProgressStyleModel",
          "model_module_version": "1.5.0",
          "state": {
            "_view_name": "StyleView",
            "_model_name": "ProgressStyleModel",
            "description_width": "",
            "_view_module": "@jupyter-widgets/base",
            "_model_module_version": "1.5.0",
            "_view_count": null,
            "_view_module_version": "1.2.0",
            "bar_color": null,
            "_model_module": "@jupyter-widgets/controls"
          }
        },
        "4e4a29f189ee490b95e245db65317d33": {
          "model_module": "@jupyter-widgets/base",
          "model_name": "LayoutModel",
          "model_module_version": "1.2.0",
          "state": {
            "_view_name": "LayoutView",
            "grid_template_rows": null,
            "right": null,
            "justify_content": null,
            "_view_module": "@jupyter-widgets/base",
            "overflow": null,
            "_model_module_version": "1.2.0",
            "_view_count": null,
            "flex_flow": null,
            "width": null,
            "min_width": null,
            "border": null,
            "align_items": null,
            "bottom": null,
            "_model_module": "@jupyter-widgets/base",
            "top": null,
            "grid_column": null,
            "overflow_y": null,
            "overflow_x": null,
            "grid_auto_flow": null,
            "grid_area": null,
            "grid_template_columns": null,
            "flex": null,
            "_model_name": "LayoutModel",
            "justify_items": null,
            "grid_row": null,
            "max_height": null,
            "align_content": null,
            "visibility": null,
            "align_self": null,
            "height": null,
            "min_height": null,
            "padding": null,
            "grid_auto_rows": null,
            "grid_gap": null,
            "max_width": null,
            "order": null,
            "_view_module_version": "1.2.0",
            "grid_template_areas": null,
            "object_position": null,
            "object_fit": null,
            "grid_auto_columns": null,
            "margin": null,
            "display": null,
            "left": null
          }
        },
        "c9d4ae9fab0e484b8ccde72d01289422": {
          "model_module": "@jupyter-widgets/controls",
          "model_name": "DescriptionStyleModel",
          "model_module_version": "1.5.0",
          "state": {
            "_view_name": "StyleView",
            "_model_name": "DescriptionStyleModel",
            "description_width": "",
            "_view_module": "@jupyter-widgets/base",
            "_model_module_version": "1.5.0",
            "_view_count": null,
            "_view_module_version": "1.2.0",
            "_model_module": "@jupyter-widgets/controls"
          }
        },
        "9352dee2c683493aaa1bef885a5ca673": {
          "model_module": "@jupyter-widgets/base",
          "model_name": "LayoutModel",
          "model_module_version": "1.2.0",
          "state": {
            "_view_name": "LayoutView",
            "grid_template_rows": null,
            "right": null,
            "justify_content": null,
            "_view_module": "@jupyter-widgets/base",
            "overflow": null,
            "_model_module_version": "1.2.0",
            "_view_count": null,
            "flex_flow": null,
            "width": null,
            "min_width": null,
            "border": null,
            "align_items": null,
            "bottom": null,
            "_model_module": "@jupyter-widgets/base",
            "top": null,
            "grid_column": null,
            "overflow_y": null,
            "overflow_x": null,
            "grid_auto_flow": null,
            "grid_area": null,
            "grid_template_columns": null,
            "flex": null,
            "_model_name": "LayoutModel",
            "justify_items": null,
            "grid_row": null,
            "max_height": null,
            "align_content": null,
            "visibility": null,
            "align_self": null,
            "height": null,
            "min_height": null,
            "padding": null,
            "grid_auto_rows": null,
            "grid_gap": null,
            "max_width": null,
            "order": null,
            "_view_module_version": "1.2.0",
            "grid_template_areas": null,
            "object_position": null,
            "object_fit": null,
            "grid_auto_columns": null,
            "margin": null,
            "display": null,
            "left": null
          }
        }
      }
    }
  },
  "cells": [
    {
      "cell_type": "markdown",
      "metadata": {
        "id": "view-in-github",
        "colab_type": "text"
      },
      "source": [
        "<a href=\"https://colab.research.google.com/github/happy-jihye/face-vid2vid-demo/blob/main/colab_demo.ipynb\" target=\"_parent\"><img src=\"https://colab.research.google.com/assets/colab-badge.svg\" alt=\"Open In Colab\"/></a>"
      ]
    },
    {
      "cell_type": "markdown",
      "metadata": {
        "id": "yyswoNCpa8AK"
      },
      "source": [
        "# Face Vid2Vid Demo\n",
        "\n",
        "- Paper: One-Shot Free-View Neural Talking-Head Synthesis for Video Conferencing (CVPR 2021): [project](https://nvlabs.github.io/face-vid2vid/), [arxiv](https://arxiv.org/abs/2011.15126)\n",
        "- 👩🏻‍💻 Developer : [Jihye Back](https://github.com/happy-jihye)\n",
        "\n",
        "This notebooks is an unofficial demo web app of the `face video2video`.\n",
        "\n",
        "The codes are heavily based on [this code, created by `zhanglonghao1992`](https://github.com/zhanglonghao1992/One-Shot_Free-View_Neural_Talking_Head_Synthesis) (thank you!😊).\n",
        "\n",
        "---"
      ]
    },
    {
      "cell_type": "code",
      "metadata": {
        "colab": {
          "base_uri": "https://localhost:8080/"
        },
        "id": "7k9g9jPzV0bi",
        "cellView": "form",
        "outputId": "b34caab3-0357-4fc1-e7d6-03c84bf706f3"
      },
      "source": [
        "#@markdown ## 1. Git clone & download pretrained model (by zhanglonghao1992)\n",
        "!git clone https://github.com/happy-jihye/One-Shot_Free-View_Neural_Talking_Head_Synthesis.git face-vid2vid-demo\n",
        "\n",
        "!pip install -q gradio\n",
        "!pip install face_alignment\n",
        "\n",
        "%cd face-vid2vid-demo\n",
        "\n",
        "# download pretrained model (by zhanglonghao1992)\n",
        "!mkdir ckpt\n",
        "!gdown https://drive.google.com/uc?id=1ghvzYXdmiCuX5I757id73jWuRLMCzXAX -O ckpt/00000189-checkpoint.pth.tar"
      ],
      "execution_count": 1,
      "outputs": [
        {
          "output_type": "stream",
          "name": "stdout",
          "text": [
            "Cloning into 'face-vid2vid-demo'...\n",
            "remote: Enumerating objects: 312, done.\u001b[K\n",
            "remote: Counting objects: 100% (312/312), done.\u001b[K\n",
            "remote: Compressing objects: 100% (293/293), done.\u001b[K\n",
            "remote: Total 312 (delta 164), reused 34 (delta 6), pack-reused 0\u001b[K\n",
            "Receiving objects: 100% (312/312), 9.13 MiB | 23.38 MiB/s, done.\n",
            "Resolving deltas: 100% (164/164), done.\n",
            "\u001b[K     |████████████████████████████████| 979 kB 5.5 MB/s \n",
            "\u001b[K     |████████████████████████████████| 2.0 MB 31.2 MB/s \n",
            "\u001b[K     |████████████████████████████████| 206 kB 49.0 MB/s \n",
            "\u001b[K     |████████████████████████████████| 961 kB 43.5 MB/s \n",
            "\u001b[K     |████████████████████████████████| 63 kB 2.1 MB/s \n",
            "\u001b[K     |████████████████████████████████| 3.6 MB 48.1 MB/s \n",
            "\u001b[?25h  Building wheel for ffmpy (setup.py) ... \u001b[?25l\u001b[?25hdone\n",
            "  Building wheel for flask-cachebuster (setup.py) ... \u001b[?25l\u001b[?25hdone\n",
            "Collecting face_alignment\n",
            "  Downloading face_alignment-1.3.5.tar.gz (27 kB)\n",
            "Requirement already satisfied: torch in /usr/local/lib/python3.7/dist-packages (from face_alignment) (1.10.0+cu111)\n",
            "Requirement already satisfied: numpy in /usr/local/lib/python3.7/dist-packages (from face_alignment) (1.19.5)\n",
            "Requirement already satisfied: scipy>=0.17 in /usr/local/lib/python3.7/dist-packages (from face_alignment) (1.4.1)\n",
            "Requirement already satisfied: scikit-image in /usr/local/lib/python3.7/dist-packages (from face_alignment) (0.18.3)\n",
            "Requirement already satisfied: opencv-python in /usr/local/lib/python3.7/dist-packages (from face_alignment) (4.1.2.30)\n",
            "Requirement already satisfied: tqdm in /usr/local/lib/python3.7/dist-packages (from face_alignment) (4.62.3)\n",
            "Requirement already satisfied: numba in /usr/local/lib/python3.7/dist-packages (from face_alignment) (0.51.2)\n",
            "Requirement already satisfied: llvmlite<0.35,>=0.34.0.dev0 in /usr/local/lib/python3.7/dist-packages (from numba->face_alignment) (0.34.0)\n",
            "Requirement already satisfied: setuptools in /usr/local/lib/python3.7/dist-packages (from numba->face_alignment) (57.4.0)\n",
            "Requirement already satisfied: matplotlib!=3.0.0,>=2.0.0 in /usr/local/lib/python3.7/dist-packages (from scikit-image->face_alignment) (3.2.2)\n",
            "Requirement already satisfied: networkx>=2.0 in /usr/local/lib/python3.7/dist-packages (from scikit-image->face_alignment) (2.6.3)\n",
            "Requirement already satisfied: PyWavelets>=1.1.1 in /usr/local/lib/python3.7/dist-packages (from scikit-image->face_alignment) (1.2.0)\n",
            "Requirement already satisfied: tifffile>=2019.7.26 in /usr/local/lib/python3.7/dist-packages (from scikit-image->face_alignment) (2021.11.2)\n",
            "Requirement already satisfied: pillow!=7.1.0,!=7.1.1,>=4.3.0 in /usr/local/lib/python3.7/dist-packages (from scikit-image->face_alignment) (7.1.2)\n",
            "Requirement already satisfied: imageio>=2.3.0 in /usr/local/lib/python3.7/dist-packages (from scikit-image->face_alignment) (2.4.1)\n",
            "Requirement already satisfied: pyparsing!=2.0.4,!=2.1.2,!=2.1.6,>=2.0.1 in /usr/local/lib/python3.7/dist-packages (from matplotlib!=3.0.0,>=2.0.0->scikit-image->face_alignment) (3.0.6)\n",
            "Requirement already satisfied: kiwisolver>=1.0.1 in /usr/local/lib/python3.7/dist-packages (from matplotlib!=3.0.0,>=2.0.0->scikit-image->face_alignment) (1.3.2)\n",
            "Requirement already satisfied: cycler>=0.10 in /usr/local/lib/python3.7/dist-packages (from matplotlib!=3.0.0,>=2.0.0->scikit-image->face_alignment) (0.11.0)\n",
            "Requirement already satisfied: python-dateutil>=2.1 in /usr/local/lib/python3.7/dist-packages (from matplotlib!=3.0.0,>=2.0.0->scikit-image->face_alignment) (2.8.2)\n",
            "Requirement already satisfied: six>=1.5 in /usr/local/lib/python3.7/dist-packages (from python-dateutil>=2.1->matplotlib!=3.0.0,>=2.0.0->scikit-image->face_alignment) (1.15.0)\n",
            "Requirement already satisfied: typing-extensions in /usr/local/lib/python3.7/dist-packages (from torch->face_alignment) (3.10.0.2)\n",
            "Building wheels for collected packages: face-alignment\n",
            "  Building wheel for face-alignment (setup.py) ... \u001b[?25l\u001b[?25hdone\n",
            "  Created wheel for face-alignment: filename=face_alignment-1.3.5-py2.py3-none-any.whl size=28239 sha256=4b3b6f6bcd742c15e45c74c38178e02181f5441e252f6ec09c27c0762ecffccb\n",
            "  Stored in directory: /root/.cache/pip/wheels/c9/ba/4d/2d368f55e5f929f9472da59e356fbdf1483f885de80a5bc620\n",
            "Successfully built face-alignment\n",
            "Installing collected packages: face-alignment\n",
            "Successfully installed face-alignment-1.3.5\n",
            "/content/face-vid2vid-demo\n",
            "Downloading...\n",
            "From: https://drive.google.com/uc?id=1ghvzYXdmiCuX5I757id73jWuRLMCzXAX\n",
            "To: /content/face-vid2vid-demo/ckpt/00000189-checkpoint.pth.tar\n",
            "100% 2.11G/2.11G [00:17<00:00, 122MB/s]\n"
          ]
        }
      ]
    },
    {
      "cell_type": "code",
      "metadata": {
        "id": "bD8NKyYhYFWD",
        "cellView": "form",
        "outputId": "52e20cfc-9e9f-4592-8fa2-bcaf1407e0ab",
        "colab": {
          "base_uri": "https://localhost:8080/"
        }
      },
      "source": [
        "#@markdown ## 2. import libraries & load checkpoints\n",
        "\n",
        "import os\n",
        "import yaml\n",
        "\n",
        "import imageio, cv2\n",
        "from moviepy.editor import *\n",
        "from skimage.transform import resize\n",
        "from skimage import img_as_ubyte\n",
        "import PIL.Image\n",
        "import face_alignment\n",
        "from ffhq_align import image_align\n",
        "\n",
        "from demo import load_checkpoints, make_animation, find_best_frame\n",
        "import gradio as gr\n",
        "\n",
        "config = 'config/vox-256-spade.yaml'\n",
        "checkpoint = 'ckpt/00000189-checkpoint.pth.tar'\n",
        "gen = 'spade'\n",
        "cpu = False\n",
        "\n",
        "generator, kp_detector, he_estimator = load_checkpoints(config_path=config, \n",
        "                                                        checkpoint_path=checkpoint, \n",
        "                                                        gen=gen, cpu=cpu)\n"
      ],
      "execution_count": 2,
      "outputs": [
        {
          "output_type": "stream",
          "name": "stdout",
          "text": [
            "Imageio: 'ffmpeg-linux64-v3.3.1' was not found on your computer; downloading it now.\n",
            "Try 1. Download from https://github.com/imageio/imageio-binaries/raw/master/ffmpeg/ffmpeg-linux64-v3.3.1 (43.8 MB)\n",
            "Downloading: 8192/45929032 bytes (0.0%)\b\b\b\b\b\b\b\b\b\b\b\b\b\b\b\b\b\b\b\b\b\b\b\b\b\b2351104/45929032 bytes (5.1%)\b\b\b\b\b\b\b\b\b\b\b\b\b\b\b\b\b\b\b\b\b\b\b\b\b\b\b\b\b5644288/45929032 bytes (12.3%)\b\b\b\b\b\b\b\b\b\b\b\b\b\b\b\b\b\b\b\b\b\b\b\b\b\b\b\b\b\b8790016/45929032 bytes (19.1%)\b\b\b\b\b\b\b\b\b\b\b\b\b\b\b\b\b\b\b\b\b\b\b\b\b\b\b\b\b\b11919360/45929032 bytes (26.0%)\b\b\b\b\b\b\b\b\b\b\b\b\b\b\b\b\b\b\b\b\b\b\b\b\b\b\b\b\b\b\b15196160/45929032 bytes (33.1%)\b\b\b\b\b\b\b\b\b\b\b\b\b\b\b\b\b\b\b\b\b\b\b\b\b\b\b\b\b\b\b18546688/45929032 bytes (40.4%)\b\b\b\b\b\b\b\b\b\b\b\b\b\b\b\b\b\b\b\b\b\b\b\b\b\b\b\b\b\b\b21774336/45929032 bytes (47.4%)\b\b\b\b\b\b\b\b\b\b\b\b\b\b\b\b\b\b\b\b\b\b\b\b\b\b\b\b\b\b\b25034752/45929032 bytes (54.5%)\b\b\b\b\b\b\b\b\b\b\b\b\b\b\b\b\b\b\b\b\b\b\b\b\b\b\b\b\b\b\b28450816/45929032 bytes (61.9%)\b\b\b\b\b\b\b\b\b\b\b\b\b\b\b\b\b\b\b\b\b\b\b\b\b\b\b\b\b\b\b31735808/45929032 bytes (69.1%)\b\b\b\b\b\b\b\b\b\b\b\b\b\b\b\b\b\b\b\b\b\b\b\b\b\b\b\b\b\b\b34979840/45929032 bytes (76.2%)\b\b\b\b\b\b\b\b\b\b\b\b\b\b\b\b\b\b\b\b\b\b\b\b\b\b\b\b\b\b\b38412288/45929032 bytes (83.6%)\b\b\b\b\b\b\b\b\b\b\b\b\b\b\b\b\b\b\b\b\b\b\b\b\b\b\b\b\b\b\b41664512/45929032 bytes (90.7%)\b\b\b\b\b\b\b\b\b\b\b\b\b\b\b\b\b\b\b\b\b\b\b\b\b\b\b\b\b\b\b44990464/45929032 bytes (98.0%)\b\b\b\b\b\b\b\b\b\b\b\b\b\b\b\b\b\b\b\b\b\b\b\b\b\b\b\b\b\b\b45929032/45929032 bytes (100.0%)\n",
            "  Done\n",
            "File saved as /root/.imageio/ffmpeg/ffmpeg-linux64-v3.3.1.\n"
          ]
        }
      ]
    },
    {
      "cell_type": "markdown",
      "metadata": {
        "id": "u6vB2ed2JcI_"
      },
      "source": [
        "## 3. Inference ✨\n"
      ]
    },
    {
      "cell_type": "code",
      "metadata": {
        "colab": {
          "resources": {
            "http://localhost:8080/nbextensions/google.colab/files.js": {
              "data": "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",
              "ok": true,
              "headers": [
                [
                  "content-type",
                  "application/javascript"
                ]
              ],
              "status": 200,
              "status_text": ""
            }
          },
          "base_uri": "https://localhost:8080/",
          "height": 269
        },
        "id": "gn3ELIApJCrH",
        "cellView": "form",
        "outputId": "43af31c2-c5be-4c72-a917-bcbca2dae694"
      },
      "source": [
        "#@markdown ### 3.1 Upload Image & Videos\n",
        "#@markdown - If you want to inference with the image you want, you have to align the image.\n",
        "#@markdown - refer to [this repo](https://github.com/happy-jihye/FFHQ-Alignment).\n",
        "\n",
        "from google.colab import files\n",
        "\n",
        "# images --------------------------------------------\n",
        "uploaded_image = list(files.upload().keys())\n",
        "os.makedirs('asset/raw_image', exist_ok=True)\n",
        "os.makedirs('asset/aligned_image', exist_ok=True)\n",
        "\n",
        "for img in uploaded_image:\n",
        "  os.system(f'mv {img} asset/raw_image')\n",
        "  \n",
        "# image align\n",
        "landmarks_detector = face_alignment.FaceAlignment(face_alignment.LandmarksType._3D, flip_input=False)\n",
        "\n",
        "for img_name in uploaded_image:\n",
        "    if img_name == '.ipynb_checkpoints': continue\n",
        "    raw_img_path = os.path.join('./asset/raw_image', img_name)\n",
        "    print(raw_img_path)\n",
        "\n",
        "    for i, face_landmarks in enumerate(landmarks_detector.get_landmarks(raw_img_path), start=1):\n",
        "        aligned_face_path = os.path.join('./asset/aligned_image', img_name)\n",
        "        result_img = image_align(raw_img_path, face_landmarks)\n",
        "        result_img.save(aligned_face_path, 'PNG')\n",
        "\n",
        "# video --------------------------------------------\n",
        "uploaded_video = list(files.upload().keys())\n"
      ],
      "execution_count": 7,
      "outputs": [
        {
          "output_type": "display_data",
          "data": {
            "text/html": [
              "\n",
              "     <input type=\"file\" id=\"files-2a3ef6ad-0d01-4e91-af43-ea6c11be6db6\" name=\"files[]\" multiple disabled\n",
              "        style=\"border:none\" />\n",
              "     <output id=\"result-2a3ef6ad-0d01-4e91-af43-ea6c11be6db6\">\n",
              "      Upload widget is only available when the cell has been executed in the\n",
              "      current browser session. Please rerun this cell to enable.\n",
              "      </output>\n",
              "      <script src=\"/nbextensions/google.colab/files.js\"></script> "
            ],
            "text/plain": [
              "<IPython.core.display.HTML object>"
            ]
          },
          "metadata": {}
        },
        {
          "output_type": "stream",
          "name": "stdout",
          "text": [
            "Saving asdfasdf.jpg to asdfasdf.jpg\n",
            "Saving art_15570315345037_b62896.jpg to art_15570315345037_b62896.jpg\n",
            "Saving 430656_545497_2640.jpg to 430656_545497_2640.jpg\n",
            "./asset/raw_image/asdfasdf.jpg\n",
            "./asset/raw_image/art_15570315345037_b62896.jpg\n",
            "./asset/raw_image/430656_545497_2640.jpg\n"
          ]
        },
        {
          "output_type": "display_data",
          "data": {
            "text/html": [
              "\n",
              "     <input type=\"file\" id=\"files-274486d2-e773-488a-afb3-148b317f37a6\" name=\"files[]\" multiple disabled\n",
              "        style=\"border:none\" />\n",
              "     <output id=\"result-274486d2-e773-488a-afb3-148b317f37a6\">\n",
              "      Upload widget is only available when the cell has been executed in the\n",
              "      current browser session. Please rerun this cell to enable.\n",
              "      </output>\n",
              "      <script src=\"/nbextensions/google.colab/files.js\"></script> "
            ],
            "text/plain": [
              "<IPython.core.display.HTML object>"
            ]
          },
          "metadata": {}
        },
        {
          "output_type": "stream",
          "name": "stdout",
          "text": [
            "Saving 5.mp4 to 5.mp4\n"
          ]
        }
      ]
    },
    {
      "cell_type": "code",
      "metadata": {
        "colab": {
          "base_uri": "https://localhost:8080/",
          "height": 355,
          "referenced_widgets": [
            "134f90c3a6104e529c6167f2af7fe021",
            "fc674b7f4dbe43c5afeffe785594316b",
            "45c7088cafdd4fcca122f83335d818ed",
            "ef17c4989e12490393873ccd5aa1ab45",
            "252cc971d1b4439595a99b3d48d5840f",
            "2c1040ac285b4999a86327591763a4b9",
            "6ca6419bf38843cd8b8f958d2f247ecd",
            "66a578d4d62845d498c3576c18f77aa7",
            "4e4a29f189ee490b95e245db65317d33",
            "c9d4ae9fab0e484b8ccde72d01289422",
            "9352dee2c683493aaa1bef885a5ca673"
          ]
        },
        "cellView": "form",
        "id": "Z16XSJLZKtv4",
        "outputId": "768c4517-96bc-484d-f41d-12b0bb17d583"
      },
      "source": [
        "#@markdown ### 3.2 Generated Video\n",
        "\n",
        "source_list = [f'./asset/aligned_image/{img}' for img in uploaded_image]\n",
        "driving = uploaded_video[0]\n",
        "\n",
        "# saving path\n",
        "os.makedirs('asset/output', exist_ok=True)\n",
        "\n",
        "find_best_frame_ = True #@param {type:\"boolean\"}\n",
        "free_view = False #@param {type:\"boolean\"}\n",
        "yaw = 0 #@param {type:\"slider\", min:-90, max:90, step:1}\n",
        "pitch = 0 #@param {type:\"slider\", min:-90, max:90, step:1}\n",
        "roll = 0 #@param {type:\"slider\", min:-90, max:90, step:1}\n",
        "\n",
        "cpu = False\n",
        "best_frame = None\n",
        "relative = True #@param {type:\"boolean\"}\n",
        "adapt_scale = True #@param {type:\"boolean\"}\n",
        "estimate_jacobian = False #@param {type:\"boolean\"}\n",
        "\n",
        "\n",
        "# driving\n",
        "reader = imageio.get_reader(driving)\n",
        "fps = reader.get_meta_data()['fps']\n",
        "driving_video = []\n",
        "\n",
        "try:\n",
        "  for im in reader:\n",
        "    driving_video.append(im)\n",
        "except RuntimeError:\n",
        "  pass\n",
        "reader.close()\n",
        "driving_video = [resize(frame, (256, 256))[..., :3] for frame in driving_video]\n",
        "\n",
        "source_images = []\n",
        "final = []\n",
        "for idx, source in enumerate(source_list):\n",
        "    print(source)\n",
        "    # source \n",
        "    source_image = cv2.imread(source)\n",
        "    source_image = cv2.cvtColor(source_image,cv2.COLOR_BGR2RGB)\n",
        "    source_image = resize(source_image, (256, 256))[..., :3]\n",
        "    source_images.append(source_image)\n",
        "    \n",
        "    # inference\n",
        "    if find_best_frame_ or best_frame is not None:\n",
        "        i = best_frame if best_frame is not None else find_best_frame(source_image, driving_video, cpu=cpu)\n",
        "        print (\"Best frame: \" + str(i))\n",
        "        driving_forward = driving_video[i:]\n",
        "        driving_backward = driving_video[:(i+1)][::-1]\n",
        "        predictions_forward = make_animation(source_image, driving_forward, generator, kp_detector, he_estimator, relative=relative, adapt_movement_scale=adapt_scale, estimate_jacobian=estimate_jacobian, cpu=cpu, free_view=free_view, yaw=yaw, pitch=pitch, roll=roll)\n",
        "        predictions_backward = make_animation(source_image, driving_backward, generator, kp_detector, he_estimator, relative=relative, adapt_movement_scale=adapt_scale, estimate_jacobian=estimate_jacobian, cpu=cpu, free_view=free_view, yaw=yaw, pitch=pitch, roll=roll)\n",
        "        predictions = predictions_backward[::-1] + predictions_forward[1:]\n",
        "    else:\n",
        "        predictions = make_animation(source_image, driving_video, generator, kp_detector, he_estimator, relative=relative, adapt_movement_scale=adapt_scale, estimate_jacobian=estimate_jacobian, cpu=cpu, free_view=free_view, yaw=yaw, pitch=pitch, roll=roll)\n",
        "\n",
        "    imageio.mimsave(f'asset/output/{idx}.mp4', [img_as_ubyte(frame) for frame in predictions])\n",
        "    final.append(predictions)\n",
        "    "
      ],
      "execution_count": 8,
      "outputs": [
        {
          "output_type": "stream",
          "name": "stdout",
          "text": [
            "./asset/aligned_image/asdfasdf.jpg\n"
          ]
        },
        {
          "output_type": "stream",
          "name": "stderr",
          "text": [
            "Downloading: \"https://www.adrianbulat.com/downloads/python-fan/2DFAN4-cd938726ad.zip\" to /root/.cache/torch/hub/checkpoints/2DFAN4-cd938726ad.zip\n"
          ]
        },
        {
          "output_type": "display_data",
          "data": {
            "application/vnd.jupyter.widget-view+json": {
              "model_id": "134f90c3a6104e529c6167f2af7fe021",
              "version_minor": 0,
              "version_major": 2
            },
            "text/plain": [
              "  0%|          | 0.00/91.9M [00:00<?, ?B/s]"
            ]
          },
          "metadata": {}
        },
        {
          "output_type": "stream",
          "name": "stderr",
          "text": [
            "51it [00:11,  4.51it/s]\n"
          ]
        },
        {
          "output_type": "stream",
          "name": "stdout",
          "text": [
            "Best frame: 34\n"
          ]
        },
        {
          "output_type": "stream",
          "name": "stderr",
          "text": [
            "100%|██████████| 17/17 [00:20<00:00,  1.23s/it]\n",
            "100%|██████████| 35/35 [00:33<00:00,  1.04it/s]\n"
          ]
        },
        {
          "output_type": "stream",
          "name": "stdout",
          "text": [
            "./asset/aligned_image/art_15570315345037_b62896.jpg\n"
          ]
        },
        {
          "output_type": "stream",
          "name": "stderr",
          "text": [
            "51it [00:11,  4.45it/s]\n"
          ]
        },
        {
          "output_type": "stream",
          "name": "stdout",
          "text": [
            "Best frame: 0\n"
          ]
        },
        {
          "output_type": "stream",
          "name": "stderr",
          "text": [
            "100%|██████████| 51/51 [00:48<00:00,  1.04it/s]\n",
            "100%|██████████| 1/1 [00:00<00:00,  1.06it/s]\n"
          ]
        },
        {
          "output_type": "stream",
          "name": "stdout",
          "text": [
            "./asset/aligned_image/430656_545497_2640.jpg\n"
          ]
        },
        {
          "output_type": "stream",
          "name": "stderr",
          "text": [
            "51it [00:11,  4.45it/s]\n"
          ]
        },
        {
          "output_type": "stream",
          "name": "stdout",
          "text": [
            "Best frame: 34\n"
          ]
        },
        {
          "output_type": "stream",
          "name": "stderr",
          "text": [
            "100%|██████████| 17/17 [00:16<00:00,  1.04it/s]\n",
            "100%|██████████| 35/35 [00:33<00:00,  1.04it/s]\n"
          ]
        }
      ]
    },
    {
      "cell_type": "code",
      "metadata": {
        "colab": {
          "base_uri": "https://localhost:8080/",
          "height": 320
        },
        "cellView": "form",
        "id": "4GPmS9lgT7Lc",
        "outputId": "118c1071-c5ba-4b86-b82c-ca98fb91a701"
      },
      "source": [
        "#@markdown ### 3.3 Make & Show Generated Video\n",
        "\n",
        "# display\n",
        "# https://github.com/tg-bomze/Face-Image-Motion-Model\n",
        "\n",
        "import matplotlib.pyplot as plt\n",
        "import base64\n",
        "import numpy as np\n",
        "import matplotlib.animation as animation\n",
        "\n",
        "placeholder_bytes = base64.b64decode('iVBORw0KGgoAAAANSUhEUgAAAAEAAAABCAQAAAC1HAwCAAAAC0lEQVR42mP8/x8AAwMCAO+ip1sAAAAASUVORK5CYII=')\n",
        "placeholder_image = imageio.imread(placeholder_bytes, '.png')\n",
        "placeholder_image = resize(placeholder_image, (256, 256))[..., :3]\n",
        "\n",
        "def display(source, driving, generated=None):\n",
        "    fig = plt.figure(figsize=(8 + 4 * (generated is not None), 6))\n",
        "    ims = []\n",
        "    for i in range(len(driving)):\n",
        "        cols = [[placeholder_image], []]\n",
        "        for sourceitem in source:\n",
        "            cols[0].append(sourceitem)\n",
        "        cols[1].append(driving[i])\n",
        "        if generated is not None:\n",
        "            for generateditem in generated:\n",
        "                cols[1].append(generateditem[i])\n",
        "\n",
        "        endcols = []\n",
        "        for thiscol in cols:\n",
        "            endcols.append(np.concatenate(thiscol, axis=1))\n",
        "\n",
        "        im = plt.imshow(np.vstack(endcols), animated=True) # np.concatenate(cols[0], axis=1)\n",
        "        plt.axis('off')\n",
        "        ims.append([im])\n",
        "    ani = animation.ArtistAnimation(fig, ims, interval=50, repeat_delay=1000)\n",
        "    plt.close()\n",
        "    return ani\n",
        "\n",
        "final_video = display(source_images, driving_video, final)\n",
        "final_video.save(f'asset/output/final.mp4', fps=fps)\n",
        "\n",
        "from IPython.display import HTML\n",
        "from base64 import b64encode\n",
        "mp4 = open('asset/output/final.mp4','rb').read()\n",
        "data_url = \"data:video/mp4;base64,\" + b64encode(mp4).decode()\n",
        "HTML(\"\"\"\n",
        "<video width=600 controls>\n",
        "      <source src=\"%s\" type=\"video/mp4\">\n",
        "</video>\n",
        "\"\"\" % data_url)"
      ],
      "execution_count": 9,
      "outputs": [
        {
          "output_type": "execute_result",
          "data": {
            "text/html": [
              "\n",
              "<video width=600 controls>\n",
              "      <source src=\"data:video/mp4;base64,AAAAIGZ0eXBpc29tAAACAGlzb21pc28yYXZjMW1wNDEAAAAIZnJlZQABxeptZGF0AAACrgYF//+q3EXpvebZSLeWLNgg2SPu73gyNjQgLSBjb3JlIDE1MiByMjg1NCBlOWE1OTAzIC0gSC4yNjQvTVBFRy00IEFWQyBjb2RlYyAtIENvcHlsZWZ0IDIwMDMtMjAxNyAtIGh0dHA6Ly93d3cudmlkZW9sYW4ub3JnL3gyNjQuaHRtbCAtIG9wdGlvbnM6IGNhYmFjPTEgcmVmPTMgZGVibG9jaz0xOjA6MCBhbmFseXNlPTB4MzoweDExMyBtZT1oZXggc3VibWU9NyBwc3k9MSBwc3lfcmQ9MS4wMDowLjAwIG1peGVkX3JlZj0xIG1lX3JhbmdlPTE2IGNocm9tYV9tZT0xIHRyZWxsaXM9MSA4eDhkY3Q9MSBjcW09MCBkZWFkem9uZT0yMSwxMSBmYXN0X3Bza2lwPTEgY2hyb21hX3FwX29mZnNldD0tMiB0aHJlYWRzPTMgbG9va2FoZWFkX3RocmVhZHM9MSBzbGljZWRfdGhyZWFkcz0wIG5yPTAgZGVjaW1hdGU9MSBpbnRlcmxhY2VkPTAgYmx1cmF5X2NvbXBhdD0wIGNvbnN0cmFpbmVkX2ludHJhPTAgYmZyYW1lcz0zIGJfcHlyYW1pZD0yIGJfYWRhcHQ9MSBiX2JpYXM9MCBkaXJlY3Q9MSB3ZWlnaHRiPTEgb3Blbl9nb3A9MCB3ZWlnaHRwPTIga2V5aW50PTI1MCBrZXlpbnRfbWluPTE1IHNjZW5lY3V0PTQwIGludHJhX3JlZnJlc2g9MCByY19sb29rYWhlYWQ9NDAgcmM9Y3JmIG1idHJlZT0xIGNyZj0yMy4wIHFjb21wPTAuNjAgcXBtaW49MCBxcG1heD02OSBxcHN0ZXA9NCBpcF9yYXRpbz0xLjQwIGFxPTE6MS4wMACAAAB0JWWIhAAQ//73gb8yy18iuslx+ed9LKzPPOQ8cl2JrrjQAAADAAADAAADAAYjEjf+h/F4zfwAAAMAALcAGHdI+lwI3PYBsao+yWdVIvw3hMhPR0uWOY8k4dR0ZrQm4o04gB/moAtWXVBaXQ1Pe4au9fCQz3Q4calwSfZrazk6Q54gfUyUI1+I4gz7WUITUw6niN4ECf5/h1V7AKih8NC9Sv09B939vtA5QlPTAGkNbofSH3F5Z9gRQv43L5LpNeThGOAgsh4RFw7GPOdtCuUPSbnGL+Qmr/EBwoym4nAxtl+E6ELYw5qISYWYxEwNhKRttAOrT+V5LPPls4V00fbTvXt0oWPij3F2BHdOLTlNcTMsYlduOHp/9BIwHhtHloqbfaq2csKQXKUQMDgc1JHBUD+MZkiym4G5yCEX43e+T/Vydftr/L8GkK4aR/2YKYPazkuDRwZuyt2Voq3SMODZcGonYQpNxPgcZQYa66pWGE6YBH+NOfcXetdu2G002UmXHpjmo14ds1y9wfcNzPpOtfRYgI8H9gTHpVm5Be/My31VP5e7awdq4Em2/+Pyj1LneNWfNm7PGCvKplA8tnbeaTr4DqHFAgW55ncj5CqVlLfHolrUXovEputt/kXApeRrR9xXqcrUPw1kwMMlol+Ccu9Tbon7q/f9DVTi89a/4Wz9Pl4W4xCk56yKb9QgO9qsgVNmQKKSTjLpH72oYaGYRlbBNzG+wdtBrq2hgxY1aEFtH5ZA5Rjze6LDLRa+AmKUSdjbr5Fuv0RIZdCneEsrBCm5c7v3akFlx+KG5e0/ZZJqi/e227zyq+aUGQUT76xPT9knfLorbxwaktZJfZKzhRSm50RYGowrfslDkQg0YamgYaB7IIZmNRQp3N5drn6cHgJf9If4U3JhzGlSLJ6hMB2YlXaEzuppvjAs2hJNScVbpo4MhNX6TMYqpMuxmyZqCc3Sjd6qwa2xc55hUK+gE3qx3OH/txQQ/bV5bt6lhnfukTslKO7jp7BeE57Tw/jSUrjlww1b+dm3DyWJxZZDbZl916eReRzMRYN7BctaPD2lMeZqbIpV/82vaboH4wk/QJEsX+e5uNnZLCgIu9WEkXhkwPj//+TCbMzi7dsGr/qTAMidOraKLAAY3JfI5rZWafDHyzPGXghwEdz+27tz/kXlhZmSfqZQNwFhyUIr8rcFBTaSFAq1OvzW2JD3Q2dWN4csugV3/B5YuGgubbwesboWUTJhMjHlXop5hVVvPDeux+5DCn9yVQAv2sSVsCtJ9x7PMHBZeBv4kPocMHb/YEJVs9hAy3YpsSIiufCwRr2MfYkGEWKovz0iAXCkj87UL5nIi+ptd55dkcwa855Q5sTNHBNbr+XqbtHx22fuO1ToZeh1geNePhNiaCWCJ5dv/sg5DAoYyTDRFJPbipHEvdWVc8cXfJ0H+Aj6WGh6/DiaaofDPKLxKcT3qJi1xTG94mkmEvjfCuGgQ8uqmht6BtBcAb+chnlc3m2j5VdG3jy7tyqQKX1gxdcMfSKiIs0dEfkXa2/BOa1uMYzVmyO8/OWEXxH3u8pF45IC/tAq8TAtiPOQRapEGjkRBftzgKv/c4NNsmjXt2jrUNGPnnB1SiTh28DDRmmI8PwMbLwKvbfWv1Us/Ii7SWuD9A8lIXse1PuT66dNV3VbXcPJoYUIW3QvxiScTIejRr9TuJ5gfGmrfVxtLZksxK1a19uFcN/siEiNCOHksU/qYaYI6TuOfg84ChSy20KNgYt70mC7CUaH2c5g8GEkME0RmDUiy9sXtG5yLwxfPyFRBB/U9wQMZDURp4E2jXyluUyZmD2nkDJAa97rz83i0KYf8a4U9sYmELO/aiCRM7UAlgl2PaR4i0Zm5YdjKGQ4W4i9lXddugKYcpXyN6OT1LMEHbTly2Ynh9cq853G/8UkdmAChRyLwQ1CPal2POTZL87EfzmsR7jjz8/8w5GNIyiqf9Nguh9rmeqpM1v0Ems9OoLBGDDyyNsl7J2K7OXweIK5Pw+3zOcWMYqN2O6Br4FWqlmNIiSwxkRdykhMPM/k6WoeDQLIfSl9+GP8kdQqz4pxPM1b+2rf6uLJCcKmrxFiSQt3RQ1WgrdgoQjoPZjpMs5m/P7tq5sJ9fZ1HNdAY90UuwyV0RwRkGV2KIvM/Fbw/9FeEb5W86Ot+GTuyj07ZOMoq3qAhVqC0W+WCk5bSWT0DOeSPR3ul8ZKNVWF0bJubBkFv6oZx1xQlvgipkj4HGjNArS53m2wFGZNR7Q3KdliaEdeDo0Lsb80Sys2UsUPq/lVTodUTs/YtS0r3QRhTR45cvmRbSx7zWp3kStbFDWEGQfcCbMDdAgrZG/Mpqhv/Ie09DNFIBxPr2RztwHwpkVSgeyrH4DuDr9CAvq9W9eOwnlV8akp5dPRBsimY4Z+D7IacwrzbGBfrEASAm6wCZtBXTvNlfaLTfGVJ8NGBgwNot4HgkfYVjt9IXNE6VByXnuUL8yin5EEsWOR6dumMuoLE/kRt1Tis9dS09UlV6q8RyTVcCRbYcNjgn6TvN2t9fN9Yri7lZOsqRfHDKNxgxJutWVANPNUVKNC7vJqd9jxbYaMVe3FhDtxQmjLJ7W5hP3VIb8m/pc2OL2uxrPc34KU1jDsmVZ2letiTjbf+UyCHXKZbWTBC71ZXW/wKE133BNwH0iEaiFGgB5xLrnlIg5uezo8WsqgHe3aHYFqT78JbB+2OzZhhq6Xk4a7AR0AaNfMBM0OGCzeKTxGsy556O7OPRd8yBrC6X2WDwcLMkyxEit0KklPAo3eAgkeawBp4pTwgbvAGg88ShJkeFAFSJ4E2Zj0apOo3N4VruxN93OM5qN1nrkVZ76VM7686pBLLd+ugLkAYkgO+oKFgb7awb8/GvgroGp/VByHOSQ09hipoi0UmQs0rj2uScWumGyeCO8vypSJdBOSTaZ9pBhAxTWWlGzvRXe/uadbi5lQVYZPHANNG+VTDatV55DmXmoj9L+yOM1x7YmQDXm2iT9J3ou+hpEukqKY51ZDL/Tf3XWSbBsndl70NoSk1S1+zklNB2Q6DXShETRlEvG5yxLCLdUY35W2j89Z47YoYqg0XgLOHNgb+X/ydipB6HPSytyLynPLuWK8gYF0AkmZ/Dlv2Sd0CilJ31He7A2e3Q6XgbptXP6EDddfW3e0wKRySx85nQ4hxjKVnxWKI1YCtPDtQQum+SnWDRx8fu3EcDLvRMo7KWPTFtYhUc0fNHxc7iR6kImGpBkoW1y+EdU1a9EjGrutB180X1p+SwU6hQqSvOvlXdqARuS7JuJRGpcB4YqRRa+s+2GixkunNl5Uk7WZ96toFJ+JoAAATT7pxQCAXfcIG62aYlMb3uO3/bbeYBgAP1MzAiTYkdqIkNs/DARCAWGtpAI7/qN0Wix8TdEin7yhlogJkz0s9UFzWI1oeDqf3cAKN+zloEqdzgcLhEREh5wrQ11MzckJlfAxw3j9ODcgYAd3E5d12/BTJ8BtJVnMXtH7C8bSmZl8XF7/6eMJjnLbfFft996/i1m9V4AulPBy9DDSuKEZsUu2DW767gsEcoR1EpiHgN6wjtOmuci9bFCyS2VbKjTuPLwJAfdhnI5sRqAMZHyA1U7qk0r47OpS/m6vXZQR1L2d5ETNHhhO7+cy5HL6r2W1lx/fTMFf96k9g0HxWKkpwpEvAhTw0lVwFzzCtO0QvCGeYyUyc4mnGmwELMW0yyH8ceMKvliH6k4mxX8MawzAx0S85nNlLpX5MXa6bCX2gsFULOsFFYqQLkQ5WAInbn9onsrdaO0iaZm+PBx1yIvnW21sATiyD/a92Q3cTGD8cMj4e+f38bJz+eXwvB6ITxLcW7ASdTeE43v78ok244bcATzR8ZHh8QRqsC1aGSVw1iYo/FmUL78EqYnFA2RRGABEjT1Gjsl7/raOwPOn/hEhdv9HyB1VvLB+JSo9QIIvuSPQGbsHw4noyUcUMwqBDqcT0Ckv6V11fHOMzCbV/o//ARvYR4yqon+EY5i9m2tCJF6rgc49ozxIoNMeqvloB6k516OcVCfvkKCJ8LAbBuF8BK06A8uQOei3/6YAWaB4hgTDliC0bpaQzcVB1s70LY8l2QqhjUaoXcUfJ5O3JA2TBbLb36Si06gaa1+C+K2JhBUrFyLE3ub1PwW9mAnYox2lyyg/+vPMFzQzvPSaoommApMAUb5KbTLk0zqMuWZcsTQSfaWFxHaG43VNO5XpuUmdLMPyOH9OqDhfTv+9ffSK7H9aad5i6xKVwjQuQ2NEwyWDeyJVRSVXIiXRVRiNz0hWpxd0LmuZ4j3MH2L1dzOgbcJW3ks0CTVZtcWUvkcCtccAaF5lHLHlk+DSRb9d3cqWNZbTHWTxt0hmUFNukfGpJXXnThssMi9DpnIv+l+VD24DVrsnkQmOqKjLQklofWPo8/+6dgUPoRuoYZkX32tqqEbRronOsbxlYFyf14TP3ZoMpNOGbnqPcoS9jre6nQ9pG11qH4LNenbUg+hoJHQE9nMkZE5re0B7L+Y3cvX3UxF6Q3ggHm0/U+2nY5+Ij04OvJ388AWriAj8Pd4Up9ViTQ61vjzp2wcB+60bJq50r/hITKUSeuu+j57vA93vL8zq4/rxTtRqbLZSvSAvAg9fcG7FPfPGuS3BVzFJrfbyoC5sXyryky22I0oWC9HwdZL0+HVOBzi30rsPS+xI7K+BIUuR8nYNRQZHlIVCG5Wp6idTMhKrl/iKOxHIjW/zIwEfUPtTDbPKafJOiRZ+1k5+61sWo1IhSBFLGQz7i248RPqwRy7nL9Xer8DEToHaDId490pTvveYhdVDLBCBY14vPprLCGKNm57cUYT4bPFvK5oUjE1qg3ERp47Qhfki9fPDrtiWwyiedCrZkygSD+MO/tfPSbB9S4KxHxzoj8gM/l+1lg7RShfLhINkuWJHSZq4gUsO3+IBQpcw+pnTvrRidZVS+9wGx6m3IHBIBgFxVye4ARRSbjv9bV4tAHzzhTCXHqnWG1mgdUl236KI7PsAjRxPuT0RVRFmVRebUIRJo2cWNY5/OKx5A8UuJN9n6xAlparpb2ONkdPaI3gnIYDxBQLzjHq+lFPo/wwu4BAMqFE0E9msSMY8yIR9VHmBbQfJUsxLDDyColZsc3T2lkS8nHWsA1P9IyaVIz+yXcVEQnR9DH0SeG/97YNflBvj50eSsa7fAvW5LMlGsCOy2B/4CUiG9aqn6lIpY354jJ2asCl2Ju35fqpWWYVz4I5rWGE7DUX21LdRCgvu8+bbqv/sX+nAoTarp9h4G6mnIplACBwGPwAEvAm6NkgjXeJDHWwnPTEOHviKLO3NsVq9cfH219oclmqc6qIL3oEvd2DFJTgpUl9FLKabN9haXf7Q96aIURZOfbmRHM4jGM3E/NLGuUBI8nMj+IupnqGO/JTA9I8QtlLY+YaCgxA3zSEkBUZoJAF9+rOPHa4Gn9GP/jaQdGkq4h2HXZg4hdxBHb7Ez220e+U9iBM6tlvxmu4+mT1r6cJKk1ZvlJqi+ICaBaU7dD8QVDZNdp+24wh3shyOA7GjnceTnpXnzH/+PKQrkNnCKyOQYUAGAgCi/zJNj+Y1+mAYHAKEwg4mu0QHNYBYm5SusfZbyZGyVPh/luHFCxtyH95Q6pItMsVOBNa0qlZAu5X7dOs0+gHkkcvvdHgq+nbtF7WRqlNsY1y/FpM+/ht01qxJ8zRhrmkeynaXRbnHprncHKtEYgQCfcp5Bxjy+6nOhKIZRMkwcckz6qkTW/g/WvqGg7zUb7wJ/NcJXCX7Ic+id7W8gc41X+HNdHGgb34rMRCYre+E3+AnSENo3oroKcI22JqQBc3G79j1r8ZuKE1o3QsvPwciqQZ1tuBW59igcqp6KR2v99onKNnEbXOoUCwgBm09InMpp+85fhJ1oDWH8bxXNvo+xKSic1YkAKkQ+5GAEJkdtyS/KRrOMQOeQ2M8TDX++0agUIbgUGmor1CbXfgqSFBsXjxNthlGf/b2yZ1Irt/41KWvW0BfHiZDcV3LqJWNOZ7xkP2V+mQ5LQqK7rmAQQ4ppCvVcBySq3UfrkN/lrdNAO5JI9ZWwc3PNzB+wH20sRMXC1CVZXx9WcyJPooQJPaf/Ke2j73992gnAhyhnDNT30QzUayQech9yFvRwKn8trUASUmyoHfIwJbV82JVwumS7/GY8uWdzgyyM+OzwwmygC1qTujxJIXb00xVEbTqaHmFFCCOAiJZsvw4ZrarVb07Y3VP/Qoc67ntb2Vmcvqy1VMKumH4xPQG5MSxoSnvZSwCVfoazDEYr0lAtTwbjZ9lHmbOsbnMDRQC5R5PTu9XCJWnTyhfyCt8Fz/m1u+7923JfJ3QZHZGAJW+SbqadrriDOp+8wRT1n+1XDy0XK6wrr2M2td3EQjxp9zgi6S+2xTlWg5lDhGK08C93TG7ONq34qTvaYeXLNlTGc5v96FIcICbdyiFkABt0nPvJc4Ww7TvmUKdD9oE2ybvzGqpMIhXZ68zAdWtcRyp6+4/rJwmRYIO7w1XmrjDMVPVGVVOEeAxJFZj6uugXm3XDSyJBSXyCsE5mZWsMgvRej29UqUF+sOaotpISxqArk68YggP93+kdWv0pQpcKi1vpdQQshh8PDupJZEsI2XoUZPVtSzxWxzAQlHxAi0x950pulWL+XQ4b/BTPnt8yXIk4aeJNRwXlthMWrXJfkeq5QEB5z87Sf+GzojnjHUwuIlNc7FJJ49Nx1tM7XaVxU4DTN65QJQGnpOlL03d9dvxomvTbdh8cBCa61BY/0bgUgxnDjcVbA/gmA94OgWcsMFObHmpw5J4CBh+WUUjBbi+1xjQPh812Eqs/3LjouQZCtjj7GsHOOE+cY7oqZi/azYhnXkGoG86NtxXIEs9b5NoHDxLaWhNWdK5EliHeOCtLppEi+y4kYQ4e1Uf7vej+inyfo8Of5piMIItrUPhj3GgcK6QX9hV+KpOB+Y9ZxnoNOe8pNj3N/GoPQKjRGvvOf+zz9Y40k6h6Np/7JMyS5cA1yrWXVmYleWTb8HQJk946mI7UU+1BnnUBbV800UbL1wSjy4d4i0fvZHD3RUQFEh/66TkFga/muQRLN0ecX/vcCEwAOUkUj9cGWvI5Gn89L8uRYw3P7wE9CzvPJhYKuSV2eRkXJ/iNH1cPoKf7LdsqPPicSJpSlSVJ0JVRgdf8ohLNieAloHKEUOj8T5XeQ2A39Me0l83lhyq5W/CXRzTuu4U2mYmdho13dV+SOpDeF0OJu8ldHV5SJ9re26bqQu1mCXYBSD1gRrfZxrgihtj63rGGBxjhEh+JvI6opLvoEK72zFJ0KufRre47hObQs83k7vyktE2i5/cRxtnapS4EaVuUXj6K5U2Qbs/s59g6hI4PkKJC2sH2ErkGdOipnnC9qpshJR0bZoymD8K5P9BoRDxOT8CGP2sNdkzG9qVB9rcOHFGKyThTV73Yc7XWCEc/we1rtaZ/c6al7oaZRaN0xu+lAApkla9zKgW47ykw+F3IsxoSehjBC49bPwZsk11u2KVT1IO0oRDECWdHfuGdmVIBaddm7+5s659i8G6HE6gObNr4XPJE8BbTfqFBlLG4vSNe/BHcuuaeU4kqioF0qPZqDsx2LULQQYUJa2/v0hyTxUbnFSMIbESMRC5OtxeCbjbeyalWNW5z1CT6k8elWbwyfxj9E2Egxxbtf+mmXVazYIuJT2+NeHsh9M0T4b8q80dE/OzYjy1n2i/IIJ1yNMZ4Q9b+PKR2A/dpi97xUdfyl/UUM4WKpVQ97I+yj6Dkp9eYp1jIdCuWK+4sF38HH38kLgg+qFP8XdTYlC5IThrWRtSEfZYtM91A4zqo4PJZWkHhgRUN8xiEf4IHUQYJVkQWU1Ey/BSHRJKFt75CPac5tNBIL6ad0Kmem1n7uTbZrFFQ5Np81m66S0O/ZvLxlla8Mdu3wK3kJL+aTKo5AIJYWncv1O/DYc+6Cz1/+dTDU9KwX3Ox5nZhT8cYIZhxoAYEWnuzZ6aGUrVG5d2FrLO2FCWnykLzmtPNXlHiZexQQ1zD1iJpsCcrfzMItcgFLoIw0wmtqTcGrHICa3lQzNZSyZIO1Qy4DAlfaCMh9tTO2dj3LgvCPMsnA1zrkOlBcZEjxiC3fas+qeYfEsrY0sF2o5QIA6IS8bQnoK4Axe8WY/qLmmrpraI79e7Njx+vQgrq0IOsXvAevqJ+1FXyTLWTHAXDiROw4Bij5vzR4Cmn7e6nfjW6WdZUElMmDKFt0UUnmQYwFEj0gSr6iJ83BxZhMhOtFOVw3zbIqIK7OpDEch/ucpFWmdqkLe0FVkBF73aZBgZKcDTl4Tk79CfGFPrAil5xWncL3ypg2XrQbdR0mcQcAydXBV9ZD6aDK7HphBlaUHVWcQJkaYYZ1IJw0VxuotXoblVUGmdYa02MMSTjk1A4cYQ/klg4/GYjmvOe2d4ldWV+jDOwKojPrI/4xmEDbe2pUDEOXb+LHCOd4MZ/xXzCJX/Mq641qpa4M78xEVoS5rGLzPOd74CjHBRM4dGOWR/Jl7fLuLaGlqdGFTDMLRFjePSx+L7xdj+ycuIxCLLb8KqYsxwGqn0krnKR1Aan+zQfWzmnXH4bZRvFftXBnMdsCCrST6fw9LZ/cm+1gdk9ypB54I274lw9obdPtWqZD421l+884R/QVUHXNgr3guOdhd1bCl/JCnNsFYubiiDJXYSUAwz0aTOmSXTjG2rj7/3rGznjbCLI6pmr7OoezHywk+WE4Mi3jAjGEnI3MXI6FT5rYwt73R1pXiqMIlf4Spafr27pSSoN8/D83AgjpPPopF2tVe1NnHmwJZ7Ubmp67OCseUslaEJp2K1f9F6XyiaZTbeOILTFJIsfM79IkIP0GOA8XvfiuOn9U4c6dmq2181hxYYNkcUm564KmsDZMZmMrmPiDUhslm2kRHWFGtlCVYa7XdWtRH8DXoSSy8JxAbqUVsLldZrGc5FtSXkuuR71Q8SCBqRs6zx7OIsD9+5DGOGM73U6pfT/L+7aGqlrm6b2Q0aaRRiaFJj1BoV7twiOOTXRKOFYdxmd29yDo9R4ZbD55Vfn24Tjpcu+4Vak/erAzSQI63jS57Yf4DO9jM4NNUovQewN+SMhdKf3qdUI4qN8sneOae/9699Y8nRAMBaTvI+DRI54nOuFTr0JyvOlSbj+lpqUp5/8eGu6fVqAajgvLd47BBQ6E+SucF3chBhSHiQtkSRxuXPRNET0Zz9+bSFlaNMzSKoZRpN0qw33RIW8mSmWE7T4eT+7Sod7s9g6lMX/9a9TwI1vy1Vu5c0ZFkgdWmQ3OHDCaRRWZoxYPWR0w2lY0x3TNl26jXpC5jKUE3yF/NT9QlrdxodchZE0lf9SoLvh37YJoWYI8mlAZp3d9qL+P/T3Aew1IQeBxfVpb3z7mgWKaby6T6ccctAYB9fWRbZDsldzniQNx8YEOFNGuE/yvir3VY9O8TRZiJ1GLbfKUR/Dw0NjL+sQBDTT0a4jFfLVA21ro81YzwFcdAsgcK+Fj1RcbGHU9+rcCRIpEk3++6l1hRppDXK+yd8rhjscbyaUCVJvIhuWZMdYaoAfSGAXXX/xL1IRdONStLeih8oSwpYaVh+A7Wq4waMFiFTlNNUyfqOfhtCkMh+YgXBGNtD//m+XqRd5mF+VajpF6wcYDPhYIHFUxaTYFzvULkwLP09mDOvV0ynof/zR9G8rM9gzE3x7+WiWOZFdtEONjYZ0eBAxbifPRVtWjCMuBIpjm4YJXBbsZsLGoDtUbAU5SLPBNtJB71X0m4vh3HTVYvM/Mo8PM3zCmcgf5R6FIVWrIVYQLxteL8qUuaPfFpxy7XKLFolUaVhE8Hc4mgFllyTzg87wo94W7Xy3vxvnDq+G5AFRzbn5BB5KKq3KinoNbemSQgsq2tX5eSPfR5f/0ceyhhgMUpMZ4uZzqsL2H7MlpTuXhzS4vozNU/upr1j4XsYY/FnW4Kk68KFe2Z+6e+BbjpJSFKJaRaJHJmgZ+m/n+FpnIknkTF16q2pZ/3QVN2Je4EhTvX2plVj6dld4Q6bbTlnXwy6A1PE/vk/0x1a0bMWoYB5dlCIdkXrRq18hpeAr328mcQQ14AjD27o076uRdLyfnfYYPHdJ+IHjAk4gz9D+e/Xi6ESIilr+SzAh9WmCuuaK3qku5NK54eizRJDp7l1X1PqHka0AWv8re0ErO0pryk6d9TIgBij1h9mnsfs+dPoMjfl/So48L62peCGsP0mDwfJUoyDl64ZRr77NUcBBzoAhb5aL2lPNzmnmY3q2eeeE3o/8UJMhS0luPUSVlP9ScKZKkzsCm6onFEzxPa9CVY4Yswyl/Q89aF8ML1OcUlf8xg2Tcmw+pMlXrgBxgc4rocjcd/1nm1MRmwvkJX/N9hH8qv70GkUHGwyuZF6D6zf2uDUBeC8DINAgKjbOS/OndimUUx3hihq/gjJwifaKPa+i91T+IFv+0nMH/Dw9HSTBLNBJItqEisIamfnZbBs5AmJ0zL3f6G9KU+9Ln411Z654TF99QqYIoaoZlOpf9geMbEbPrwrtOMm52RKlDSdXi0g4XVoanD0FhWxk8v0VtAIfrS2eizuZtBT3hUDscjaQp6xKY+bifIfRiQ8ZflWruHrOfOKYy5KCi+GdzKMKNIWQ0S5CbA/OsW5thLKjO6VVBv29j482n6Hl1tcME6RV38yGX3GTYWWYoUw0nrCfOFl42fWCnyvSEpRg02a10ccuirTLevEM3hI8V8rxgIkG46uUaXnjqwVCLJp171WIQvPxUv2Z6AaXJVCd7aH1/d+2A3rSD/77Gf7KBnkHILC2pgtLkMf7NJZZ2G+awsHkeT1Cdjz22znf6D5P42QFbuaq4mSSTJ78myrtNIglH+WpjfK8tAfIV/S35WY1o3ZmXWa2pRhfAvuWk0RnrZBcsva+vVc4lsLU/oMYYypLJbJymkOdp5KjrrhE1U6qvqjbvlxcjAyBoQpOrOekyuBZ849qO4LFeLSQq9q9wtSHVQTfTYd6RzfWg9/+3NIP0CP3tsq/nhKLa7SKXJcEHoS0zIi7SuadMfRhsbgHj9aCeoclB49usiPx3/PdRT3jK9FMeV5ysa6tWeil5ZHXfwHvukAOjyyhtCN4dGhOYWUf1A5MgK9ierlzM2gc3B5DQrK9bc1ozwT4AfrUUva5ZPg2F/vzv3IFgRJK0rePeIx4NeMt5M/NioGZe9mhnRXC5n86vG0ErcZd4ESznm5INQg3M5GLw+tIBfVVavfhuISjXp2HPPUKoy7R07aa/o8bcIlL3tDupW0pPOdbDn79S116zmCaGG1qm1Log24cvKJAUe+GG+TX0pL6NW5mow+PF7NDlvbLBnky3Usrw/xEhN3bmalwsWaP+yRPG+6aF6vce3SxaSwOmWtYLjefsspC4FodwuHFv72s4E1P8MNT+V6CGB2hj2zwXnFOA7kSnPWKAS/7EoCdQayMBhjVV0CwJQWqpMkmXLScsMFzFa7ESuvkTsJnr1HzkIy5VI7GYGrMDPS261Hin0fa2CBGDUmnRVpPCVHPOBwFDAPhiqbMxDY3dR5Ab2DzAL94ECYQZStuGN5zzCpFEKvblzBa34AVQZNwi9VZIM3AW60+S7ikgd7+U8Gy+glmoqHCwvTIDhqsbR8rf9kaVi0MQb5985Anc3gmFjo0MhfZlmLHKhIz89xwWYEpnPx4BV/s1JG3E71yWMC7LcKAGemCv5HwNxksUN/iTkooBLoJOoWDGlFm8/Kktm1N/UOVDYpeMdLhlGuFQW8oONEY7rFc9NMPVGQjeBLsaH8x8Aj2jQUN93ZfvM5rCjBHQQJbyJ1xy5bAKq9oCGnKONdfbKUwCRM3h8UJSQpGzsI2TLOXjQySTMq+yi5TBgmQZCLNtsNdsVRwgQ6f2cjqkGU64s3vwGEcIj1fM7hER3RdGraGbW6t8veuE0wv4wEvnwofB2xoRx89/Me6k8UhiIMf4tRYXHobnjX3zvoECRc2kEWsmIhiyvzZ48LGxRuQ9A+mmJo4RAk266H4khu8pBtjZMwt9I9go7ZsCv4pCEfg03HWmOk5Oos5pagZnFv9o7Hx6l2dXmQ0BZiPY8aD9Tet4/wJ7I+atFvMBy7+l7pQ6TwPu+Zth8A7XATmaem6JktJx5bkC5nQBtJnMrCDRqMQleBepoEyaaHa4ZgatVGNabXT4Sw/7w/9UIKZY2N+as93DwFO5j1ZI3qQ4m9pTKu98DKh+Nj/N/TRzHrRwcQkPHptcdUG8s9DTm1iGhGIRlwSlS9aBz01S005LJYgdnplJwteRAaQh9Lt4n1x87Z5i41DeRmVhX2Vw9LzR8maPcpHMRr6/l6bfkCk9lwAGdn3eACV0TERegc0MTeChY/6QoS9vuaURBGZY7blVXwl87kjlSRGaIr1caJOOErPzS8Ofv9n9XakM2H8flTjLSoMDrPpzrfDaZyjvJd0EmkgljeXlfYKNWzQUzaeRmiJ2ezzLaPYgEJWgO/DuUFbzKAP9xlkEbI0j0C+N5dnhbovhNDZKNescCoDBWZMqImMh7xMkB/0bpIEbtWxolC6Cm8EhURgj3Z1OrHjR29f7F8SuMEXFwk4ra4+p1cxDIZQJPFIce6k+n8uSTjyLqI6Ay4FZIY4XJjseMaY5o1pW3ygkeb9a2mBwtPVM1QBxJ6g+1zb94RP4l8RWjm8X1Ung4lAT7S+0C6VbFObjR90D+xZ3asjYH0foPXo6wstfolZ6/J6dybweBtyYzSqkRQshPYXRvMVNDJOQ+LkYzySz+pfeFUo1elOlxY3+7fjAsDezZpWNVvJsy2PilPomseMvrnYx08hxtVC/2Y09cwvIzcFYx6stVXVjOD93BD4pW5keev1uYiLfit5/5yNOMxhhrPfL58fAfKTGxEXEQkV4WJuDEbWL15ks2R5b63LW2Ibnwe2OeFw4UtWlU39IzV1bP3yxO4I5J+VD3kT8V4PaU4ZYkjXueg2GZHAzW7SBi/ApcKltNd+OZoELB9ySPcm1KhcGFHYlE9ZCK46Y/bau6ZmBEu4AXvpyN9U43XoCPjhJZfi52KXJ9mULIxvbgfzllSB+v2RkxFskA8WZE0/S1V02bQSbRDKGEw7/WskqErQLXvXeXxxYjWs9mUY582q+CEHx3QCTSf7TlH0OE7uB1/aCNW9jd+j6wyJxExcp02V85yPtK6KhuJl6kn5PfBvQbrrzaK1sGNCOiw3wb0zgzlUOT6hYxc1iOUYJArN2of1UYRzjJmp0xgm5Qj+4umYFmPjXZepcH4jRVSgdTfrOWT3SqDFMDh4Us7aPxLKwKAlntYF51A9SIkcfVNTMGZLdr9qd7RI1hmrr13KgfaoB3kkJnHt+Q3HSU0zQ1fLD5UM4YDgPn6R+2JWzusyN94WNm/WgLp7Yzrgo+/II8DUTSsaSgu5P+GEbUYBDexip1O37qOhols1blms0trOM8YPCw0bck/nNupLgGqqm7FI/tGXh8U3vtaEk9xkeHbHUTQozMOoTxoegNZ6HkTcOR+jQePXUJRqtSVzC0Gdh4Y/944ulCl4xJCG8VenX+8QIYD/Z62lVvXK2n0mOHG3pRvjdUXUzUijXNJj94Ymn0CMmTwdfwJeNpDNdeq6QV+sFuIEkyXOPsJBVUQ2cQiS0ilXKcpiM4WH+bRSp3IBr+w2M+J72Jw7mJDhXA5Usub01RD6Z2Lm5rcOlIg7a9cfTGQOIthogM2yXOALSvKR8YvcjYrfdntanPXu+a/C8LRgcMWUfNJtj+79rywPIazWaknFXmCcR02kXYA3zjYbrdkV8j8aZ5IW8p7LRxdQ85y2XsLGCXl4BXrzI1v1zrq0SDRrLBxZNHhVW3k1021n5mEeC1j5vEiUOE/y3CJOIsqd8S6CAPGOiEHnXYFlUCS6VScnfQ5B62v015AuuXMD855TemWq4ujhz8PbqNtUy/WYN9NQIme4VK5nhV0J7SbDqA9s/kVO0E5tCoXZUlHgvic5y5Mo2Sfo7f9ob/tKH9h7gw/33al9Qi3pbLidpC3KPYFq3FgoXfUeO753ZSEsSqZ41kv4eOWf8/Wn3h7jZ1tgPXWSocYmSMMOVFQ0tdD0OoJn39jIQRo+87eVIfPXdGUNJKl1inBDphBmssNsKSXjPhMXiAzptJU2ou+L0Rt/Ge6Ym69E4EBXyj4HrMyY926sa0+8LunTtK6WIsog3DyXYSsalUHRrUwVcGGIbjEyHwNEhe+hPB7dArUBS2sdkCt8ZIwNik5BjXUGcycXf/tVpR7SmfKNyz9Fey7u0898f1ZsD/n+VXCc7Og6D4w8051qWI8hlUEF63NzhAEzVvCJfqT9+a5LHtTZijcQzOrs5+9HsIGlhxyyAdD9IAMdmbV90IzxR/9gC9AUdmwPvY9zXLuXgBsxhkNkvOZeKzJ03L3BZkXuLw0QF9dKnkPmK1RxyaDDcAct5HQOWh7qrm5NSKcGQ7/W6/aS8FRTMLNUg0uULGDw8oYylsEx6OqtAvUHmuyfex/xegI16H8NrXdjYwJ8/AUkOWAn+u7mE7XORw3YLRpYSUiRODQOb1IFXKiKCUcmsIX+OkjHOH0+Ju+HWc3xqp5QyLn0LqEd6jlB07B/WCJM7xfvLjvZG3YlVPyB8bcfqpg3rIp2WyOiS0sGhoFLj9ixX7U6XkIeLGN0zXf3amEl3FheK5eyeBefv4mFcqxb8CNrM+gVglWxLkSgZG3gZtYduo6Q/CzyY7IBopYq5at78SqbmtUaFffiSBjR49534EpaJQ2nkEDNhBmEW7WNPr+7KD8bM+TX9tzTX0IcWzCFo1C6sJRktorX1Eo85lJTlxu+Pu2AxM0ypy2ikM0QRHOV+SAvWM9f091XYXoO3gUvNyVZQf2mXiEA09OxUPykrQEaRywGGLPyR8qkCogTPBY5uGU4LndLmF1rPpNQfeJaVliL7TukYVEz4hbHpHAF+1jKg5QuO37/lBkqpoR3iS8KZ6j4cRj2RcS17e+hi6iBSQsGeU9SmX3mUyySqHF6CrTMgP6dVOO6g72Jy9F6X/iiPz4yjzlwgcOdGdggpmlG8NWUhGdw/WckBcX6OZ4Q3KXaD2Mt8j5nNC0PcdvhVeWss+YpsjuYZSd6F+pSjb0ALl2bGhyN8coURXpkb3eMp0hevdrJEl+gEghFrOVUft8M0n4Ef5ai23p5iMUSnRnBsPDENrsp1NZ+Fw0Qf/1om6lCaY+uRCtIWbxc94ZgL23eG35BetTsths3X7g4do1T3uLafX89KqjDCJo5xADNtw/e8/Ean3FKPEkZ3QXSO4zKwRBvuQ1uy+wS0fbFhUnNm0WWkI55EoAu7PpIDfNC/keBCqNgp5mn+2/tzWrpjApTwBd7ETtAxiYO/i/Ugh4K2KxBsO6Ah5w+3K/tCTjJed8He+Pu6nNKMqoWFy9sXq9ibA9IYhFBGNb5SxQef+yvbUqJiqMA3mEHvi4iuwy0hRovA7XQKEE2Gvx7b6DFC80IXeXUaS/pdpko39e3TS//ytHteXAO8b7fxf9WT4lqSTNjYDjyI3et3tQnNZ084CWtv5kukyU46bhFenaOnT3uGYDD9ESXubmKN8dn67FApEQwdtbRKE1dJEDvBR1NnHfZp9ss5VBMZ9sznqWsEVjP9p6+Gou5Jbp0JKvHN9k0J+I9/aiMX9vTDsqFJ7v+5FduSEF3vJD/YSIhbx75S7pBtNFfLCyr7Ujl5aGCUFNVVJIWnvjTlkKrJHnirqvYE6KdathaiyinA0FE1mucUNrtXHgyvmc9v1Xj90qoRioaSVncixRC/B1vH1p5QgNk/RbWFZcbnnKQjmY3MC74RUhEA8Q9z4+SdDc47IPQotV05b6dhPHQ5ms7OND9blPbDwDzkAan2WHH6HATL2xGMuex/MSst2nWU/1mSWAYL3NHACXVmULWtV8A6FSz5rTn+/uljrrMCvHGKr6cuxCV/JoZ+LlhRbSN29H6v0zxRnYAvYqUXXZuQGaYJEqe7MYv5Ok8GvIwGgAHvbFCs4tiHOSxeXlhw9Jw2A57R7kP8Xxd8qusSnHNePrKmRvxdakh25abSI05OG1ZEa5cNOiCvgMShld22SPsH8QU7qrlCmvkAk+ahImKsaplTLAcG672X+FEBbLNlOubMj5WUekfscCaReDC8IH9aZnbVy7DUZCcOKNvvw1Q7cgCm+LWjeK9dBQZ682DK9SjPkh7PKqiN7uBYjUoMPAvRpvDw5WLyi5iHq6dYrtacGiPICqOFcGgYihP28ZqrGuEhTAh9rd0CtzfBmAk3CuYBcDNs3Ngfw2jpdKiKUzKvchTdF1wCATsBHK6w4TLNZpjhiFkDKXJ8c6dcvgtfOyjhjTJNSPH6tZN6jfLucebBkvD9cnIUtDEW59OYfr/qI43qNVxa9ZBbq0wQuJFDZebBEAOwHk9MdUetwhBI6SI3gAZDGWCg7AkZ3U5vkWlRLECfHymQYSODDzw87TlKM4GPoIFTO45JCDj0igKc5O207heee1Q31IWDVIdz4+J2iwVF7HTU6R1R+NujCj1trLlymq/nC40HH458ry0YfAEbIkifrh0sjNvz6jO+hg96OXhuVRqn85fWLeHrreYuOsX9Na4PP5hkf7aRhB2CwBKSchVZJnEABPeb1O4Lkz0tPJOT04bjdBEL50f9frS/Dn6U+et6BEpFXQXtgZsnXrU70bR3w7GH8yjyf0VcPmQpLwA2xEn5J1MikEHOuCl7F6D09tWQukog4vQi2giGt+CnZo7Ex4lrXUbjCFlfscxVEw5mlcYVe+gN+xPTmhw+Q4kar+fru/rFxKLVzQI28Q3/Obm8KU4pStyfWILE4egHw1qgRKfx7IwuNkF0suz3XbAeEWiuAWCBHrU3UqRIEmyG5+nw3OAouX6pj/5ITXR4JwynAdJoX2QmZib7UnPvM09/BDeuDt4Btn22DDzn/cyngfpp/XmhUAPwRh+oElpAwZCfs9itIJ1tva39I3OfioWKPdkYzFD7Ww3jkncPrNfPW+34lVKzpoFgsEm30eehq+sVnpXb+M/8W9YJ7mCNXO97JnIinp5aswSUj9fHy0VYp+RbFNOEqwLK5pNwbGSDE0Fivgn2j//hKKy/dfdWrvICGd3UhGvCwXnJusKaoqd2DqSZhSrayKhgJLyoENC2+R89CZWPoAxT+6JCDFctilch5G2JW80MxR8ezLsNtMP0zRaB3qZUIKbfcC4+vaZoEmPrdUGr/AbLrlvXXCyA6QTvuaYE5WTK5mxCkP3tro3Na2eixpvfvKHXFeK5rVa4zRa/zue+UMId8KmcQLPL/ER14HBGri8azdvEAkTm9vOzPC42iJamcPwoefnDLxOnBEKaYCMpunzDvNXGrXVspikJA1+7ajJQ3ZhK2/z77yR9q6N5KrhmSyhJlQ5qRJRGLM/QgeTvs+QKX3Ysi7MADnbmPp2TuUKJmekTQk9xDedWD6Y6p8+tIJjnbzrObqxsAywI5s329hJZN72e3/l15ffjaJ+vCS/xQt4ddTcuRlMcUsvVxhGG2caGnlqD3mUz5zEPlT12WU5Nwn/GlgaU0zyMTj1cHtcOBEdOXiWEoIteiG+lHjtunzEWMabXVWiVd/jTNaY1z7oBVNKWfL7U1RGyThEF1QYZ6l9ibcGtiG9IZRU2HtDxO56g85cZ3u7ri6iOEz0jlR67wyvkpd9sEMPo3xErgsGtcpSF865O448S4yxBNC5pdUKGbHjQjVZVpEEx4MFCqEsUK6sley/IMpXhnBmbYCS1XbIvlA2O7rnckcbqd4Q5wxYN70rHd6Qhju175iUrARazZBIel7p8Xj0dgWQ+uymG4kPSSmj9eapZY7iqoPlX5TIZHI1XHUy0htqM0orzi11LIDEXG1OH3XI1oDs9O8ZUQ6iXweAKPquGdQrjZfJxLub+PTDMrX2M7opVlwKqhQfRmZEdjTd6kiAijn4a2NtfTjVZH3PhShX/rCSknaG1aVPUA/Oh2IefxP11EFJu9BVh2bbn9gJs+7ZeLuHFIVhRMYFR8+alSiQ7ehZo+IFlVOkpt94cN6zfoq2VsefHR+fp8Q/smt+Sd7MLDM5LVivNrGHu9CS9M5prkFZ0cb/XnRGv1yxt7zftEVsy9VeFTzCSooCxFY15rWKOVmbxoS27VWNUzSKPlF/rPKtKJFJOJdZXcj5i14ghkgATxqv0QrM5pMpo5R03tQ7E3egn8dGPgy86UNS8Fmv7gnNpm9/G+ahPWmOf5UvuwXqE1orpVMCeQJLX0RvA9LKMhqBogPlTLGrJvwvrHo6eHTRa9F9pKmayM/w+7NBLusTcaGa6B/BaeiTl1GoxQUIB62fDyL39j1NsMR5a0sdMMhYNkl9Q8PwTZy8kojfDYA8V02WfGGq7gxt19APSjL6AuPMryJR2p8nA3n4HxJjWS70nm50O6QmMnKqfvLrcZEsM7BYBRI6OO509XADd2mhFid1yVrArwxGghVIOBSuAH/YnuanvUdt9uTn46RxU9mEiL6Xr/mncFTmSjeXIS5WZzhqwxgSS3qWU+hNaqz5JdM29Np92W/gbkqIXYr9QE6MtLUbf504KAuI+8Yp4fXoyxK60wxNt3BNYnMEuF+9n275sGF+wL/XM1y8vq1+apxv9LQjkgMmuOcAAK9g5tjXOwGi9sFv79qfYoSSj3/kiVPQ4FEzuZWaIzqiNxTx8APfgBusrA5T1D0tYt4EE5mGbsBMcilRbHZvfpyFpF++HtWTPFG6uTGxdLf7LHiG+Azjz4vWVrBWHA8JNB3Rsc/nGDSXFqQIQuUMLlPT2216Ak/4BQ06Gu6y35YuxAypTdGNkKbiJlJhWGAeAGHVN+JMrUpsjuSyTBByL6gHe5Q7a9+hNY+p49RlkzGp7S21kBY9btOS/nbP4ZSCABepDgoUEhQrdsO+72Z4rUvAmlYyElJG3HIco+qojS9nb0sDbW5JIaIo/uJ0eVu2swBOADCAK+K8PCHY3uqUjD/7pas/P2zQMqbA89OG5jsZRLsGfzIm5U2aCD+9wwLD41uHuQsdKu0l7LPw04ke3qaMgAq44VC2sEo9i7j5uh5w2T0k3fphA3oJBE5rWW283Yrn6ARFkhem5oHOxDaBNFttOAgIWWBi9iq4FurCiSl9Y80it9Saese/utYA90Qfpnom3XPm6pR6FlhDejUWhI/gGKA63ljxmNKOayWF68L7lralM0q7CAHDMe1+7UXJ6EZ1hkfb+LZ0+1ST4KbNHynKvQw3K54nFkrq5Fh7brdBKMYR5CKL3/9zqwEqCd14pSUapYq8dHrMnlO4s8UI3GCIbdCzoi1f1vcTc9YIJeru1licDVA2qNg8UnZ84dzAC6nK1k3NqKBvtnquAbaM46iTS7bkva/dSGOkXZ8Lv5FHyDoPaGXUSwog8qVYAJ2I+dAswJn4tYvkzKB7tnbEpv9Umi8sHsRQWB6yab26osWZ7WgJqinxP66fzVtPbALyMPIo6V9jEwdmz88qWuC2QAArmKPJAb9D/m/Fa2sEdajQnfDqMOOHd4ccDP7qKAhLubPX8jJzyCKb6v31tJrSW4nmAE3YeAbP+ENkkV/tajG2/jzDGn+YjiOs8VWvOtd6/WvQBIxPV6GAZAkZe0aW+q1n8bwLhKumDEIBDckP+aPFiyJAgkGKWKkNYUV2I5hqUekQ5T1IeLhVqw8erEtFvuzlQw1UlbXFYAS3R9K08uY/BQkCZjnmPDOCQuoVNrXE8qe6v0OY3e0pBe1LhSl9SlAA603KxbNKEGEClYpOyLyFUZYVaoTrK+1N1K6FGzjxyEB6NYskPQjVLZp55XYYiz3paGdsHBIX79K9OYAQI+kTzou9YdQHmo0kAYpOGQKUcSSR2y6WqjgPo5auqOB23tn4NiO1RdjjYtpUG2zTSx2qFA/wMxK80hS4vRsjokEoTBDKq5Hr3UTXHSAwBN+MUVaQDQuOGNBFJy2oLUBfmV7JaP1y64m4u9zft/1rrROy2s+/zRedVuK8kZjpq+TKe7mUJJ+H/pvztqxyooENGrHN7zLSKGzN8tgPhyYpCtMK3Pdwg4qplJaBxihIsgjDOJzNceGzKUw94qdNwTJ2In8bJRubiaps5nhnxXFd8tIeLylpcYtm/Nt/uFjYf84CEnwGt6IqrxZNTtwMARcB9LWjnvjExpGFWDssd8sUDtLdMer3jGzIb8VVIsVp2/TCtbJGm0ZC/ls2j66otLHGUZ1CAObYfIEWGu7t7YzAN9UHTa2fmLqm7QK0CeTTcbgGpBAsDvyoo18QrdsLsEgdP2yqjREqra7stSZUScbfQmD0YJTfOnYxtuQ1POUZtX+sfyFNmcITlvA1TzLl/EEVAkhker9DaC9zybF1+hwO4PTz6VYXQb3kDM0QWNrfS++jV5QnQpd7Q1ViLG/+tIdXkyx7zD1rmPpckHcXeQB3TxpkWuuH7zXCjLurAFZHWZXF6WSBNvc8GDLEvnILz9SICaSQ5N3BgJiKADR2++AC8ZekkjGBM7YibRs9tKCYpZ4bybHu1N8cc62q1AS00mMNqJOj0jYD/TFOHG0e2fTMrtqcSLPfMKtvIojX2GkLTR3//MWCOAxJks1IGVZPg/WjoEG4tCt8+mPF6owx2Nd7YMaiM4+c58Wg3TOuCyZeJJzWBwZKOkck/R0H+zt/PhL2/50uNPGYRNKVZQOPHsIjLvROiKftLXWjeao/5obbLPA3hboV8QOE6Ua7c28HOJmEMlyPvK6J+z72rrKWySh9WePoXd0DRgNNNG8zsReY4GNiHj96BMuUL4VxvJYC8Zw8lMcKGHPjyOlAHpgv3b0vgByo8nZAkzyWtqDVI27Fd8SqlwjqJz7di0JylPpVyXarfix8TKuTHnCGFUCGiTHlryBJq0NAu0oEFXrreBd4opGjlEyr3S2mgW4blfCJQMuDOnpDpwUqrvz+G0l4voQfNapmKO1ubYuGsP7CzmDz5BXMxGr1Yk+Rs02ve1w7tK/GNYNEkPIK4MnfxAFxcmvvNISmeTI3r+D/w6y9qTimqPpi/PY28QkiXRzRhRSMeovk/+uldx6EeRRglubGW0bYF8KMpABvRdHAONPM1eOi6OAPo6dhOAC5uPX2ORKS6eHr52wyTdzkISXgKQ07mfV0WTRNf2+ZG7/Y1xghMtZL//7hEFZ/pk2Q7+b7F30DLZ4LlsTgYZJz5KLLVB1ERl9m9nwcJVTX2K7Q+GjZkKvU8GgApDHf6SihjxU9FduUKk46GsuzNBkQ4LtdjAa+fVamBBJG5/FPb5l08dfpzRaPMCjEy7SAmgJr7uhLhJjGeYWmiqoxqlZOVWFBVhunqnfW6Ndu2GMkMseARGEgGE0/r3KuiQYlHwwNK/0On2V5eveCtCcvdw35up7nly7tU/hBBvkD8f3HBY2nz4PXnGyh6v0eNMX7/FJiUUsj601sLK9LjVDlRpUj1n4PomKyBPU2Fck9xq3WEpInMHWn+W2FKCif711DXEg6+tFqXvvLjhtRb5UR3x4mWRGkDfEFYDOUNM57d28rF/TjfVQazWk3gKDqnW/9kyXcNC88t0/uBbUdtS1bHYyUacqyT+PgNkQGlCmS/0SL71V1sGN29nKunImfUziXb+aNyvRbtZdsr1mciMPr7aLTAx8739WAZHt5OIrCSBLYqWhBC/kDQEV4jZi6cIZndeWun1MeKWYSFL3EYTbjXUY2FHIeM9+PBOZpWix7lLI4IqhTYcu/RcjMCQEGjv2StWXIcgijyEllg4tqIhFSOybX8YzmzeseUiyTj/DwxBahw06l6leArpD2px6t+gI/h3Q5aIlBVEXLuGZrMXtlU1wH9W8Ge/yHRx3gOaKP0yhb6om4MKR4W4VTOQyXOOjSZymrCV/oxX/bfiG3/3GQUsegOf/DWmxgSqq8633JBmRRIAdBYrjEe8+LWI9KcrbqYGgw03QX7VZH+v3MdSFLrtRVRAuXW6L8deO66zgpVRu9dGd0Q+3JDKsC1i81/2/zdzCOy/xAQBnyAXw0uZamHwz+FoOdsvmI+SjskO4YAmHfiRl3+ovPo7AFUersunvyfGKU3KiNy5X5mb3vmEkOCG5+RgVFn4TWcM4ZNkwiOvTOrvJ99rn00hskZMONyqa8b4S8W3CpdJ4hL504mY1527G6ZPqJTNXLUx0tqSfpPBP4w2DW8cnIjeiEDvRRirLyf2wkGl5M8VLLXTpRNJd4cCBD3ts6x+r7O6K8Ke5LWgOhXMHn3Yj4PwZUmJpltRcCQZ3FUvYDfOIr+8RP+9FyyVQfraPsEgf4DyizRwClSfdtNNq05OPDxooB2hxGaplq1DdbDWaANy2OEh0Guu5XqdNiIqsDyVRorZHCdwwXuiYAmhQiHlLl770zWUXe3Ifj//dAUGli+6sNdYSDd5oNQ6uEDKu6noDmwIX7nJBcyoBajS42HrpkmWCb8TSEbG/zlzaRhRMu0y1IUWrjVMhWcEwhPvD/5HHxM2v+pnC4lL2J6Qh5Pmb6gMvzxxH4Z3x37r3yUK4wTdtb16qWIws+CronYzOyz9fRnZOlG8DINXLXb0Br8y2SlJhJbSoZjMZMemTzzcTtQJHbAP02VXJoozHfakhpyYFfLdQioAeMSA3gst6/DVOQEGeMZOmU4XX36TwJmpdg8pZfNP7lRNBW9UKKVAqRDt1CUyOCXKlIUshLjTfGxUmPIldrc9ad+4WnJ59/NnTO+gy8S+Z1g02eRzcOD4Ef3FS9Xkr2wOGYbvBEWgdGOwU+xEmxc8vcKntm6V9da4gIv9Y88AWMKFWcJFSJ6S2sLKSW2cYkVe7kU/j+63xmzKYR1YJPZsbO5iIzC7kifbAXEJfUjsy2t8sMj2AUmpx+VGQrMaWS6mRmHcaer7sqHjqVKqJjTZVknOgAhGOO5kORv3Z5lNRcAw9GsSUUloTrveinKjCbSHJkanP1EM73qQSz8NjchGnApwVulPkaCYhO0+PdJAV77ssxgTB4sc2wcEC2j+ALy/Q2loHbtBAIwSrSheYPSC4YZQn+JxBnFZOZmTxczWdS/cgtolpSVtvrSQ1HYPehc/J/kuptSSPzEZB7tyXWEwAzUI5ivU6h24X9D7AriWMbkdIavQb3MZc5/LWNIgC1lQRd/kj4fwSRFA2N82l8eUuB1rQlKc4okVE47zKtGa/ZVG5kQkuc8PlQfnG90rz7RD9Ox9n6ECY0Js13chvyTM/2wTYSIFHSwec5r8yB3n7/F15TKqW6n0C/muicJPx1rajAqpE2e2NkvGRtjzxOevUQ3qfctD58K032nYxkh2xMG4C212Tav9g6ujqYpf7QdZtw3BIfXh9aS7xgmf4MUAa3M6zM1/8aysgXbnkMCl0ZOxSqq06t6WZAYLvK8iu6AoNs8T8h+orgIJXBmuYaQwNwbb75Ry0FbHCpGATSBe/4v150yD6/tEf5cItphgee0I53YntBTg50U/Jqfnq8TmtyVNIXcsNF8/VEv152CfawgWttcVmjNaChB7cWHbigUQFvOfOffWKa/aVX1sLMpnp13pjFIWFdZiUmV4tpCFovikY6Yw4hPATfm0xLvihkw0ObkrrPfICkyROOV70vCF4GcmKxZo18iYOkxEL/J2DGExThaqzSSIcNEMjHT/69qMi/U3G4AcaVKf1tsYpsNFMUDNvDZvKH917x3FYTSXTZRJeUjpklkLQJ6XPkQ90lVX0dKuX5/MzXLc5OM7zfLs4W5IOrIgTFsrRDDpMDQ0aoyDAL6M7HdrnkU+cTcTLJ7oMWm1ijiABlYqVYNy/BQCXZWt8e3JidLJ8RkgrnenRtPUIzwSKUi1L7gDnAKODVG8eGlNzdhYGVcUsbuwqqEaOVIuHEB5E4d+LRZqJBaJD0L44B9GWMuEQZCxqLIFOrpOIJ74jDrZaHjhNwD9AWwJuLqvGyiTCbzFs5yqOC6XXXHbPO1vOTEmN+Pca5tFCekq4AIl/73glvNxWl+9+QTO9pv+FUVY/CNrcDHwdKfBxkTL1NowuYtROz5knigmduvO2BnxVliONXLHQWP/ITH6WIMxw6BjMP00jcMLZZkjCgtL7dwCbOuQuirIh0acDmXz7M3agOGbZSOcUrBru6/cKT1iU+qtpwA8m0+FAJjaudaBpK/EQJ5euME4B96iEq4XR6nHNrEwpXEQZRdf3GlXnsNQBhGg6bytYZ5V2sTxz9ts3UP0HjrceGRPQDOOUZ5pOCp6T55LYnidqeSjPk2uhkxnoh5mV2poXm+dM24sCSrdRO+x2kaSCOroo6B4LFt27q6gkxpwajYm2SJUYBG/tfVUDVWw2a/n0FPeyLWW3OOILCVK7LmeIubIRx6mOoLH8VgDnUjJhGkn7X8m/9jWNtIBJjBAwjaqMDWtba3rKb0afNadIiwUvoUcfqiLXAgXtRF7XLGS7BQ4fXTOyxOePE2A92UgOTTzrjcYrW3vWJKYAIJdQf6Dk50nEBOc1Er8CoBlmGvXnEgSZSymLQ0qbB31xPi+pW+G6v7ZyWo5QfiacwvLCskUPWW//i/5rIs5IKK6nk+d2LVpcAbDLrlXL6+gnmSK0HcAUCPTt0Kd1KE2yRJNzZW84fckGnuCT82VRJSQCWvRnEFqeVlaApmmSh82BtNSwepeEwQDukNfbKt81/ttCagIbRznpcMFjjz/+TVZ/77+LK2S5ZTTCWMgS6OwScg2IuxuvAaJs/cjww+VZv8LHV2pB9U7nuY1KzBQXEohhnrvp08x3ku6e3SNF9VclgVjE3GTxGTqbLArlRrsL1uUfjJRggq8YwOU/uaMfpcK/JucCWTZ5Bqh4SmifBarnlBYKmEOppu9YCcybIpo4kHcYMMfU2YR1VG3KV2QSfl5a52568xa2H2jI+RtT/6zTUNZ3mpkq7vyA18vnmZegtgzkA0SrGfS8ytFb/RjNPztYo5shtVlX+MwRfVt55CcMSQE4hOLB3JKEzYXkDcyILisYNnPtXizZ52nZEUxKKdzsh5EDiGq14R9J+1dm8D8r17/HkE8Odiaf910wAZZbNlYIjRRdfsRsBEO9Kw0PTLlkaNepoudX7C1IkcTGFWUiM7C/PUY6EcLDkEg0PmtayCK18Pdj7J71euI9iOOML+83iM8Cx/4u3U0O5PMChOxpWT0mzAKkwqcRJphtGzqQc0Dg0p9vJVn5Nt/gT+9PYe8yISeWPEHUOYr9K4NmeIC7R5mdi6eebDwIvHwzMQxHep7UFK3R3lYBhZc7NFO50zdBiElN4fstjv2vSmq+vumQ0l8PrJLWfGfQKlExW175jEdzvLAkf9dXMDGjxQ5HSGsbky7z2n/ctMUQ3k9SnDUHGJOwhhIgluKc9iI/YB04+XpCHjJd8v7GC1WhtZVYOJGGgiZP9coV/Vx8dkcyG59dm/yoKbTq1Su0hT2KMHeb5LTabgLKZun7BqREABx7hVX8Pxt2PHx+YGOQ6F5bVrjgarOkpSH8IiBP9wo36N3BzrUWm6K61sJVARyOkKU6AreWfIMl4+D7lgKn9f+fDHmY/DTlDsV0SlXc2gsarC1PLlm+LmxhS1JrbU0nFD4auZ8T/OyXbNQnhFr48518p12qtR6yK4vMlhmf14hSZ75EkMnudPoiEzP2KrIx1+9j7kV2AymsMDBvsSFFeBu/pqvvtlIiAt5wVEckfdhIvWg0rqx6T3h/fBIF4LXbQKsNYvF9cDcqQk6pfIGblLB/u/FzkqurLJLfLeHCvi5glF+0gAKyHhaZeQ0wqoGwZiJIpfZ32PzSr7fZLdbKKnL5C+Ft0RRQ+aqS751BMQBumIudhT9ngkv3HRLb9N0xsCkz0BOwmo3WRJXyo6R9seMuGrRZCbH2tQYeXCI9j3jg+R8qlA/73mzbOTq3Qer9opS2+anaWfYS0+MpPOPfOZl/5rc/Tcjt37trQ2KM61Ek36A56fEJtKH9owD1amz6U2gniXsGustZ2rk1Bmz2l1UDW474ePKKLMjbwgCfhb5Y3YBlo0ycqrOzg3ElQzR7iC4IZTwlhzs4AsJQfu51TS+8d+8z9I1O/tmCrfJ/F2YAaeaxLH1QT5/5+j7NZFJ/pJUiwF1wKc7VFLrDTGJu+BGWnFsiFHZxrhd9w8MVsjPDfvqZo9i8v70uuJ2Gi2EWuftdYuovo8JiPb7mCN7FTvRRM+NQ+ITY+/tvu+UkxVCJGdcQRIi53lRnX1KR7RBVFBZNo1i0cgHLcWiBq3JSnxTryj0uq978GAQkejALjKmfJLyQmvH/RXzwrKhBghK+OcaXTtbgMLTnlm4dExQ+Lx43Gj0QZIZxcb4by7C4VRigVeHBylqTfRuN6txPk6OZhqXWLWdMkczEgmcMVY51G4drrvxi6av3HjGqIW3brMWiJMDSTUOQ0OPCHP25zKg3zi0jfVxk6ayi4v6GbBxkc18FXJTPX81+bfHdXqv6kstWiWveD7/zGNx1VeZ2UNtkyYnzv78XyQrA6cnqS14nKa4N7L/0yQtE+lcCEouPOwIZIPchno+H7zCORrO7M2F7cCOTBXm8s4Y1FRKQweSFpovpARGtIKqXNvT5mGmwjXxlIXEoPkbNFraBHZyk/ZYxGIgFUUSKZBDk55GFUORIBdxrY+SOoxp87yndLbXo0bFgqo20vykatyprlxmmjiJUeNI2ndFqkctzJaQ54pZywuMP6zxfmojQOoJPBpCFFaBoXpYJYh6sXzE7WiAt7+Db0msvBAfeQwU5VMtD6Q3nkJLK6/vyKMFsjxlVobMqnJ2ybsWp2ri99GBryH80rAz16GW9eV8HzT+Ev2eYUXmUq+3WakSqNh7+e2lPBlG9nVxLQ7HRdbno+zFUGeOWbJv3D1hDbicqbFGelBicJ7irS1PAqPO5Utov4fiXRvZXYSHR9UxqZqmi7TiHnr2CRrS5JJIWJ6Jt+kpA2MEeri+m9Hha+SxjJjAW0qFpdomW/qt04sou9UuplGrxiBTHGvSuIKaV7MWUHoAuseFHFGwDNdCRdsAMQH5k2yOA7eBgqqplCU3wvw0y492mC9yI8b6g/Ebju249H9UktEhUQzzU9WhboobKHJftftF3J5M+SjlX+8kyDqKnqO8sWmiNblO7wDxRnUpc3e6JdD/M2m3gpKK2MMwyj/S1KkVjuKpjDHLND7Dhmw/1w2R0ap4v/aPiZn1C3K5f8Un/qmE6LmSXxSSew8M4JljY5rS9cH7s6cBW7Ol1NAdIFM/W/EQG5AHWy0UvcZJUE2SLBchHgrTGn6sEp/ZEgPyywJwFOW9kDDf5QZEHrZAJgrxs3Zvtv+0nBSLGvJ2NK0viQoIwpgpKpStnopEFULgss7IWsRzrQdPZSo71YIZApdw7xaa7MoonRYdzzYeB/5pol9LcGJJLtxD9rpTI4o+rQ/oMw/P18NWY0BO2BgDyujsgZnO4G/tI9DCqMlru129gGxRnx2Dcl6e/Qe4h1ddWsguKW3j7nhzeed/Z9V27LkR05adUZJtYrBTUX844h+LyTW1X3te5hBKe+p12YztrRvUixQqNZJYFACsYCZe4VAz5+u5NihumEBeYaWAHXXJlbdW6jrihlFCC5Ijrk0fHcSuJXVhZY9/L5Ho3eXkJfiqFq8yPKVmekS8B8wkUncm+gffm+CEzm0D6cNZkJDcuHjpRUTn2BgvC/dZNHucjYxlzmjI01hh0+sVt/eOYMJHkhN1t1Mdpj1YcyElt/iqachojaKfUkBNWxURsi80FR760T3gmPbgF7/ifi/IuQAusVupLc94MsjtAt991cjm1w1sIIShJu+2m1uH+IoQruYzqFcqbHQXdxI7SYNKoIOzawe7mWd9Fl2HOB9IRGPVqPZQE4TfbKw3YWeDkoI65zF5hJ2KaLqkHHblDDR5xWsmmDh03FBJ8DZUA/QJYb78X/yzYivzrP7vUCHJoqpSqgdP1PHkHqwCQU/Eyu4DqD8/yqRmu8mCnx1NxvHzUb6Q3HFHr2hkRFjXk4epvjjGNiCFEgg8yynjKXf7zITXEzoFElsyXzQoDVSONkLklNWPo0zMJwJ7xBry+wz8HWVsUFOO7nsV3IRKyFdmeH2l6wrAuCDYux6p92s9EG0E/UC768ag/sdGx3v+nhNxfMmCSq5C60jbZkSzXK1Omd49j8lZaSFcZ/Krh4YRtGVDQLX9Fe7o8FecQanfIJANmN4UG14N3tc+49JWFsT4miLrmXwgRTPcRKQ2hrFkcujqq2bw70NjVP9BJp247VQtvTnzDPI5U+VSiODYI8yUj34PNNp+nHEjgGv4Npl2C82lITKaPiOdRVersJ3c7a9raAZqmwLp+UYjhzqFmTixcjVZqBoi9DZp3pL8PELAfHpALm8hw+pQ6emDXTORf6QyIUf4VgYaPigKdpPGxkoOeJZPANVkRUwP+nDWlPJXvUyiJvVT5QlSe5gXRk1FYYhS9b/f1mMtq34I89dK7bfNLJuhTCDCfH6ZOMQzJXDIIMwLLwfSGqoBVSwjVlqNI21u5aq6xTyysxkJRS32XOS8ipM0kl4BHIH6xVMOLIUPnaUC8rARZ0f0SrCBfqm5bFucMZ4woNa5SSwhQgi1BRQVdPDKqaercZY60B1S+V/b521PUhqWDWpyibkZU7drPFdVOdKyFUuqIn4r+O9sv2HedQ9vWeTS2c+bTAT1Yz5XkcQ5/UV/JMaOZACqg85YOG+j38UmlwvMkaBsbnxt+pDa5iHxQXA1OTNxWyc7GweGJ8cW45b6jsnX8z29q7ODWDIQXRgo+iz6u2+7Vk2BijKu0DaVS+yW8vwTzvUIzm5HzYk8yRKc4GFPi+tlKs3jHVX7fFCzl75QJeNuLCVgIakQY7DOK5yRHmoxeBjEFf9wpId0ciKWgWZq8m5L7R5sFWLEgkBLFSQrLOwZne69IsZQDFGMN714R+I4n+aktu5dDTTWWvMyLPAzCWQfAiXet2PzZXVooTRuj6HM3i75BDuSNlSG4P/SJcR4Zw2CVk1+cjRWAgD6JcLUW31m1tY0D5tuC6mM0qap+Er+6ArdLHpHp2IaOqPEUOsGMWVTY39mNRl7te0MmvgWK8Y239a9En1AjcwjF0fl0HNDybGHF+77msnEUVTtNPSNa9Zz6F344ehItv0FgxGMXavSzwvqYNWRFfQZf7c6/hLLiF2FqLWMwbe7u8c912cHzofLCq6iI3yCffmMWvzq0Ocb5k6LNf9OCcfuBqTQmDqChUSMNil91e6YNA+K68eu2/4PRHdDwl/poQo6gBAJlEO7/L7wIc80Ratmp/r/q8rV35fzB4fhhrPL/0HytekpwmkKX2lAV5/vAC88ethX/QaH5L0+e//WkdXHRTiIJBjnHxISgScYg/4jLpwUIMoPu62ZFTBUjGNUCadjkBZzaPL78Vqv8ayvbUrlsNVuXLkx+oozRRbuyQdZNVhDCpanuY/fhl1dEGty/6TkCJ6vZy/4s9vFDNnEHt12I6oXFqHu5sBeRrI0+Dxz1GlQHFtEl5BNLtrDEIMq057P5DNkU/2+i4okeLd/o8rvZzgL386q12gT6QGTN7pfTbB+hDpHGcvCeyGZmfRJ3uh+hrAp2el+enNb23qMht4xEa657MJ6+oiTgrjClvUothm/iKrUBYjz7O8P/FEnDi5Pwcs6rrk0rlvfpwGrnOyBkAQpZkSmvHYnhDUryuPo+Oc6S6h1xnMKdsr5LwMo7kOmcaihA0DvOaAwzuTqMJDxOpvxqPB4E2uSUl7Y5tZNLRxSJs/UoJlC41JZbff0+v6d8Ltmzlx7oPtPTvqrsUyd0RjirnJlacWa0xcjiickSHUc8oOMNZbypth9eTizSxgxA2n9Ab2PLFYBI64JmufYHyu5yiHQjz4vTowM7C8etT1v0AhtvO/Spfdegx3D2jxO3udJRTNgHLWqohvLLp1/9NW+Ba7miQFkGuggdEduHfN5Jks+F8gMkWm3wepd9r4N59/p81eZf0/VPpXk53DFwQZhVvxxLSOd5kaajjKelD8HRvcEoOGHIPvlNU4ilHEXqBBrUJb83q+S2floGtIxHZxDD1p4xNpyKTT8QjN4XdpkBkwiU/tDbWHyzFKsSwKZgUt+3xKWh+/ANd1nVi5wkELAMs1mZKuuXF/ExTyRymyvMaUpVW80yWPPjG88cUGpk0fNQKPYniILE0ORy3NLLxEkUMXBWQDQuPkbGlsd8wPqcI1UdEcM3hahAqVIYuql5K3hPHWwJQMpjITTQt5jZjhDLODTECt+rw8o163yUasubz9t7R9C0qqzCxM8C+ywc1TXA+c0Azker+TtWGhhfwwB0C/Lnp3mZ8P/7fChfWaFVaJWdJBCwAGm15BbSy8iBBV0QAAWCd3EpjiT9lYu0cFSGRtIpdEhGW48OFzM/aBM+aB08MFFbXON4Wq8/3nK7Oh+DkxRnAyWEm2v6GohuHJ8yTcnxLs+/jnci/Jquxx16DeYGFNDD9IzF2djPH9phbsyWJZ1W1k3O7ROTc3A4S9C0eUWBaEBElBIdI6OCF+ihlnBSvYJ9XQzxPyj0VHNTwFqtm4mQ9Ws5YevI2U8NypsfOLxnPWsdqQuCx1+FXE/2FKdzoFFV4q/2WDF4aAY0QRjIHALS3cpNrPQhVq/ZmPRvfUvQWLUF4MdkJNfFbTPR9EiGKiqR+EK+B+FEwZNQ3cWqicTP/b+2tNPNr84iBMycIf6j5o6RX+LU2dtdLSixEEIgmVl+lj+X/xv7ZIzx/uboLJx3jJCEIX0pdRr6MTL1XvoS2Fl84FI9ImRGaWrh6NHbVNkU75iQmmSWNSEz4hVKL+bIUzdzpntUfnoX5F65DT5RMzvjLbLO/DsVw9ygaB8VZE504ezLdQeKWmYofGIvOimhBdF+De4IWmcOt9v2S3SeO8II1RUHEc3UyDWVuDtMIhSEgsXAnoJuq/It+rIVC3hmUS8SED6EAm10hOHP7hcIsaKkThJylkxgaEQvAeYp/5MghXLQ+DSxMJGkur6gC1//3vcSoY1LN3E2OrMMqBwvWjmD6KHqc3JuTgRAvY8/kTYHzUYK52CvbuAzuKJ+7i0Ebaqxhyiw3fVNS+GIcd0x7phyeG5fBT2vxTyS+QBAmZByCaj1s7vpl/noFgezetzP48yvG7Qia7K7l6nVMYUAABS3vVHvhxu63WpMQT1gXuRn1eMMlHeFTgjIhqREWb1q/+PdMTWlihLYFXmgL6c3wYF+ZfHyX0FfUg2omqC1z+9ymhhEtsZEcdlCld91IRXj3cEnb7iBN+XTQVDqiYvL56dGOrnHwLJCb0kcTFqqtoQxovj4+WOEVmFCgNCVXlZh+NvtMOYtJI8TMAGOVC05QXfTwv20pfMwPJWfVpiWQHcSFFVnbIO4VpGhpz4+NmguR509/xmrtLOaBzuUXh3zTgFOLPzI9x09H8P00K9icQweAUnICCXsFRF38Hemir14J7+inE6Qp6FpjPHyGmaPvTU9RfzTAFblAzAxyOwRIj81VivMqffhq6jedl6Sv/y1sVhDet+yLxUfbjy9L6jy02DsLhkOPg7C3xyNnfB7IL9LFrBQDk4tP/bgSbRNn+7YdcQKE9uxhpRDw68iKKznYfQxraM0iIg8tFTDdCEWfS+BQ/4J/QAboZ5bFD5IU901QG5FUxprXDJPEf/T9aKLnGpyk8KsvRPz/I5XJpdNlklAYVR8KW1vFfTqzVJVJl9Q8Zxn9nAWrLL+Cfx1n4cDSP9jOmgG8HyX6h8p1fk8nOv1BCBduKHpIai41kakbDVNR9l0cZAG4YX5zLd70x9Xo0izO6MLRlOueA9azgCJ6iEb78TTXAF4URBsHFVtVIQs1AicZeicgtmIQwPGfTMwLKelcC2DCuGOaKFIMIXhVV+W1j/xkK6CQmA1XwU71kGfF28YnSl6pSTwh25RGYKP8K1zFFoKbkIIk6DHa3Icvprznlv3uzL0BrryJvX54HEwWBj17JWg2uWmNl97qKUezd2/IgPoR0K37H9cgCdNY2uWemIB8YhRD4VO1Z58zZ6AYHJ572lIHKiFfrPgdckF0O2LHNOBk206Nzr1DcHoKu60FxPGNfqzb1UI3yNGNqu0qY6pMNMmD8dqbMp20NcNC+TIj8F5jglDEl8Tzf+h5RIcb3HAZ1KPBRYJuMLide1noqOalGAYA4Vr9bJp6Lnj7kyPsAuWSST9PHpb4CV40drANIPVqbp3T4FH3q4bK44DIj5S/oTulHIltEMhcH7H6Gbe1fGA4Yd4WKCb34jF4HTc3hTmx/nPRNQGmyHS6FZ35vpU+7J9iICMYLdK81dM67USZcnWirYdVln8wbK4hG+TCxzmp9DXZOXg/ebpJsfJ3h3GGdJ4a76mBPFq4G2ck27Vq9sslc1V+jDRWk2OF6KUgz0Ihn4Rm2Gk5wy775xuI9ZNce1+R2PPxSdVGwBxonN8whzgUdP0fwsiTEGjwVkXSjvz54u6QQD687mhbS9Yo2lQsAwP8AtdnDNT9yUlLkG79MtqR6KWRztItYrzmD8CnX2xPAxpQ7ctqYigGmExGNeeh7q4FgZUowzHTvl77mkQi9wXzeZ6sRlKM/hWTc2K27z6UBfPByxhShuno52v7Gs5vSqM6K0L6ZLwpZM+qL1HlNmvQvUapP5V2+f/M8AnEDoBeYAlEebmS/5fsBGA8eGa4prftOLD8y29M/PigIVb5264GXIVA2f3R3XRd9ueJqp+0zYMs6vwI4skTfFAI5/htXZVBJiN53S3+l6kcfEIXYu2CbVsbD6ApYvSmweb4+2rPajSsKj+J1Lihod2yH5Wk1MItAUlC3J2MtFq/EHy+3GcS4GAJ3/AkbQc+7xrV96mG/kMfEVFaQFfSSwTErjI6Zg0VB3bH6FUbW7CpxWzmyg9/xXAecbuO4+DyftlbHeZ1RZLOWySZB2gl0n6ECMsrwM1RVNhXWGMK06277ZbCWVJjDPhCbeyMRhnqJnUhdDSQwMkwuxLgjQcyqU5UlGijrT2j4S3sagFEz9ior0m3SjPa6+/obSje2nH3HPiJbRm7LjGYNXYeiWy0zzGTDAJjfGqgAsstTDa9OuLMY0CX9NmSjTbWHEFTICH3+UonKhjkR5s8YsX944xKHeDCbFzkNz0UDMSvfPk4EzXTOBfe6gPPNugY9X2lRdA+DGadyk3KNw1+EVTuJ1Cm8J8wlwAEDOXw804dnkF8QcFODqsK/8+fAijAOX70fdPZE2O45ceCx7v4vEOweNLRv47bO7xvaQDxRmbGKhoRHcZqsFInEWWE8q7RHgFt9eAOXBoV5hqXiGGCuI4IC42ua5aOyy2MWQBHTT18VvnDuPZc0w3fbNbeNSOFMCtz+hPrYv73AT+01t0MgPc23SkOb059an+KOiH1RdllllU3hv9ZsWI4wz/3REEAsGSjj1RlcGv+VuMLtY8hHtm/Qw1t8/egXOylIZ68z7VIeu5tZD+ITb+sRlvj8ykAlWnYNhq2B8VEVnd41ifFMofq34StC7URHGtskxyCEG8LAuAzr3rMrgym5+os3Rdaa/M62CdbOIPmAo/GE+eX26TEgT4D0jPOASy/uSQ5Cd+2EU07us0omFbx36pna5G2DLQEJ0bf8ILDLbRGTFufCrnBITQF+3BmVUE1r3kEyrDUVjnWsU8qz6YYPMwYFmoZ2gMEPOcBf9DFKidTRm1WXPfR/LpJ2jjvwUwNYBgZksD/sPXtZygKxpxozEQKiUXJMEh+xMQYsHyzbH2pvgKOHpTtC5u/StXakBM8LDmsg1Xlre4c57dXLqY+wLpxI2jCGYKpcUV2M0BqPZuIFaLFLMFmigepmwqH0pAW/KSGLfgTO7SlY7N7CDJy9Bqc17xucIoAT2oS3LC12m+FNi4iOiCyudGzU3D1dIY6Ij1O6dJz3LbDmYhz0xVFSOMVlABwOdECybPpe94tplPk+qL0R+agv5CCT6CNIAEnnGWpMZI2k4AuG9mML3WCzj+1lJg142cczyOQvJdAPAx9gakgieqcFLKbPL5C1UQKBfNfBM/XFi5t9aR6uzWg9jjqyLQhf0AKIAf1h6TayUwq9wkSOwk4HtJOm/K3QuFs2BCqaAk6o0+3HKo4sIzgqeKi/PI+4Htjjxzh+ehURk1UDk01A9jFULrQspmSi65reVZ1qbsyRwyEp4Xmdvx8oCXZdHKd0ay0b0zHX+j58+/I5k/kPhXJnNpj/ClMfKJHMZN3/4oeWao7YvHBOP1rsFUfJ0Gm6Hy1cmnoXXISijrNMxJ/Vl16N+w+QtQyjknNFz7W23YPXMmnmD2zD623a60xNUWoX3q2mqZnWu2hCn66e4Z2c0SaFCZN2YTEwleOHp3MT3IHvZhtuPttB7Zdy1Ccngz1h7h79iteMbyy0s/WEZfEULKsMhaTc9co2l4lt+giqqHpUEk2Wr7pcPZp8kAgy4+E54GZ7ObEcBwyWBfjbXN8rQxeYBgme5xjtCHZhlQxwnF6WQamhOoJQjWmHHDJ02siAcswF0J1/462+wVExJD2kPA6zixViXTDZVmV+OpsVLBVDZQCRpg9+qmDcfwr94qGenHypMUNQc7FUoobY8FvUHy49cTvwHDXZGdwhBA+SELnCwKxxlYzbWIYfj6pGB1zIgiqg0iMzk1j7aBZhdjMmFc6uDB9l36fU6GK224hz8x1Kg1MJqrXx1cxlCnrdSSZZtU/LvkT9tkh4lxfMpk43ZSTa5ucSJSArmcjIvVV9YqKTNWw2uJo1nxbmwu5WlPMzUoeh3K+rehWm9VAIL59jYwgR87hyoXQEsNOqWtBme2uNsqxjXLFO6gnluaBqiIVazDmrOfvRKqTv2oVXZHkikFqZKmA76EpybYW4/BMPAh03vHTXez3CEu2EOgXXXNkExExNwtbTdP/fOU2OfatfAUERewcRrukTbBYsWQMbJjnl6AWkw2KRxzHyVULX9DhNYhLzOO8ntlRaXoKGO1DtMZUhO11jdBgQavekHNTSL7VGC7sLzTat19EGnH09+Hh211JeTjyIvSD/5wCiUKmA6YIdWhJjHRmvCnHFwTJ22xf3QPJNja771tzklyiemxZ6AfLFr2Kw1sVQm05XTd6NN9IC3YHzd3vtVWh8vmn5Q5aIE+ovDw7v2Ika02FnwnYmeTtH4vdetlSg5xzj/+RijiViLRGyjC0/w1z4PwRF7rvnS4N1G/AxY8/AipcvuPhYt5w5bdFtTi5nwGia6WFiaARpYPEx/AVTrFZ1j48EwxGKJrn4vN2JTxf+6+HCNRXPuzzp7VK7Lk4Lm2tw55Ulc+938WwRBMjrsElRB1pAjn4lDuO1/tTF1jQxYQZvn4GLAsh2n5IjJkM7qwM2UobDnfqgwFcrf4SL+H7AZQKYqRrAJH0J6FRNXiciy56gvAQ7uOakNjUAVca/KKMf3eiDG7DAl51pDoAPWipzTBXN64ut2a4QPBNDdePj/4xdsYeE8l7pLOtSQ9L5vCE4g1fUGWo+Nuo7k5rYAXnugF6Y1BuSOYH0f/H6V60mKor9sHAAUsVxsRKEONSXH3hzPwnt770mVeuvh6ZNDjxbE4i3ZiWmMzGiSQY/VqPjVWB50SQb89o5rEEoOSt4DHMBI6R4nXuZ2Duj88aAb+mNGuD+12cyJwsIbxGQI1di4JPa0sQ76aEv0h+ItiqRrLqa0C5Xzf/alayObQr1CEA/bKGRL8tDXdrpPcVFAIeaStlarhpcBg+lC92KxXAJsg3EFkK9oXz6J2hEdLVLHk6yig3wssvGA4bxwvnEw86oSDss3glH+5DU06IoghOqrmofQbFYTBTlUd1E2434ANtRbnVKTrIKpuTpQ8rJtVHSR2nBUeaXDS21RBnNlSaM1KG8uGmWR5Vtk0zkbcu6ED5S5f3vsmtMnjigK5pxj1fTV8YUSxmK1QbA8EcN/ZuI8RHnZ59fRIemgQeLxfamgW2uzVCwKKFHMJIonxarEAK2npM1Xo4jRfcxjGgpKJiN3hMZaInaLFtEFRQvTlGmgc3D4hloog+nSPIkbqY/X23NwX42KV6LMnOHzLGwWawk5d+buiftegD8aidpmHuNy4SW5BHcgCN/gdMy+nK4qDLlZvXV3w776srGM24/+io5hgiace5iQihP+frZX+F0sR9QgMo6fu/hi53l2c1Kg81OChawU9Bvk+xQPfzkDUPfERH9wVCdAYwxBNeMBbULm++X6baSP0CRGEL7HTgoWeGcK3JYHs1UQIqH/Hbgwh6mMTfcfyMzcLPHgx17JLobEwchdtDXrZapxUTlgpV4PQjKvrR28+23TSFqGL/6G8aEhbzOcwD9gyaD4+BQLKxV/mK+8IkrQtcT0RaUoHhmMGnuFG9oiHPP9tqK9CJag26cx2UhEY9GCbQICw+qZwT4lWsUQl3stN/fdyqwQe1mLFOlCUTZosDWTPs5dSfKPZ7hBfy7LuzKrisKp2OsPr4u4dghZ6kThfBkklf4DFh+x7NbI+IlM28UI8iIx3YQVwmMVlEvh/SSzLJpNviixGZOwMZonmOnJQcg8+WLzUnANlcFTK/i8VgzXKiG6Yhg4Jm7ID8w+kYpywvp/IC8h2QTy2wSpHvSfk5adu7Y6G1jJeQ/Qw2/iEUAt6qSg4kNoNO1JWICCoiv+2BaiFE2f0Rb8sNoDcxtzzkNO0s1ElkhvMO9bGoACqk6Y66UgopyfX5TVbwKU7eZOLf+CL9+VnoOzFWkwYhqnfnqhw2w75Z1ySDcigiwm9ka0Lxr0ngQH32VcLYzjP5VtEokZ0ibhzWOz5nqpaTuQxakEDeEMdfUAPkIv1LaiFCiNRuM07nTJ3Uv9KaeAIcggrSiI2J2uoqnoFr+YutX3lMTG5gAUB2ZUJCnbsha+fn+Y+LTs+NtNTG8XKS6XsUQ6nXkGIL3BvtOmWOjlEzNORvAsJwV2SFFeJZHuDj22zjf/JdSCNXz7QA3zpDGy0IrP8+zyveMBmlmsQ658BQ+aKOm1zOjY/0hNfsP6ZyQ6p2uRTL1H5CFwseJlGJM8RghmLqLhwp/uNRsqcxyT+Xu4qXEvcHwaxuRAy76vvuZ1sSL0IKyvTBFAsohTYLSmtCpFaB4Q8A9Ypgm4sWIR2ipU4mkaT4uOZsj8vGn/1ifocR/28uNS1cvu9I5aS1YNZ/nFYhdy0OLS8m8BWuAt8D+/9HCOF2iBCWv7Mb5tR050ubLfADR9OZWHm8yGmngUdmE2s6igdimIfqLmgy/qeCGH5yIemM9XFrUI0/LIcwDsDlrxtPFjFl9nT4NebgXAxLEbZim61Z2kt3MoEkm3d6io8CYeVI04drhr2nci35VoUmcnN72dOBbHH3IBVELxW6RuTekj4N3dUY7uhErH7BWTgA2unFHjSnrRdMJE3gh7Et2s5fQz5ATMH0DjPzrFhS/9Jg0UPr/L5hOZK2M7rsjWCtz33bCT1/N9EKRWW4Ara3r4O8kKmkpuDbbRNUyggjIoMTBisr+2VKNb4j39bnBYLgCGHo6rSS7bt6CDycZxMakblawsVCJWSFaZX+pZSoPgI5tn4eGVHYAhxWdXPlefiO7whRCBRtaYsOjW5v3PlZMxIPS/AA76VduNAoizkY0Aztndk7FJl9oS2Ufa4qjlX5Xp02Zm9hWBJJ98am/uEgIXvbMPjzfl87ed5fsb/RI2lULiOp3H07fMiQiUbG5djsEH0GDWDVWqHjG2uG93bLUPOFQu7wHBSbL2ph1CwsEZA+AnppSrp7pXqT47JvRXopRSLdFDnpGNC9+qPsWYID7oeQwtjgt/3J65Lrn4Y3zX8GEcJcnL3tqh/u3RtfloMr+gyKpXsAbnp5aKqeKVYjC1V6qNDonHbHTLCcoUBBvjQOz1AkIq6jM5ucUg+oa0upJS3aWvjhu/vW4C5O7iE6tXginyBMmzuzpt95QvW3KoKyfaGkk+30BK42a2DMPN5x8sCvu5SnxD2sW9JPhoqF8xeIopaBvhZXnjKt4EuxSmbxqf/zbLIeeFyjDKaBY3WkPHNmzNmHiZGlxW9huVksaQpRpJRuboaIY7NdEd3AANIekacyLPLZnqpIce5PKdSLeH3RVmOj81iJ15Npsm4TYYCFq1QkwRVIq9I/eLLBLAbVbhLPg/Hj6bx+S2d5Tg1sAbF4SYqt1rINQLCHHJb1ccqzbB4dU98ndfbrQtcYaulgXMf+UZ/zypQn/DATO/sH2uQ1e20/Vfl/a0UCqaswBXhdmFI7lGiGBxfsKNDFmnimj5Xp/9lgaDGcAx5wdVPwn3B6IP2RNWzZK9pS5b9+WO/ToO1TGZ4DggqNHzWJ1eWJjg9xzKaLHP9AAARbgNJaGqGAfRZss0U4VrGEmvxIzURD0L5/S5GXxy10dy8idkX4AVAEqPZu/uU/mzeEWAZCJTZ1WB2MtEDOHJVR1pR8GKa3+pqfWAr8D23aMYvlLRNBdVXGMRn8H63ov1dfgHZGOs7hnkD+UX+FNLcPAmA50tu3tyULeZWoT8pE113D8EH50OyQOQesQGNFmrpxVP8IWv7oIy62/weqFybiwvb8dms6YAJawVOLwebeJ/gNBOCAEAqs8R0SDEE4e0s6Ryt3al9MdjcKliX+Gy5NcMcwN7L2Fy0V9r7ok7mTjKleBPWnk7TDd/VvaFkCm9GtJcI4cVsgjourifAMQsKT0ylBbT0O4ouQ1Ypq7ggh/MnS7xKT8xigrLhrKLwE/ZSBdjqs6MRKOjr7PpjfcnrFBNUkCQ5eQ7D20Q7iW4gUgmp9YJI0SfSFoFHoU3Xd2DUrXNZeBRhynb/jIlm1yx/kdDfEhYqGHruQ6YrByl/b0CLI2MiSJdi74KMdt3Ox1XSaZ16gRfKbh+ZtGnNQl5qZvMOKk8N5pie0hSDr009jemU0fSNjsxsp+6got7/qpIo8CgZEDZDD9Hp3vSbay0EHFXeBvkhSlQI/KjENYSckZtKNqYnIzIugdZQRA3u+PBMgNxq3MCL9uUJ1aOfuRQb2hZu4HramtQm3c4OssxGq3DVykkD28M67LzWlCDGm9rVT3GoI2KVHfOP924pefOf8pYiquAAn498bTmVpddvPeaOwG5I9y+ssrYVWUq7RBKrIbaE9pXjXv+MwyRpezZawnEBQ9rKVAlaRQBn+iWsOcSSA4EyQgiCALuCi0LrYfEhv9mdkpcTWNeniJC5D0SxkmWe5OAKx2H5ahNYEZgJ6HS5XiidOdqFrQ//22cl0+v0/8oru6DQlXIUVgFAFumwzGgkoaeHo58Fed2hmLVM6Jv/ASpz1OSzLjG/+CX3D4mSN/d01dmlnAEVgDJmcfq86FlQfFCAqG6hblXieGZIMoRUl9QH+cmB6av66Gq8HrbvjoBJr06rxUAcuJrDZuk1RuLK38d/ZWo0GJtZjI78ZweiLMdRazOVTSErMMA0/hoZVHlIAmQFPvdrpmbfrrRHzW82tFo7C9tMe07iWtkqpMLyHpLibAmGjwXAdGJbT5zBSXlphTFDZhqIpDT/1iYtZ9/unrZflvXT+wnVW9OB+gKkedMWkMHz2PhS9QdBDiJpDPkp2ruAgEv9/8fkIY2t3nGsknSVX0Gs5Jf5B8NPbIOdWacOygzNmpy3rE2DjACCMsMo77BFXwQwfeBRe0LHzuBOWA7YAAk9BAcSiGAAAAMAAAMBiwAAG2VBmiRsQQ/+qlUAAhCy5QB6SchXODy5dSSzM+zDSy6/koVt9hVBoTTop1df+La3C6t/srNwTt7rEAWDyfYDXrS2MPXSUQOUDK8DgpeOjahpP1YTC93wobYU3c608MYOFS00vu8T8Uxdwx9eR6wJjeF16cF4BPK9UAYD0fdrpkyrwp+pzl52knV1dxKzmX12vne7bkZe+SwWZsN3j+5EtZoYl4yeBplLABl9lPGxSLKI4V9pLcye1zT8xl9iKJ4HSbEj9Ze06ROI4AWFmcKKF5iU9yYhu2Jq9+Vcn8VSNQjSHKCTofiMxDYSDo8WMrQ4D9+1qoBPaj3EuIRKU8yLwR72Q54x8af1zMIvO78/HQTwrcavKgIBQVFPkIXQgBTEWJky7Gh1e5tfe071qrqu9DIbsRkpII9ChvMvl0cuaQhTDCuaLjyZ57sFnYhR1FEJOH8xVbP/cNdbx1g1jlxHBB4jDcEaJqUGkH2WhDWHC7ZhRwob7rG4HmGaiIIGwi+KDTyyPp9vIXjLrLCYiPM3dUl6hBdR6Jj1uEmIC9ClVmRVQ1nsKr4VWQmD4+cGa79Q8F7MW3asWVR3vSQ40GVky83oaoO8IkXicem/tzgnjFrv5W4bZ1+h5VaYbl72cmrGWh23rQhgZRsAPq/we2YcVYxFTrmaaf1Ny/pAcgclOSJsCFVk4AB3YAh4s+cYb7UtBxp1+dukVeK+OrLzwQYtBcDD6ggmb5vxXkgFAFgGxAg5CgSPkgOuN3rK3BksvtrpiDWsTdPZvVV47uPHe5GqqB6ldh++AdZD5s/MWS+NXlW3pDwVajyrQGgTqeNQrF8tYKQGbEuN9HPsiiQU9oyzqa1EjY5IJpGeIKvREW6pA93+azLOXLbT2cngVeKf1230ibeiMoS5XN2oera5Ro53oNZsUdJgfIZXe2rmg8CAzHjyyiO5iV53pZm/b80HuVLKDxg6NgQ31Av+5LCR1KzP5BgyIizeaN3tdpv8Oz5z4M7cl3dFZmwxtmpdzUSA+rRyWv+1PnM4cWt1n7WjY3ZqBQWTdcs3GknO5vvs7IAUNTNlhKhq0T9VLwbG2rgKHwoMjHGsUglhDL0LSO873G4YU1hlqVB9FdXRQObs1puYVnxd6bIjwbrZW/ZdyxN6209VcwImWSEYk9Bf0pAkrmv0+USphzo/BX1bhnFdp6bm7JC8a7BLAkquhVqpc8mN4XmxW7eaJpLtaOmw/Wa6xVKXilN02EH8DRo0kP4jrACC+pnjNJjTsu9mEIZGOz5wMXK1ciTIL86fyv2U6aScN/rAnwT+/YfhBTVPq0LQrAjOUmneaDbx+In3p79YLOwThi+tsh7cKhYitsZ3Piuj/huxsmShww2asHKzPA3gHtaSVITu2VoepY0gKd6oZUwYbmIcDPFMDeoGN+H5RVqy1Lpyg+8DbFTFsya0g44eEgLLTKD/42JAuf0aOsaKVvlJO/2w5fhzZTyL6FrIW/hY55mGQTQxqFVdLoGAB2nM0+Rv2G7X9Ug3FCFtfkQppyJ6WKcgLLxYXtrsdhk6c1PRWP4BIshR4F0aIwtbJk+Lrf/WFVL1+UNYjB58UfaXzzLo0NdPxcM8NIqdRGwzJhEkS1g4IqGzqvDCafm55W1gas2IMLJf8zf9kMS/31wToNFw2AK6CgQO9+RvMREAHsB6NUdxfmhjwDDz5Hg69nUzc6xkpnhC+uEMA3VplScbP+6mxKGhdGugrQsMuNAhgyQeuakojHfNCUmyIY547MNLgDHS8br+tyFfxzQF8oi3ISx+T8E8IbtlHsgTHOqk4ShZWqPrqQgPShiXzCMLjdOfuEGRUS3WJhbkL+q/CMcE7EnY40bdzTNfFnGGUSTgX3VHTiuu8U7T01IPsgdy2FaqpKOabeoopA6E9AhQddtKK0rBUdEDK5pvAB82CreAvDH/Kb/R/6A0MXncTa4GwbKe89n/+35upZ46JkKwoQprsyrzFR59IDemOJeKdkrmjOpntKnYvpKT3uKlIo9ZKBWjvTNfBuMG/prqC41196xwV5XWTTmphDtmkb6Lu2RSNRpsG++E1Tww0Zf/QsMXzPBdDwKOF5WTz6AUmmtXKJ7eYPjzimn/HeTgyiz0xDF93NjjbwqekTd3HNlWCzX0TeJmKMS3U7rdj1Kl4i83xUoyUwikviUHpK0L21rVF/pdHo/0IQIJb7RKpLCNrNC3U8X8q0s2xbSGyKnAnIUQFLMq5qJsjJVb8K3Y8fWwqGH3LgU41HU1b03uPmioz9ebfYw+LQE4a4fzuZQjA95LSsGxdORorCle/fLyXrWuZXwb+dAbwJK5Z9f8VZ3/KGG6DeNQggIhrdUcK12wvijEqvIroIr5B/6jQA9ef80K6PBBJiuvAI0XGNDRxVrlFSz4ZxsXw2/kLFicv+Uz7yykX48aq0YQ1aHBwqlu+XIs9EXEA8JSCPuI0eUX++Kz4Ibu538sen5r95pYVwG8Ick1LnyBXOyIkopJxG3H9imzMaVPxPD2ferBZjqUNL1VrxlvMRAQAjBllOKYlgS4cI32R0iZJb9+1+fM9F42vtVSfrAYsZTTw2HfO1dMtRfs0fboTwE7gtI6aUR3ZP/yKUNqAol7XYPN2rtljEXKEezmaWGVBe2QHmnvhCVuRDt2oq+GumlTAc370rYL9NwUEbgbunl6xwBljzmXpEu8B8M/hqBczSsTblvKspIrBqfxonttPYRWIoQ7yjwRnWiQannWL6p1ckOXsPxCUxhEO9HvnydwGpu8CmxUdgdNZV8qo/pDDzybiw0LvKkHnDQVYdiIPHJVsEwvfSAGYJnBDh62MePwOj7ViGqnFflCK3ARjKxWYqubHmpmiIfwbmp8KFlkj0hizMqNCZBVnp8B4BeM0UFHO3v1XI9acZ3f5BH0LOxarRm8Tv+y121nGnDnIa3GQpSjFymed74aSk9CAC1HK2/lmin3ITAmtkF3fLQibtDHNIVyVD1pJwdnwcKYxMAF+NyjlDjqkVZxgyckCJ+z9pAASqPHk8PeDkslLnFwvNGUh2JH19LXzccrTSECgJXQAF/JiHhW7qxU2eotuLRycVGb4/jl+IUkdUSF4dEg2EVr8sF+SUBKgZ60c8kN1bku1Hl+5I6pNrnR++R5VO6bOdjSiCIB3LrYf4L9MkQ9iCn8Wk0vGA4A+GAOv/elRIFyIPzIkGwD0UvtPAHTgt3j+BisHbbpXmdQgVKCYeNI+vv+SefzibGsQE+PTeimvd4b7Xk5F72OKh4xd7XlI5XqjKJ21OVhpTW7jTSzomr+/j2jTVdT6iMMqTNPafufEWj85+/ACsP7rDii9FwKC0jfsYKD5xphpa/mfBPHn8LbyxvOUk4BDqvwknwSOGk0b2sJ+d5dFSKKlkCvBP1RyEJj8vaPqWnZgCXo9c9OlsPCPUeF74ZnWETGHuCsAgBRIeBOwRJp+0kn72/Yu2Or5o+X6+Xu1B8JFTDJxYmiSC1uBQlzV5LU7Jmm/gCSVpaeh+mOmr+mAVxUjsES2yl1+i8qygzQjSSIY6qTcxgjeOXq7ABAr32GNhnbHPq6zbE8NathxkVjHpKAe2UFA85x76wMyNxDLVn958tqrLaPVqNwcn4zflXGSOFlmaCNTIiA56QnNG5SM6yUOrZf2+ULhoRFSAjdurSmstW/hbRgEIMvbxtP+h6jNcEI994AjgB9D57FoB9JzV2u8lsf3tebrMBTNDjA4cO0nz72MZP3iAI+eL/yNHVHxsHL5btWMUd3zcF0EuaCV6XmzqPrhlorspRGgXwxP4mCiyTFkIIMW+jlAuHbTtR/xMy80IPLz/FrTHbCsb2iSGykZkiPmixXpSPB5Eg5fYpkdeKidR39MMLsYKeOGJDBugklV5UwNEwpVQ1TPhADrY+fy6RK9gMUNnwZuVZNFk81gu6U9OEqkRfmGRMwChFa7OnUaA0RTgWNz1pYSpEKtRcgKUWUkITAS0TNGUZK37HBApbg1Ua77QWDsNwwTMFTK6rcWX9AM3tRCmUI58t2qORy1Efet3QyFLyTfSkwo3MxHBINy7HhWP9Dh40w3xZpvuofSPUV9lx+ITmgcsJxBb+cSWTCTf1NXOTMN6eD7xqOXHJkrMG7aVT0Ylu3QV4/PSTE9pdu30M0b4rfQ9DGzmLUnnemUpnGkNcUknSV6OPL4mRepNc0pfsFY/5G3L9O47MxlyUp10Y5uLt+RdWd38kbH4P2dkYkQ2fzdZVW7yil+3PoroE22bzW5IAF+ojSELnBqxr4hK1Dr6WLQvbSu/RS/T0XrHkTXJYgBG1xwWBcd/itSVUmCDPtE/TwJGAk3aN9mli/fzPHqq2T13RSsB2b55sS2kMUNMeGI1vqITs+0eRTITDvfzPHztLJ3PG8YFVwp3N+vJfY2OV2tRv4Ic40nQQ8ZnjBSiG+okgXU8quQWQwWUg8pfJGBYH38FtpnAZvvBrdc6UpaRUFtuZaPDsB/XHLWBf3RLCIu0aVxTT1BH1AD8bH/lQnffguSXVF4zs5qdHzXtJfklZPzk6lBtqSAYjUCocIbq0+MXmwHVVDAI/7fR6Tu3CRG8DgL0PX3ABpNRAg/FbKSG3cZCKd0Gk/JBscknR0aU+dk4l1/4XjGS9SRO3y6r+X3NqgfnBbfSyZiYgEUXqOAHNUKfyBTbnttPyVz8tJ3YUsetrsIGbXbNhl86StH4BpnXdOhK7OLUiKxNQBY7yWkwmsgGGdC2OTWpuZA5qZB762LbhyvwcRpIHRsg8UQAlvt66lo+BwQ3ZWMCforHF2q9CwYkmN8lfScqAZ5ZKQgjrbZcA2OFUDCl1H3L3830ie0l2/BQQqY4xTaai5MVDbLpZ3vuQEYuA85Z//cvI5IJPJzPn6kdxi4DB6fQU9ARYxuIQPW0JTwoovve/5FiYFX7z26b88x0xLENBF4QKGj2f11WtYUY92crmrXLpJJJA2jh9ubtuf3fQiG2tDfvhDCp5HtahLk0x5p6qav4bLOsJaKDk2hHzR/7D5XDS+ZQQre11tVynm1YT6NoCyzJvfytek5k+Eb99miv+/gGkEG9ZL1j7ijWSCTk/Pf5JvHVEQhnrry1ZTJTFV+rrgJs9GlpkkZK3qnu+WclaY0knfvwVSkCN8PUTxH/nfiOSZAiX2QQ40YPtbTB0KGVnw3UCFubHMVXb+jYXuA/yQ2ggsXLMQCpS2kFwi3PLhJ7gwFG3fc8yFJW6mBT/WKjQm1ENR2wBw52fmw4aAb/qi7yTQgFGZ1ff5qXd+hIveTPYvVkD+rlDlh3uyTlI3ILpSIj1jyEQGQAuhHNjoDtHXX9wkphFS/0Kv/j8oCf6ODoZShIgk66Ez3R6Fdg3OVt+P8N2rlPkb9i/fpVI8XkPbPksG9/UyXE7EMZhZFMIEfcUijEJqiEgjIXYsc5BdgcAlDW6LjAyRDUuNWg+Bej90kbhd4a6JO5MaR3JDx9Y+ckFZ2fT039Nkm8PVD2nFcDTvH1LayUcxb58thw/ycxarVs1EuArmA+zIl1zYpfNyvCbY83TJx+pFQPA3yolNLemU4FlN9gnwVoj2tQlPnvYXDLA2NKhANro4zZShQ/KzagyfIM8C3Zq6dXVfF3Jetzlm6yOjsKcCmbANN+RdoaM4BPBQqzwiHENr7BzsKLlo66KUcqzoEO3wV/84GyohmrPGGvLwJ22Kyt0FHhJWdcGFD7QSOV+E6+5GfFoywnz2+88cb7bufPlWzXA5dmKsF2Ts+OH+69j7DWSoXZ9p+7LVJqCwcciSc3SNJp8D5RgEukJtj52X4Vc2lVvPo9TXo+xqV4H5SnRUirx48j4DYoJWKE7hqLXzx4RlPBt+r7I596K84Kv69mUYrufFwPuRhjD2P/EJUs4uLOiNYKDczdHUhv18BAdknTkEu9fa4wqaQWauMsmk/MAC67dACdqEfjmpJEvqgXg1aCYG0zDBCCd7d2ciuISOYeG65Baru4g0IIPIRJuCEpA0wg3PR6KI5BoNXCXqjCajus39vYa09hnf/MnaKu2Zd3IZxAXwQRFb5/1JNy/Hc9y52GRwE45OOc9A64cZksCCyL84OrHpmeUxZBRmAdQ/0kSzDhoAmwqzyfxK1g27llRajlSrMZquu88Ii2RS2PrEdTdT11BaSN5ybtAXHgDkz5y5QquAWXUDovmpH21OCFbwbrI5BnihrQs5YlQgmiMsgnS6FvsKz3FFmghXWmmUeN9r1nN+deJxLdK8JMF1ecGSqFveDJQPtzzyVIdTr+z14c+4rjAmYJnXOAb4kb4uAGqh3OPXtFxnbzAeFEbcOUILpfzpAAuvVfxCtQHCVi+dfraHYozzfpYDW/6iE90azmHSugyYhgtG9u/aJ+vTVz8FB69UEWuks2d8bkuj6HgFFit0EJdaNspo/It7A3ZN95VKOgFScgRDWB4ndUX+BYF8YpW54EwGSu/5cF+XGm3thD26C6QgtKVrqPbRRdr65W4aj3TsjUkauCz/x6DUYk9PIAQHv1Hi2i45pPJp/UU/jC2tGTktEqO06ooSmD/83oaLz6M+twAJ4EM+3RyvVkZS2u/f3K6fyCf+bQZsdMJKTzfD2C6tR+GhmfNAh6KV4I9TshlLyBM1wE6XrWlqROZkQ9oofYHBPT46DHD0ctnSC6jKRW62LyhOx+LWogZNBgZl2wopFBaGXH6XhFq85M/ijqugE82T1iD5igd+ujXm86iiw8YxkdrLB7ixtGgG/kEpyzcJ3PTFrnfMLw0NgI6fDy89XJW+j93uVOMJnP5/uWQCArRZQybR9XvSBm6OegILKxSysVnqgfwTG+17wsxLrkc65jGmWwP5uGKMKAN749iCd8q+S7252ubTIKKWxKpv9FuHenFavc8njziRuUBAT2sHFWynsD13U7qXJh0ugaa7zxDaJWNi1cknjzxMVACKthGV1l79vI6rrdgRHIlaxvqg17zjUrx/9iby42w/ub7n/eJBTtuC2G/sX2arTBqchb06CeYsvcs/zeKFtSy5sZW4s4biKh5jHckRjB6sCCnMAsrybolcAuBizON2C860yUnzDQFp8tx556gm+8ICAUngIgKaNzSkN0VRe0DkijRXxPWxVP8POv9C4CuSax9PKSxY2RdMZo5Gxc/ZPU34LB7MAvJXcGqSYDGN40X5xfAOZ/kB+k250EEhPn/hLS66NcHNVfBDAjHOe8thcaEl6R1s5ipvOpIDwvFbXnK35N8vtCABry0A9pRicfCOUQHQafmjqVnNLL1fqrpu4GxE7J3k8RKdBt3AOl8C1TgCd5SZqp38u4M+Pv9CoPoYgMqk3qCCoTQIGdRiNZ+XmZesioeJEWu38rYEG4oup2UEpmnG3aDIOjlqMGN1s1f/IdywzjQECZmfdsHm+LXkLIG6zo5428xtEuQZK8JkJ3WyTvtJxPHl+faLWwRTg1q/bpSQgSI/YaXveAG+3OG+79f/Cgq5ce13qmYX2lvvR+NsWYB2chKn11hP+zV6zaj/iMkH+EtC2VO4SVhHv5hvcWR8CAi6Zuf9v2l7e/nwEKYB+PWXQLl0HPVQ58iCsLMMeB1H3yobBbY6nIPm20D+qY06i1oAlvCCXW1D9THW4N/4aRPFGshlQrUI1DTDIOhPkqEmfZNAD9pb9s466SlP/OlrCHw2oQAyEO8IA06dK8sARaZIECanpid4odR0wWlzkzDbLzwbt2v3UkTd9+UDTxFP/XuaJUtd1Aw+bQ9H2VFeIX0GfI1IFirZfDB0GzJWwXxYAcdJB7xzlQllbQd27YhbKZbPk7Jfv+JvNuzmQ8vx6twtumtIlnbto1P733igtz5yWdoV86owflolp9bdz0horHoMtCHEk8MvNNoz1mKpc2EBtJFNWCnuP7bjQ3u9fzl0cPK0cSWVw+xTIYOP2xRwtkOTdmKi4PX7Cw8rM0mNBHPx7dUDsFTCxgpt4un1UaWQop6Q6UnNsCzR0YaaTYso0kAim7iQiOFCnQ3fakRbd7c02dhG6fZ9/Gjb13in5WhXctyUIvdCTA6xdA6Pg9Ch2AFozS7wDxRAJjlOROnSmZd8NRLx8Kcvtibu+rfZKxs+WQ6kZtfCe5LweYWiP650dwL49zY9yo7NP23Md+dFwGRxGv5QUwtYlpGFik6LbUUU6fuJrV/ZDkLhOT9lCHvjFxecmucagVCrpx8Rv5Mv6M36/OwxjYG8QWbVtAnUOARgsbZWCTvxyHwXoljWipLVFdbFP55pPmi5rcDK2GunP0ScyI93pDLisfEK6wixzzxRChsmA10eFWBTIilQZg+4Rlf+86bQlh1OwSUJjOgAgUGV1oqlZ6+d6Ssq7F5QxrhLPZF2lRHovA1qiJoonaa0LivPMRUuHAFp3NaQuFZvKO9Dw75SpshOInorMSg24Uc+Ryv8cso5NKgQ6UU4jqe2DNi+PZleX9cqEX2eVI8qwEF0Gakcz9H6j4tbDdw0q2t+Z4esti5amht3OsKKB2mmAToM0MyB5Gm8HkMx06xPVHtE6qVRvN1ZRlM7fvrXFcToUoWeLIVjRGbvGURGWqX4zScBwH+iAf/3MjLPGQuAAMKnu03zipdGkvHTrXa2OLbqt9H2AASHAtRF1GnJ4vVD+1+UX6W2Ald7c2PszZSGrjwOZ3O26YrD7kTpKWxhKyUT2vnFSs5ROV+H0b2EPlstEq8OVBB967ApMMyJsuj/oB10D5uTj2o0ZlLjpQL5m1dhbIHCGr5meUwu4CaELsOn9YpJ1Nl8112yOQmtwja5UQFgi1mI0tuC1bQS4KdOyRufKU6y5fnXENx1YpmntqZZMNv78K0GhPiYTH3TmekkDix3EWP8sJkcdgurRrSKymU41ztW/Xipo+tNQnYixOA4+t/4vTG0xX77wQRUuTWlvpFG3HXZaW/phNUECLF/sxQRf5a/HlEOQbLCRP+gX9SCBRkiKZ5Et+fw9m/LSo/XPythHPJmcqmlCIiZUFz6lHX0+b/QVv8nL5zx9OdtsV0VWmK+U3QTdt9MmG+dRmE3XMG5drXhLL/4tAqpxc20M/ysp8aLmF7FhHgOZLSNjLI67moBby4wLF6WRM0MDNtniCUSUiSqvLeKp1Ba7LwC+ubjYEkyB1fnWOkicKSZ+NfuXAYYq7yHpscj7BIxp34kXbmvG5SY2MTGxM43ectoYsZfX0c6+DW4e4FxRDC941WrcjTUIYHtmUELuvk3W4PgWc8TfDayMBhi/7zok9T3EXVoU3EP05pVj4GrA90JX8dkuBDKlWo4IjJ84LrIAudJyJ5iW9aaO8Xd4lx0P2d3YlIwHt+nDR4Q0WjVnZ445OSd7VMUp8bm2BRACq4yS8mHHnzyov9yWwPQSkgV71acwAAABlBBnkJ4hv8AAAMAAGaCceziFy8vrgnVccABFBbKEWQlq6/w1pASp79mFLiACN7BFBiu9av0jJYLlnBEUOYkgfRr85qbRvjuvWzqrkyF1cOLxhCPzBeEpD3CiD59D8OwD2lYrPcu7tXe8N88FbUkBWmQXMfDUEqmxQP2T0H+7m5L2FnaH1TwW8OPqxL4mQki1V/J5nZkWngeWQ1Rl85NfKBvgGc0cl/J066EHn5YxEmJ6spY9I79lIbLdTv+XfJ5MRX7o6A4mHDmnM9HbYe6i1Hqh0OOq5wIeCZ/nbG5Y+MRTiN9SWE9LH2YeY3SEn4jooFPnwF1D5u9Zs55/OsVOLKXxFXf2hCFHjlBkgI29hXEzIRvCHws35rk2ehHe+zth3S7ecYLfys02ur5mUOVl2oT5DsDzMq0IPbX/rUSTuTbtuk5Sx0DQxxCqFAij7AIrLnRFjFjpR0BYPLx1Mw/pFDrWyK7FzdWJ9QN5l65KExluRaqygRQJX9/sccRZzvDw5Cd/iWEpDsuey2QiDQnoaOMqPP81KIoV8PBBqi2tL6MdlbFW0/solnsw1ldjNeG1U3LB62uKFvEiCX5Zke/xeXF9Xh6SbbviAdrMokITZXElgolqRbfZ4EKfQaXxzD2pWdRkvtm4jRMuOVTvumMm23vE7Mgf+vqlJ/2cQoSELI2S5NfNRIxjb69W/6vqqfM4V3hCERP0aEL8mAqDj4tJkEIjkLtK6Si2vvsfhibvtkyy7o06uL0xOeeZR2YzJHOmgmTFDrbyR7/6Ver8/eODBG0LVOyc4IyGPh0YNTdT/FTYbZ3byzgxpDR8ide10t5XuAhzsCl/dlPPnZu6eV12r/nnIPeo0iGBIKJgV1Cg7km++zbOg+Lb5OHaNgBHFF8UWpR5V55iTPxZ21chC+yS/ahRIpd2W2PIV0lWd5KUzIkejYOxx+EMvylYg2YwS5NSpkmjVe7sWO9EdX0O2aYrbOEqyQyzp5mA0l89jcvS/iYUPyQvHnjNaSgOUIbn2A31ijZ0uuCEsX/BOG5CHbWz0zcW8C5/EVqfFS00GrpMiw7t68iFJjJVIoA/c8mR5CoPQa7VrufdVy7c37nOEuJ+rlYc8I2Cs8mX43TCvC4wlvh/If8CcNXNBeQIRnYCcqkzaeK4ANZa4fWOB2676hsieubjsmSKTMQvFabZxhCCkduOD/fRzeqzSgJ7GyyzcpZohU7Z7GsonyS+/at8yJhqyKUVd3BpWwzPFNXIRX+zHXU7jk5+xg1I6Y5kQozZnUzbrcy2ncH63AWuwVf+B0QbuvM0vGd7fGonNWcTfJLL8XGccTVCC/mNeCooTb/467wqYG3f8ZSA2dv99Blpm/JrvzIFcSO4YbmX7qwtsepwK98Giw2fgmJW08mgom3CS9FkkTXz8Wb1wyV+EWzJf5WVc8ax6l/rYmzTrtKgn4XRPIdrirPx7Z/rYgxS2pX64LeCAn/DssngClSlhw98ciP4XUcdgxRUmYVILLhvmxOkXg0kpMuXHeG05NE5W+EOfdwQTLp7l2v/vdxSkPH2MKbMEtXa+WhUSq0R4MG7JZ2AsmJPghyD7RlEPlJGm4nmvg0sMGHB5pUwxwdvkwYJpeTrrpwCLjDwzEEaiEd4wZdPswvCyjeomXvvGoZU51+2UvEeH4H5/rXCFFVa7PmnskdBGDu6zw5Gs0HDLYF9HEPgcGPNDXBjFpEJ0M5uQuro6a9hLHeC3da1Ebbbu0Xy/LPGWkbIFnnm80C9h7ERs9KD/Q7qPF6oPB4G56vHiGc3gjG+s9KYB3l2cgPcqXBFCmd23NgXeZXpAdzN8iP4pGfqIKDWegypCPA0xMoucKJ9TEr1hTBeXREFzUGoplPErMCanfw/Il7tdJkJuOWWpu3Emk/kdKIDpY9kXmeOLlo0VqKMP9fqSl4VoBjVf6RRetCJFWhVvICDbs8ekcI9KWHI5KkzRUhKaP1UE0pVqTrVLIgheiVpNhE4W+BnLQtJ0KOpvWux6Byb3COZZPjOqD2H4deX85RuMjCSgQbpdol49PGRzN8MBQ8Cpp5Qycn44K7DSVtzUWEMEbBfBZEC6o3j89f3IXkuHiA0zko7T6SixsRQ93Ky1WWXus0Ano3QZyt8B7zJkaA+ZofbX9fOEc+9SAh4QAAAmgBnmF0Qv8AAAMAAM33pQZ9mBHNVpzNDZbMhmLOP650ru2BPpTF5WQYL+344BQ/s13i3OATSAqKAG63YK4htytWFVDLHJ7C8xm46fg6u+/DBl1BQjuOJgaKgW0W1EgcF7DsYxUr8AoDv4gLx+PvEPUE2E8f1e4KcDDB8v2snZe0mVfnC5stDHOJif/fJ/tTAlxokUC3XNh/6k7HZQvlZIPpETb31xRmQwaRP62wnHgSRa9nrv6yygY2SMXEJLhim+nNe0gAowwmU0pqGw3X/iV757at6rP7CB/JbIfnisIgkuNp6HWWYGAvM9aEYrtZgBKOaKEMzM62hfsLuVUPZRfuLgBCYVmFikucJ2wjBxsDDE6U+ZASIH7zWmzN5WxJl8lPiLHVgD+O/0pouTpTGiWwRkO/pwTCr1tdOw/GFCs3YAuHs9UmU29JC+7tLE37Fr+ARFLc+c5dMJmz65+/zJh7WUvtuDH4Zyv4QN/WX/+68DK7vctlvkEJmRKqU4hnHeTm3AvtfnGHKBnC2c8RhTmopoMCnLxh4mteCK0emkmTRdkr/cqaLHl1rsgl0bKCdtsoLztfP6Z2orZAjd1sIJyUb4ZW86rDE6hPwiZpAmI5Oqw5qs6TODXLQ746tUFug5FI7aboX0vxo7R4qkqziFjBrliO6NvHi7Yz0/y9gQi545UWXwkxG1OjAb+8vfSH30IgZ30uPxtV0BC089MywaDGppQWqgzOi8YAbrmQQJDOi0NUR2KXFxUv9a727bDpEi/ugB31vx1G7FiqqgD12fY39fYrUiyofyCio2zIOS1uW3ZJLdBgFiLgAAADugGeY2pC/wAAAwAAw/8rW2aVdgC3wOmtsM2aVKwj9HONxwYchHUFr66FbjKufFti61krLnybrTaYLIWHI0JwLJCY31IBa+2TwRxRG/WFLueLgAg2CsdvNHJ4jXHilyjE0rLSbAHYFLikxWq50+gFU+Fl7Em58h8uaqa3oaaaTIwpVqmbuXW/6b45L2Xus0zWO/A8oeYfT2ChJwRNn2GhZIxj6zu1LyLW+7dJhG8AoEOrUUImIee+79cfJi28jxaZge29/C0nkGH/cfb2N38KKtkZgEt6+pR8c5fLBD+qARrhpWS6cF3xVndd2L8fbArd+TWoTNE5dLfjA7VVQnIiYY+8l0TajqSdRIqeVUAE3BDBZ+z8oViRQr/YaQ3FIv6yAkF5eUWQy3af3jQWZkUGfD4kEtIwOsHvr0hdgBnRgBJmkcTKklJA0Ck9UBmedcSs9x2JQrI3N8GIM700xa5NCJAyPKYYu/+DPj8TEPpHdkP0/XQ4yLB5XQ5Lih2F96DU5mFvDfEaoOatwdh8kVZUUFvsUHjvY/XXv7qXAKkr0b3dcFgj5pzoRYircAhrGHjK652EYBrohzTtMt9Cgdc5vjAZ4+OFeIzxNfPOD6AkcqJQS0H4RTMD1ns/A3+gxCrt30emDl12P4vdls3CWea9iNDmyPIW672JnQE6Q+O5oatnSRefUVC2GQT2mf4NIE3deF6hMDYK/Nic6WmOm5wfORT71zeA+ekn9VrAhh09Mquy6lc0HWFQBK0WJE18IkMGO+KU8uEHcxyYpPzIBnyH0y4SYe0XfcHD7P27N1+L1DVbfzq3NT8iRJnuIosye3/w76sXBovvJdofd8tRF1nKX4iOhtadi6fXqO+XpyaAUAK/u6QgJ013ZbtUzyA7GoCOGghHG+2i/XMq2pdE/fmAeZ8CVmnqw04TEvpAgpBMa3zkw3PTNqQyMWAsY8hl3JLuYM5WnU4ZE0kVUvK4nuUUOjasFqGLNLb8vfjjK1t7dSoGobqAlJXKtAgIrKvy98yQSzd3P8ILJfOzVgt/tsu3CSd89EN4+yRLpDhApsx8RvtVNcNdp39PTIMM4ssYBEpuOAviqQHQ0aNBxRXtbxYMY/Ejhq6zXU8bdwsp5JaBoVNk49w8HxmPX+2zxXrmgnAg2gAvqD2UPPb2+PExlBoFHDOaFgdOzBvqtGwffdWEU9JtYxrwTtqWTttuwEEbu3x5fbh2b9FqQ6Y+hd864wFJIHQxQz3ofbUoZMfL8zuj3YnAf3QHpWP2q9ABBwAAEmhBmmhJqEFomUwIIf/+qlUAAAMBOFmaS7oQ/R0A83P9BgcfBHOquRfKTqzmgP7g66tffhObl6rJOhcnkNpDw5BkqOODoBWxH8WouEwlQ7ixIvm11s4P2X+RUWXR2bo9o9Xy7oLPNYhSUfCHEyyJdwKYLRounbcoXcmdNZGeCeGejTAHmfzucBurYax4Mv0m96N7uWj6OvMcfQ4jIyDwJvujfDLckC5ERmBwBHXTMrN/f9E9mJWLsv05Kvk6izmpv3SnVoyUaK5y8unUQHqSxo4R479PFTKnGb6sY2k6EFJ6sDzRi13+XmGVBeXzlQM2ubEPBneuAZ9DLIqPQYGZfEPakeWD+32eEtfZF6ANqA+N+jf2O0Li8WiwTKGUVxHldMzSpojD0D6y3oii+t0uWGorvcuuObhpSLpMQcWtGH3wmK4NNP4yG3gclhflBU7IH5eMRDI713/deZe66ahDIGg7rZMfIqDt1lHB9trBKrlqkC9ZvX3OVvebDtL5V7uaj2zQNb0MPfHjtcsuVEElJpM4QHqO6o7bV2K7SLG45gxiTpG2Vv0UQVp5fXoG1urkrtLaICX2rk6jQKbNcRDfnGpQnr8lEoWMRwIxtHdTL/pu/B9yC6wqN3KUV0ztdkLldfPfWQPOBIR8tyOzzSLj8L3ePsTWy/0HDKykpEkely9J/ggvpDCGZe3t+KaTqSD9dtVabyfcnS6oiv3D6QAMpwBDs5BJ/60Ox3YYxX3vfk8z5fDU3yGewFbQicfFc9pBevoEOTmHhq4pCBI9735JTRaMY/bzwfe/mTXcXsdDOCnqAnq8+vg3iSoFe/7pv10W9K/1lTLEpxMa87zP74DoC9S4zfAzYuoRs1Zli9dN5MITVX68ZTAhq34MlqWRMyBvJZONFzsVWrJjeV+cRpdlUZ/vujtNrW5JoJcbqY6AjUSLldZZnQ/XqupcnQlwBZy4Or8oO3eaGg0UVXnULC78oV7zJkqkyQkYwDTLBgGGT2UU9Vj2gAhecBkfpILPTpU28thn35o64YqPktQYFc8Qh89ban+TnbV7MT0FarsKemxFAkHrzltfKhxwcpn3jnCUZMsdtvj4AOsx4J0fYt7YWI6sX4Gw9+5yWTY0ljlDtUanYmWny0+C29S/SpsKw9Vz0yOrXW1LKOuFR6Pfu8k0uVMr5KUnVpPtol+adMTtRqX+RzTrDdksjkSMDuJVFI8ZFnlkwcELeiiCokKKoL1M/kE1znPughQrk/VYxuJ+wRkfAEtzapDQ2vURCKRHqNIRWEjN+OBBXD1/ceGdR6q7ar4WjCh9IYNl1ijiUy85DMjceWp6SLQPzb89ukYeJDaTWyX+74gGMwv2dBHgCdqEQ6Jy+bp0X9NF0De30QsRot8K6rsX1wzPrIb49GF5W6nbyy1JP4or1pm0ePhfE6MHknE16nlwqwIMUdcNrfnhsm193PTTAwocAusSd6Iyg5cgxUaqi05xq28Qqw8SJIafRWMZHxkKbjE12TmR+8Aqctdlhw9iz4FRVSNRpaH9X83b+5+ac49YBzjHso9uycYLqbfVBSdowDmGSy3GyiW0cBoYveXUbePUOC9B5ej0JsDi2F1SkrHZs1DZ5y7pNmWsLgcOPZ0HgUAa9qJffXhjpNBr4+D4H/P4mxiJ7OkX8MapI7jhJeFpop3+p/3kKPJQjCCc8PTBCSDS2z4/IWI7qLdPRfZzm7DJ8DhUKSgHurMo/nsIaPGpIRayNNlrpne85oy52j09LkhY8XdFVxs8vEHQTZU21zw6etCsRQVxOtupT3/ei1XZ6c+/66kWs4VL+hnj4P3I++ybcFNPf/8uhYQhIuUULZtfLBYKlfX0XNSrB6Fa6C5B0lTiVj5SrY6tqJIJ0czDwGmKG5Fm5Q00FuLVK9vJobPOzIqrB3U8t196zuGF2TWUtZBhFsTjZY+TmhYnXuxcqjTERLVrndxb+6YgNXgLH1NakSu8ao4dyEmdrksOQRCysoM/7VGHa5xYyeV0xFNBoMW4vMMNVgL+KOaXnxz2//jBozFXS0ldUBWEe0PwLFcdNG84rzlGi1pZCe2xfka72hvuq5bM0/1MDTxwGi2ySqvalaS9yIjt6WxUjnGQN9MQPgNrBS28l1N2F+1xgn39o+fuUepk0bEcDsWR+OqFzFmAjrnySg5aFkzE/x1QakAOd/hzSTNLWF+H2vY9HWYKz1iBQN2AIDpVSLFZro+3EaUFoMZ4H7pPhfEAshoOMtsR4Qy2QNf5Bxyc3vk4YvG0z/X/PN6QwlN3kbExbGVgUtkv0hZXRIkc8l3464Ntwde3GP8n9XkFP/zf9ks7p7mZhOc6eRU3t10q2j6Kr1HAhGci6oAVxV0HMaWrT5QchMBIIoH1Lvtmh2R0Ti8nGlE1Dyip2ZHc8iIGd8L0BMSF+x0BneYWRNMoZGSKkaSzsGOEAXW9ZgTNfFyOg8zhCpWhd0ZQVhh5Gdf0UQq2W8L+GDyAiRaNc35Qr5xeTkU6vIO717YNZgnu/KDV3Z3HI0oWfipi1zlzTiPNKKf/ZKvNU+y3oLBqDlm4Y3CvEmfdI1tT5Rq00K7ZzmcfZaK+tSxkb/Zyw+FBLNsW/mtcz8OXAGDUwjUUPmPYuRgb0sUwpl/CKbBXMfv4VJPwMpD0zj2wipfpXCYAgWRl72nTQQFBwI9mJIOovIxDg5W5A80J9BJaKxGsyiJVoxU8hwEFX41qLvBUtsXWUWPmE3H2YEt4LcS7uWur9eUziQyXXZkBdjpO8hfH7fL6iut8XrHzGen1rNS1c5xaiSsQsI3HK1u2KPOW7TyszJD3gEjQV9R2nTk0EtL15vKvPxDiAxKCWs9PSN9lGOzkyShlyxekHrnwCRKzs59N7QQHyrlqewCpiPj1JYLDpYAY/94RVnG6OVSvkg6Q13PRZRd0eEyILPgtwU4XnaBol4qkd7ILvi31DYqK16ocPmV/wka607WPQfAXtHx1Z4lYLCZbuDFluZQITfr9Nt085wCSRKbAVDfl6XRcxWsSOJ767AnqqzgRAePgQJDUvIdMOqpqOE90FCtxFPJhYxFUhM+tIAxKYjfNOG8ODwfuClQGkw8sUhDYEaTFBVnbMEyawBBURfaZXBymVTCv5MfDqpeOvh3+xWb205i6OAGRudGcJPNYxh1M59qIGjmQU5TFTfVgMVnI7dI9NxGdVyVG/0oPLH55/8LeOTvASZWCnpgsN6lPijmSC16bRvjia2UQLwU7Vqt76Z5qaO9OgKNlsto7bDPP2maSJHHLfoODbhx9K6icZAW8pQYNdOFHAzNp3prLTMCZpupmmJQ39eoXpIPQlTbR8MTPpjJbwEBeTfQfoXo3O22vs3AyzvDl6J3xOb1Mr5m5FRSSdhZQZJLVJ+mfsecn73JRIahOffyLx9ItepcNVL4uetrQ8FUxzcXMZ0HL/SuxpubKaiodgWr/pnpmyBp7sAV33MmNAB/gJGgU5SaD9dI+6btrVf3wKYWtVaVzWwcwN2pcLX8Us5ouAY0GeyDgqRWUsI8xQxAN0FzrlBFzkXGAinf+VKsmr5hoO9enrKjyHGMb9cRriM/QoGbtGDf8ACWqpnQWrFCjhTHL8fd+RR0pThNOKe0wFTWMe3ht7sYmltonAoA/hzNsETqtp1UPOuQDizCz7iXb5e/dN0FT9ayoH+unBGRMtNhajKkL/syyyxjQtReEosWf6R8FtD4neeNkPegBgsgiLZuYOYr+Qe+aseWuerOhStObL6n7kjcAkb+Jk/Aj7SyYHUwMkWZvOJvOvjNTRXb0UNGvlMgMGnc6rDA8fhEbId4c9wTZ70iARWZPi3qas6eLjWoohdpkyUa3r0B3EcN6xPZPpB8KEb5U1YNvG2n2ZRWVGWzOGfdKoZis7BngQxJ0I7entPMaZf8dZ7tYVYGs5U6ZoIUppTE5tzs7dVJ+2o3xFzyWiGBAWAt3bYlyUPpG4tyiPY56PEUlBj2sOCiqw23rLf53yVakp5M8Uc0iWZhKMReT9MSHbQnxZHdJKUn7sKb5xdHXy4KZLjL9UOgG5R4B5YimuXftEME2xbo+kLGvhTYlHZPJ7G3r5hxqWHqYrI1Yi6RGZVLXq9THokQFIdDfygNcTqo8Ik7ItKYKh+T+gdGhtC/OQPeq1qQH/qJOqqrCvceXol4IFomFGEGPEqyIVtkxoOrNq9LWZW8AKQBbjSAsU3cLZsqRm5e0/1k4jyCAIbeMrnhPLVGBy9N3MKVHYYFk9yUqAOgZFXTPPlNJwWO2mQJ95QuH94WK5UlJ2pD7QwN3SeI8jZKFmkJj27E8L/vKD7SgJX7LnD8dyXhDm+x2Kd2CH/sYDOUeAr04+NTYbwf2x38s5V12aH0WYrgt0x5+bzcTnXWWdy2QBZdRZKZO0qHbfCrlC0h7F03GrdevA/IBvYoacv5ZGyY4ZZpJgDCNX7u6BNPRbBo9dS6vq7DLGRC6cRZ7DltmDVqL+FXY7VgH7VB7UOQci7vG8Xt6nfInxwNvsyrxuXfwFrWv5Unf/Z+KYR9iEPGPb532NcYiJR0zACRkCRS8QLU0X4J1iBK1pwJva8Om02yXLRx5rAQYZPb0EYmZhA/RjGnsm1j2CUkwknKh4zQKM/pHuZ5ERSMwm1eL91gQwVzJFeJfNm37OtYjHb/p5ARR8JgonziS5dxhcvEHMM4+8Xou8l41iMMDiKXb/sie+1arECqsT7MefElY66591edFQnjFsO+O+LZHkHWaC7CjW1ZXA+9QUbYPPub9b+de4xDjjrthnwUMzf61nP72b9+Jj+FwDSq5gPDooP0dlWHjURiNFXgDJfCLjf4wRrs9qjrfN5ghTxmNR5A/mP3jLhPegjdkYSm9PieaBgbgFUoI2bBwO+bGhPTeuuoAduTWSe7OzSNulB5/kERtayX2l0IbiBzwqx2qT2ZNTvXlHeo3Tjm77U+EGrZo5WPZDw6H5chMkHQ8zxGD4rSKMc2Dskn3DqrlndIQeQYZewumCYTT0RgQxrnYorxN6doS0sNf8baWJLgwgJgPwKbJWY1jJC0yVvAGBuXEAAAJnVwpHNF5A5yXnpxhOlPkTNc9Z4M20O0TOzMBn2b/BUq9KsSrIdN1D/MXdzbwbbj4hSLNKeSWnYS9mB2htB/w38CP9wMKHdRTCrTGWzVdMOJKNL/pkeDoZ9Cghv4YrcfPuJc6UyhZFlYJTF3tOPnxj78pgBTVaHlMmdm6ocnJayY6leQIDNbotD10F+p34NNaTxCYCtXtcdJSKhhdBxL9JKdbpYLTpfJPZbwSG1ZJQbUjk0qwixQbRmtJ+FCr3XSJueUBca6dVumqdxbLX/A/KScs2MRIZrRROSFR2Dfx772B+xhUOVnOW5I/COiqEWsTwAHQ1YoaRKTZCVcoRWPkEuhRnB1EsT44Qv7/XXTnCD6SRZHTfQLKpAkPUwEWHdzpFD3y3/6zviV+9V9LoSDzJL4c2jKxaZ9crouC2Z491PVfEeIY+GNNYBaMLqHLoknF+p4vwh3lWBMlL7UqII0sOYZA9qTQqaq9Yv/6nCQvPC9udVRxioefyWYAL2jNXI8r1FQRzRIDvygXA9YUMCLNm4JnaIiN7HcWiYAAgwdyXOc5YmJYlUDmNF3mh4kX0CiUYHjXet4fRyOzUlHihyrjIYpWtj0/Txp6Snl/riuqfvRw+PesbU4PUDObYyD3bA8i6YahIBirq6QrHRE15lLZoEak3tim7Cm+RXy8vdSfc9CYOPEk2OHAj/4vvjQ8GinMuDYggNNtER1o+/g/RQnvy2G/ESUG/teAxRgWQGkjfiJLAtjHrHnrCKtmFiEg5TVgs4mXE1DKn6aMT5e52BmN4fjidrxmM/LxKoPx9Nr76uPxQYnONNYmYtmAin4qItFsmo6ulfOjLERFwM/2Wxy/orxb6jbngUtghxcOE//CN0HOsxK+2qRyWDhSlF4LFggjwpZ9NhsAluFJzDK4Y3pat02B9BiekMHhkCn3BqD1/7Vv028RuGrVkGQfvIYCFGk5WFKkBFtchkv/D0YqpBjmBm5USx+pWPNnPH8z2tLoKjn90Lgcm+bJMmxLz7RIhXZMvI0KMDKX96m5WwIVE3XQqAcDj4X1FdMbH9brokbKJarh6Wd+/nS3Mg+A2LlHWGd1tR5h7fAJiyngdgv4QJnVKYnZnaM1c4DXDfsTULDiCORY1K1zPI4is1LqoyuAlGBqV62pXkXZKyCtqiNxxfAMKFUTAL/m3LVh3sKAUm83r48yBtv2Re0EUzJzItqDbPsPYRliFUmsxOR47QAAA39BnoZFESw3/wAAAwAAZEm+Szjae6MVNMqALfPGy5RrYamNUmcoy/cBbJqSpIOcT+yn0X/F9nCX4nsU39LzNkPfmdzvzOmRUMCO77xjU5yUE7CTbvHW6NWFcQ7CC4xo+7l0GkgNfhvcfo+nMJFFm1IYOlPmMh4ddkcuipsUoqsvrbgDu+F7p7bu4L0n8kTKIEtmdFS7zbCEHY2v8YUKpKZWwdP9vLU/N/QgbcZAvZJhXBttgCcZG7P4mOSmYUYNACkIC3KbrVM5YLz0TY+qw4+ZvtSuoSsBTeI8y19pw4BOr1CqIVVk6H6te1A+Jn614ORvZHfMZAMu+MnZyaOeqMqnNAAEeCTdFPxOpPbMWy9UV67QyrKikaKUPqjJmGzcta2cYjC9GjDSRZwRKnnBjmjTtuqS9jsPAvMsyH9g7QSF9wdIoVAIB1gaVN37iL4Whk2ID9b3BnAWCYcJLFDjBrTCac4kx58UXGqKaVydzzMGLxealGWL/W926wzAcN/P7c/Jos/Y/di2c2CKEjEBJLMXmTntnf3HylQd5AhkmO8zTPUqzut3ePMtjWRZzKOOT1UmSgTLg+nuHEltRnN/0MOal+eYAtWC4W9K8oj5vOPiTlFxBKwelit0wbwGv9bH3u7cdA5HHan6iPqNtdBvTXYK7zVMmVfvv6eC+aRyeCo/mBTRlCQvmOD6pbonNz+FQxdkZ6Ubp6wzAi7WS7BSUY4D7xqogjL7WZ/4eLlpJZpNWrkmE7MN0mgAQxVOGSyG5HU0M9xvpeOfqgWwW9ksb4kbXaXgAkcOEGGor490RvR0auwPSrqmfU5MpyEzY8fDAhyBgtjlceVHVtoVmTWzVuCbl2xxK87+3NpEzN2x+u5sFMadGplGY8T/YTBijOlsF9OwgezwIQS7EMyip/n/v/ws66U/KZkKc0RcvlvU1+I0eltmBT4u4BU9KhyTstW5l16fMpwVVKssN+4Xa6H5UPgw9AtX91arooQo9g9XnCVpJoBMYq1B26RJTxr86Tq32whSV+p0pCDc9ZS0n4z3M6uXUPR8Gg7Y73j+3ag+UNrKf04oXcNJA3a7S1hjqY6wLL8wlK0ZtkDBW69NWO5jLnaYxsGYiNbpXmeIYOABZ3p/10gJUXH2uBnjP5zt0AG+/1+v1kS12n5Lasfi0SWC09AHVHhEWEfPJy7G/ba78AHzAAACrgGepXRC/wAAAwAAxBfJEKdaYAFhmlWQIYxlfbxKdZaf7JQ9WBCTgc7iMOuAXAQERwgXQlb70tjub60AYNZktuzi3vdZ5mg+dzZVpmI+fUpj4c7c0dDlqtkOOyJwMFSyytU9yQVGELujb88V3Vq0LP8HSS9BxOrzMpU0UEp5RXJMVkcUItsn5Hh0wxCW9tsSAFHXsE8jwvFinDBDNWuNjORUhJKUYENgg0q6AjLrHsW3r1JIXTTD+VwzunebvWavmJnxJoVZvfdkdYXS7RV0KExpfOTcSLO2yDoWYnW2IRCsZ+hFlBbORZAvUWxXRw+asoSINBKcFUHz0JbPYKbT3EyrpjgzQ4Wiq+NXJdgQGIcp8fWk6kpwfkzzUQ5gRtNOUvK3bTcmEiSm97jYohyRmQZHiyHsKexCfe85INZBUMGTgR/M00erDxpULrQA+3yJc5ZNQjGkkW020joiOllX7hLvfcQwax/ifAhfdSALX+hTQ4zR9ZTpN9QZK4xlLyPEQq04AZAii9mCbKPj/bELFRAvKoHuGaJuc6vfHAiFacystKyloQZtarmTpewQi5nuv8H4KF5GkJqb40pFx85rpcv0g2Xsmb8J3TI+0v+4t7bUABYV71YJpQkiNg7BJl0sSgP0jPLJgr9WirDRcNIA6jeBOV2rgFXZRqgqB/W/dKiZ9dg6PKBVH5wL5HD+/h46xBy/SlxaEYwe8QgK338TauKZmk9UFwRjZKtzgNKoCTt8no+55hX1m5xqfTf4OVFrOaMSSPyVbXHlMMJ6wSa0hfrJU5amAVkoSjtUun7yWTAcs3dOc50cktwK/baMJdiWVHwfDNDRl/lAMmfvWDB8swT/WG1DoGOGJAOhgSXqF8JhU526psIVG+HNSo18rer5GYYNfB/yj/ppa0KAAAj5AAABzwGep2pC/wAAAwAAyQbuFEyW4K8rxVFN/ynGc9fL1o6kQzMoMgiC/WCD++HMBelqrBRi8vtx8JbgCic4KHmjlc0cH0GBb2f1N5T3rM7nODvhAX3lz50Ab0XYOsP99fpaOL2KkBYHf9TZzId0Hm5bsmFeh5B6oEwTEuIDkiZXkjEArb79k4x/2HWfK5tOYl3GabNe4JqFeoloGVGRiA91wqilJ7SBirPC32I3fQ/BFyw7Lp6ATusEmwuPrrzEKr4ScAGWDkuBip4E0F9Jyo6aLhOJIIC0Of5/GQt+e3W2mnO6l5r6cm1i1oxbusMJU+0Be1r4br5x0ERraXtILW3ldCdqiCiFLA3q8EvKilw7b83boKLRSjAs77CYpWUscyFqHOlYhep5jOXfOVoVOhGpZ8vXdhuVrEvZcNsY7rtr6pkkm7/wIV611IvuaXIGEDM6Pt6vtA6x7WHtk8wnWknpQsDLH0FTxeE4DZV8r17d1FifY9l12VNtMGmUhS/PkW+eyWHu49k8ipQhc/hC6vHc7HCvZo5HzQ671201fFQqHDYzYC7WPKumKDtFuNIXkl5Ot/f60IiQYlRwdXSYl55eeAvsIOuuwgWCWUeylmtAASMAAAoCQZqsSahBbJlMCCH//qpVAAADAACQH1ygMEAtmdIL0xQ3dIxAdQlCLKwaXqHs19tL7/i0m6fYBX4is9mm/5hyIIw/wolQSrvetBV9yBFjkXexyi94xseWCgZtS9UfJEtgsSB17NUf/mKJPMvq5gthgWayujXZc/dlim986CINWXqw5KpDPCGhg34S3YyHqN3+6S5si11Cu3Jr0xsiDHO0ok7Ys9sRuaRPErfuGEibXAeDdOs7gA+XGT9TAaLOo9jSay0IKJ0sxWpzabPfejE+jQihR5VzMEYdei3KWIcCiU4d3ouRufHQVqao5Eb5uWGvl4FKYYvZPUE0FdXGCMlwjgtDmFY9xmGWDzY/BTLe/gnbjkasWv7C38AelnAF6AsqOK2VYRKdCyrZfdYvpp94lAlpxHShCWmG1lrUimFrHuTDYcjODCQe4kZ58Zu6LoKsPsVeDNo2cOiU6LVXxjdJJU8B/pDm18IMlBDVClU7qMjannfUeoqQFXBrvj6Txhug8004A4B6E3o3qazY/GzmJpu3LXE5Mz73doQm/vuS9EOaWfN8zkvCUIuFfbQB/0KQXSo4xVcHt2werZX28TVdIsFzIyBQfH9OKtfrFpxnVaOs0UzV5BFMukVDr57zzeFPEhEPb5WDGTBJHgWM+uOwg9ic915/OHVKRLMJ3E8CHDMfzSFf4TaTZ2h2YRWb/3Ojr10tQv737Npn7ST7yFDNawKeig16cb0xt1jLhIq5vBOX9GA/uW5DVWYaIsECE/OaAO6To7VZ1gkDovGmBUDPG6d0toz6mjSvB2eDCBr9tzZv+CkUGjmoYt+h+5lvUcWNRsRKC/m5yifcavxVXhDgEKCD7m0xalxwHT6z++oHkcH+35+1UEPTMd1BsNXE8hZCccV/zPC7gsTUzVHXBcXIoIYHTssXUtEuYzFk04eEZcvNy8fdO+FVf8ckWHba5wPn+6II6U3AjdwLfmciRenBYlnUt9pfAJ2cjSbzp8E1H0RAgZvIgHtaghUrnO2DZhYpbm50sYIa3FvpKn6d3TX6lllByOsTgN3bL5Ih4l93J1q1r7pK9ZWKqgPjm5yNvA7ys6qJRiv4DO0aodt8q6dql6OHx6nPrFM+0SkMJEyDGQVcbDUIzSInB2SEVg+V0AQlrWX/we690L+euGzjQ1s+lMZEMiXZVMi0SQzMR2KCQWIPTTo+zVAAEXORvAlDY0AuPjtaoz9OzzL4uk05wdg5ErQHMN/jLbBcI+sS0GOMnF/l45zkb/QDTel1erRKGu8aZK16gPE+2eAvBVsAzqA/0eZAIUAIefH2pFnjHWeYWMPGWiwklZoQZ9BBqbOuLdxRKM2RohTj/zv6rc/yJBse1ErU+BLOog3YfmlUX4YAdfE5e8ByjfGAK383XioR95dM8qSMPghGiZXkYLGaedOmuzCo99VyGSqwhJjTOsHgUFpuyP2SV0pnV6TkKDBeL6EH9QSFt4MHGSu9MMaRLZYfAYN8sLhTBDA3bA2sxv2XGK998AS5KRazNfqVFLwc4sHARGOXO4UOEi1p9W1U+H8Tn/KtXa2SAN7PW0DjxtloSN0zrr/mNFY7tVHhu9+LwGZXs5jhdm5oWoL20c8BxC10Z05sqB7pVG4m6kf/ighcPSybVxwdz5Gmw9TMewx+WoQCGMkhewLsRdKzCHrKvpMGLAI6iBWVyCHhb0zpvowPB2UZxG8wBv0gQEJwvGMvXrDPyYfHyFBXm8Pjd7YgDXny1kgiVxrghHgq6f8zULsZU/ftQwHjmhK2DT+xD2vfovPv3ZReUkgpSWFAaVBgxMAnkO85Q1581z7/pU+sOBn7kGIo6DatecSkysuHlJ9+a/4pGTbW0S9AAJ/oRiHqpXcq6k1mBxj0mSwO0UNJYaGND2yqJeUJpUI7hnS1uSlCFWEWlQxrJVwNobCsBluvEWoexvBFl6tKZGuYTj+TqF/ti8SzmUL0izXj7yGZKIUUPsfu5T0ZmnJDQA1ekatSEj92tD9G43WODy9hUlh8HCkEpb+k9PfGFqaApBg34+RqYW1y7Of5cLopuxWNXOvJxxft457sTjgD/gZaXBojG2krW+EYrkVgMqxuG0HmLV/G8qKHS4sjHvTHE4iXlo/v1sH6qlXoIWbgbi8M13G/ee+NXmcNdgxAWv+d9s3rqAr7j3hv6EKOQUQfdFqh2GyprepOHnsxYWBxSKkrBH2chgVqb1PmyZ24B9qLSY42pg8KxpOTG4OULfCiy2u0z0pqVl07af+otsREdEGT/JEl6RhEn/lpKUS6AFVtKXTBEVAysgLBpG4y82HOG9v9JBgUBbDleHdgl5Bvs+o9clW9On1x0tLJyRxKCIrBJw9KcN+yAvYqTSzoiJgrIEj/fJGvrkuwCs5L5HytWd6J5A7qoVusYe8tEGTjsFmicGBBnm3e8k7C1+bGAC06OB18e2vS/IGVkRxkVLyMCpjr6EMnpN7ibgl5E4Ozno+euIPHwDq295bc24wxGudO9k/yfgmvpC+WrFp2uGasp+ANVYkhm2Sl5H82T0ZznFRS5yjImoLbbCyp58FLiq6D3qlrXnTNC3JibiNbAjIZexBS2eZVmynewI07jMGvsySNA3Tnoc2xqq/Ez1o0WT29Okgn/3sTPoFa6/on4yEoSza9kIlHtEbYtitmlcYw7FZyQ4uTSbhA718hNOwslYPLHfblyfj+HxzgGK38nOuBi7ufIC8GnWPb/uTZA/skrQtKsha7ia14ngy6JknCSnP1bEIIofU0VMRHxwQbAOT/W0aO3mgWNO+a5lu77fG654a7v2+wdCfXf6GZ7ox1v5lYy/8CW0pX6+s+IkJbXTMlG0SL/WcUgVgiMut6Cmx5UlDTA/E2tC9pjR3pqPSn1gFjBfLiSYlD9h2kbHRRKrjMlS4UTKdugJFTyC+tixsSW832hQg6YtGf7bOEQQCWVa8L/n5t7w4pFz+wfhbBcoFbv76rhRapbOosBvQNM0+L4MKaYTRP3q/cxRMlZtqWF9MoFz+ybUpzVYwKlR/IR13O5uF1/GOo+LMd8/axgjSTe1lKueKz7EO/reS+MWtufNSCO/keppv9HRgqfUsnckpMkYEdfn9pChNKf8n5Ct3MNUIuwADvA4lLw0xYleC4Yub9omVpjmdrod8NH+o0iTieUHC9U+QwHT4OxwdJ5VToQHtUspz3vNlhHzshl5bWws7ek4NiQfZSupDOSIZEySF3hKK9CCJ0BzIECGBMHmBswDqOeHYXEB4Q3awUaPAoRGY9SmBGfHao4C7/4c29lKFJzO70bBEdyZDrRCcSyztqo5yVIQL7NkS13ZRBcrnLletqJjuv5HejpP8PbR98nmlMPa/IzOStlBOZnskaDND+fhOT5dL/doL3EXWgvCpcYAgHk0DsoPoDQIoqbIdwAAADcUGeykUVLDf/AAADAAHbUqeodtEe3mouqAAqvZfIIQ8OFHjbjyRy+tzPh3XLSAdlHm0Li5aD6DOWvBWPWXCpLlHeldZ6N5Z4Ymyajm6YcK6hbeLfxfRnnK1JRYupSrbs+r3JwGgRoqmub9E2uBAadJHKxHcxZLtrj2AEanH6lOLopzXyPluHDDeoZeSphFMs5dLg+yXQGkw1iESC8ieD+Btw/jgAQtjTviMyqLbllRvDGx0nd+S9Mp4UAGTDbVLMmB6RYixIe9AWWw5IOmKxP67StyV5x0XZdh5ZSlcvsHt6xM51AafWSkrTsa0BnjS6QfrRZ/qg/shvisHgQDlMynjSk988oQ6aJ3FWQ8tYXoucvJYa8jDfctX0Bz2IY4wO0R91xvxdLHZXACE0TCjAJx36W2D0MO8vWtJCPL8Y4g2IEy/OvgPK7Wv7jkAflz5/fq0MRY/sr9wAfxg52iCdQxyM4oXUHr20or+sWSiOfgDQGKmXKeTyvlWkNSEYH/vryQdwf+S5sOtlODZneA+f+WgDeOtxUSn2ChY7uwMfZaBHB3wa79dPaB2rn8X+jBfzaGZoPHClHPTJcP5Iht4K0Um84bIlOUchD6+S160/SDtfuMsiUieDTILZ/N0qPl27KcZwH9A1BSGZO0lB4YDDrgINaE1MuUlyLJvOYSnUrsFIoRJCb+DZdeB8J5LUBfzXbrplgYuZAPYfxvhUfB2nAXHZZj/QepGI2EQMe+5WKfka+khS+FZDHvXGGHrffN3jlL3NqL9TYSTbV//eGSVY7rqv/E0uCVSDIg0eCia2vwkHbO5jaMfVk2yi2EFbLLYVDR9gINTvt6/WPmePDKp4YrQKuHoJ4mjdFWW/K10GVGfpiaBbXl3eFWWPBEfwfJdvWxhIfg9WnyrScpB+yYd8ytye6a24SSvpKraXViDmVI/FKZLIf2Y2G+s6GJe4EhfjsmrpQx2+l3NuhdkGNQtviuqsaKtGn8kOL+pBneIEucAZRQMvgnvnOLiG2odXv5kcp4H/Y+HOVif9GAPaBZhiRzGidS2C6OWIvXCH0EwNZT+8MJs7+BvBe7oxyjjUp3c6GPQEq1TejbDhMeIqLG354RCcd3drzL31AZk2K0xLmsO7B+07M0B2nIOCM3VlCcBPQFku4ZjAJQL8GRwR2rECYBBxAAABRwGe6XRC/wAAAwAAp7vbvrydrsKhH20ASsFmzn0EUuWVL11qfGNRCDzvC6gfE2uWm272gwrO5arPV/Arx5b8B+Xs47305Rn9VUzykwSCuuScage+aI08gHO6IVT52u8hm15QaUKUdDmjBwWDj41pUZ3J//KQFyO9LsStiTfi0xGgCfLXX1OONQMRleCyvVL6TxyCaIqIorPsFo5ZCBLRpmZtKhsaV8uGcS/3P6a3yAp/0K/xoVuLyCXzIhNcVen35F+fqA9a39+Zb0cUSCnc/CG5+r1UlYjsgHGrnP6FCvKDk42cUOTwI3GmVo/8581HcMlszR7qwPLtS7+fDl1onCCRA90BFmZexmfjz5aXFE89Q43Ip5mHO6BALNtUPzloemPEqVp5/Q8dREzkI51CRuQzbla3ZD85kETF5Y+xV4UGQdgyUACHgAAAAawBnutqQv8AAAMAAH7xTata+OCql9nejYO3lfA9HNeATAr2xrNeNpZ/Ip3jEYvaWQ9C6/zoSBMs/HiO9MlTCzboGS8+kZntEAO508PgN2MfVPSN1x+t63FMeeZpLTs7K1uHNS/vbLoXWeq10ALX/Lo1Hh5mP9Z4KMAFpyXk5pBSzj0Xm/XlyV7tUl5GKT5+G4vIgeehHP6YtxQD271YCUddprBooDDMoS1PuAfq/t8XeBQqGj+p8vhZB7LFqb8deSF34R+jh3corfYvU0GnEovzeEr4bBp+vm2lQjBrpJkodydV6EZY0lE+2lYsW+apKkTzHeEj+JByZHeU88TrAnT+3OF/x7rm94KYKmbs5qP4uNrh23po6KNoyLvQ2GMHqM5V4+/lhmOTusgs9JsM5g9hx3RWmIfsO9bd5Vmfbmf48einDyZr07yJaCt5ge+FJMsIYeSKXAf+kjtJLe4Ca2JxDE8ZHDBu/YNT2Y+K7GyLhjReiHyAKDtEQpUwl7ETMiE6hUgCkuE8Ne+nucDT0fYoXLrhgiY5HmqDEaeWRHVJSSxRX77eJORUBPjugAAADWpBmvBJqEFsmUwIIf/+qlUAAAmB9coC/MpbM6DuNuBeMXkJocc8PFt9w1D1cwThq1XOc96MB+F7k6xsBqKMcr3REhzOx/Yp4bdsxScIBr5ihusWIpFrSZwvCsFl23KDZoM38gG/fYler398aSwQwMHOc/0HhTNgkagjyBpBxtTz9omxxDNFgbgEtBCLTOONHr88mY0n3y4D/Ef2p3NPk+woeBRh6cyR2kfAAsq5QjEzVMRplR4Gi7Q4Ez2mgXiJM7lUvml/GSBDD9Ix01oYpNdysJBXuxZOEOs4EWAB9Pp4gTyWIFDzILZt/WFeap4diJJNQNR7eeA7VvdazPBJ9ailvycLNVE5sa9CPbu4uHji5mQ0cjmld+Vyds2xVBWhEwn91Y1ATLw3+9GeuK+ryb37DboURNCkuUbnCSzUSh1k0FL1nHe/K+Y5rxafXVRoQhn58K3Y71WBvGyMoIqA5n97kxEtIC7BdkU9sA80mIeib0fAHc0dAQWdSlPb2xQ79/N56w5/+HNGusaDbNzZLB4dggtRnTVjhOWuKvODBvZp3V8mld6cZFIe753HmgXVX1SAME7s7Me9a06Uu4K2pVbClvczWGI7s26lR4Yx3NzK0frVb3DH2+3l1tvCqgG+1O5wxnn9Rspr5byk0Jmyuer7zRLDUR7F46TcUf+rDXuhErzwhrXXNZ12rNLTwprbSUTz4iXIZWRJE4bUdqfMyyZsaLa+yeWMN06VMEJMLXNVZ1+1VEgG/C4iSWWhMXgAxfSkhBME12ZD6Qk0FXB4LSqWzHpqNlX2VsywMmzzfBsBu6l4gZWfrlwJDsi7UFbiarOoKdExLUHXqj77W2AIXxHnL5Cz3jWqYlSm+79U8tK372Rqh1Z8j/1/5OChNCQjJZ7U9rG2lBJEwvrfP2kKrZ0wyrwVwjAJUG3Pmj3OMbN/eS0hOu2ohEoCJJXEuUj3EkkEKCN18fyU6ua2oAU+7ZQMbta6ClPy50hTNWzJg5iEhmUWq3qLP0+ReN3S4u01EKbHvkLDb6ilvFTW7xmNl73dQuON0XyXPNKn1v9notNt8x18d3isWtmb6G0W6bZS6zA6LDiyGyrRQf3VN3ic3w2ivO4H44rD1UnoHjFbEHPEDGYBLmyTjRqhcBFt65sB1CeNE+Efy15Gi47mtZCX7vXV4hRl+TCU6aNrZd6XFTrQLxIG29J9kmpcFsutgJP5KJK9rl3V6oz9uwVX4xcD+acQdwaSzIqXUS0uu0x/5Od9m7sXBbWX+pOVeglqnDjVsF/MU9HcD7RwNgGI5qUpHM0G9ncWacMOVlM7/OTK9B3VETExRcIOkauNFLOlN0oHCtvRPguvZyG4YiRpTyo/+qtRl5tQ/0U5oErcY6kOM3xxVVnzMZduwD2J1nVmZ1wm6g4ZjfVS6f7Ag4ADCUI47/hDdo43nwRdNBKtxDkBfLFcJ3ZrsW+et50jTIMR3e0buJu8cQjUeF6c0CcszW5t5tt7zD7Zr6kRaoiUZYSeSB2OCE16zrTrXx7ib3+mGTMJU9hqzx9Hi3pgR94xKewX1gNe2Q2Fb/fieDYVHaro6LwN5cHVS0KrqKk2xtH1kRqYtcfQC4X7QMp2VemPOjKl4FJhVD58zt4/nqlZmUeOpNSTWWwFpIYCm9cicgwTuYHgoZY4VhlYsAePdoDW2IuaeJzXjQZrvM8KmAS6im1WuAwmtreJ6h2kU1PHVnd5jNP5+Sey9NXEf/QxfRxYByMUnaUzPs669R0ESZWLBjhwOifLVKzl4QcUutTlK/78dBJ9hechQIUKsv24eErYt8CIjVen+d+F3n4/u2zcf9D2LWR7r8P907A4EU2xtf4JJuyoSLZJxJiT8eEvaswJXnkHEPRBGx9bbnvK3y+bgtw9GgA/+SgiEiq6EGOwOtyQc9q3UIsGaRQ1Rb5UIDE/7GQCre7Fu1UdZbdmWxXzxR7ekTtyTvx2V6j6dMzyZT3+46Dv5OSKMScgeUWVspYjRPLToezdSZQo/mWlowNXUnb7dlwBpExCZqfvDg0zSbwxWidH9QPMD4XVLDJ3im/evnuYV6SG4VB5S1SDwWa7Gc1oO3ex9tzc3oO4iGPTasyOaS0at5NBxbJBEsK5ymznjC5i9TSzsskN5XnaN4lVnNhXcaV+mZI4bb0BhuVu3epl4oQnLmxcTU3TZVFSHmu/3khQyOUmePD95xjSrRfZ5DHq1A3dyXVWb/fbL8HXdSCwFlj7TsaftuhnwhfgpJvTVvjjdsWdH2a1ntEEwcH/rACLaY/8NoJr2fqR8jxG1o5H0V1iwjiyydJo5pKyuHHOso6w+aZBFLZvi1+mEWZw8JY7VQxj/hkY719W/udC97KHbP9XKM/XnBCmgC74mqIaVzPtlSVInNmzxCn7N2uf6MM9jacY4P/RUW44G63wzxwTBSQGF6WjRY2rrIS73AtyfXuRJSUFxCbZ3LgZoMn7AAZl1pWoXbN2DWUIc69BRi7R+qlrdewiBwmHZ+4Iv0xLJAhmHPhauGtCG/N+FiqS0rRvu5+Hl+UASMy2Ynsvf/q+OpWdrcpjfudv1yBcjoaIINXxm+XUCE+gxuoMrDdsbwUpbltRtDmmVE6dXJft/97URSe2aUmUsAflT1ta6H/BVCwZk+YLm/Pe765T+RWsiGhFhFCBxFA9VzJL7bVzuI0oohw+THD6jVeb/h4h6twuI/gVEUvNJbGIvXWCcVBJoKJ8AAVmyrjKDgp841pbYFOzMEDw0nJzlO6j5rXTFiwxZ7QBN8Kmn0m/VUyzFGZB294YNOWXb5PSZBIUbHGpcy8ghgHDyhdkFVP74VhVLzpdV7ibiwnJi5zAyQ/XJOW6mrIIu1ZqRzaRKuFLtKim/CRnzW+cmuvtmgM6FegnIJ+i2yZYTH57ZxeEVsZMHqI9vc1EhdH87hMBilu/NDbI7/Wf6xyM85bVqmycERdovP1NPOy/+bLRSOPrAHMPCrofX2QGV5twEfVw6ZCQVbsUKWHhHZ7hJsh97ndmvv3Zr32E4u72WT4OZuffiS5SY0lDAkvmXdKYEmHmxfQJTn3kBixyoVMIe/9066TK0VchVuDakKk/96XDHklsy1N1nzMKHzJrSmdLcFmE54kqMyh7+P/8Ce7qvDMtA/kDbR5RkZqe3CngHwtm2aRjYAQNVrbA9NzxDUmjimAiJ88eAYXNFDCCztrlxlD/oaxaf4zRHD8MjE+Ac6/lyctb7LxIuHXokxTuYW2i2lXVj1ZHF8Ct3egVhSMflQQH1d03xbVXPV5go24ouEBpnS+pa5V515/WdBPfz4y63hiZZwAgyZh4ox3Ig8TbLheHywRaA8D3PwAtFZcZPU6aEQXDRGP6Es6f9e+uuRILiPiRwHN+/VTYUiW9OjakmwJ+GQ6t3ykTz1SGauVr8roiVyZIsj76GUCh28diEHx4RKrn82PpK8w99MMyxK4PhTeWZR5+ulPW+nSHx60R5EfshOih8BP0Zcl9CI0Mrh+ldRvyiX/XA0VcyiSkQErQX8/HL61JFWLWtcALheKd5FnJJZ5mx2JSqoeHx+iPyLTC+GwBIInvtu+irlOXh/zFwBxKseBxPhoNi2ZhHvxHvbiZ92eYFNcrrkX0rdsCaoJQOwWyrNhoLfjkWMNg/NE5ocm04E4EmUU7l8FU0m3elWpZC5hy6CVJe+fNnv7dy5DDo8mRKdaEdioPCvON6HK7GXXb6CG66wl2SYuMVaPigD4loYO6+Sl+JrPLTv37ZwqGPMXV6h83z46bcIsuLvDOc0xqwWosdBe9T7ZvvPbsnRzlZnVGy0K0+yDvNbHmO8MiSNOSAxsZHSKYeWOpN/CxPW11pbl1tFjE9mrdgJ6Iy7xBeJh3yZx4vL7lphINeMRpNGCneHGSczKJXJ/3mxuATx9oDw3GaSRPXcfTN9f8LCa532G+SRv2U8PnlwY2m1Os/mo0Y9aV7fuUzq42XJdHEwVkO85b8FIB3PIFDSdVm6Yiy0E9vXOZkDXxRAIZDVWSLxsFu/Oxz1GkH+3BqLsmJJnlNKjaFOrvFx4WTW9HPHnBwtfuasRS1Tpn16CwqkC4/jTMpgkPj3FC1jQeCT5N9UA8JF+NOiIlHAPFVMQnWXsKlCH3UXuMxYT51fOhbcoMaOkTwbpPc5LtRkIRJ4UYZpxsQwZfh+ek8A0N2BcQF64wQmb0IZ6CB5GSn+6GxCoLPKNH5XcNpQ1NW1FvalixLD3l7CaPD/NdLS+jUz3OMq3mg+AVOQVJ1mMH+q8cu0cyIicquETPaCGRiqWnKAJiB42w+ivEi95HdGzZ6h86aWWaf0trmdK6a0Uco1eTno7MHsk7BB9+wL7HCyEqCLM6/OP2kQb1IMre3EhH+fKWc5QIZ+GYIe8iygaYFgAxQsYevBvprUpKq7LgsZyik6aAuJZaGwzV9r4KikpdDBwGBVMhqwoLLPY0BFlfJxQT6r4s27AOcJ5PdNK99QlKVqCjTBT+WsJamYkhbieis5M86V16NQuJ7xP9wiYrU1TExKFA3fNTe8z+lVQx9F7y1VFRKtoa1uUTMu5pj+KgrKdeZduTc+SUATbYWpv72wAAA+5Bnw5FFSw3/wAAAwAB21KnqGwm+oWAGvrpPgfe7hDM8aERzLFxWBZJUSD/PFOf/68ACkpD71IKh26SUdsifpiVp5QuStUOv21X74vqsfdJPlOk6hZprgxspUzAh/pTFi36/G0DPdHYAKE9JrKinUlNyZ1YSByIIO4bhj/dadL1C5ksgy7riGdZwGYYnMzUEQwhLlCkUTgpnriOodW2N/SwOta/vHV6ZX8/XAXbTHf7/aGN2U/kJwrtBPhXUBCxZ/awwLb3H6ANSZpG3jnjXhT4EMZKHs+Q4SY0xRcNAcD96ogxBtUnq4n6zmziirDRjeRwh3oMBrxIHx3ur7jFfraPLqMQyoHLPti3xbwGxMeBQObj3KCv3YlfJPf90K4GkieubQw3QDjNToFF/DZ7HVbKNkXFgOzA4Fqsy5JtI2y+5QaQyWlZQpN9Snab4xZawj0mQ+yfoMvDLgk+Maazh1Q9Qes6nRaivK7/0BsdUUU4PEvjejK9S1FksJKrXX1ABazUzoG5XgI6Tp3cNJflURz0wnEd1bUp2yt8Dq5Qqx1e061gKaJa+ZkKbmCPAEXEmdJk1Je2Jg979jL4XdyOuESoygp32ndU+gdn7IxuxmNDwwdBXz4l04LvEtmHE1Dm8rd6UEi8a658LGjCFaFaO548TQDDLYhRa2smWSbYF3G//MsDefN0JdnW2BHSRyiA2rhuLwPmywt0X4e/kv+ZyJFUhxIsqHY+NPmy35YnkbmaP+70tyxo8vhdke4oDUj1QRtmLhvVf+PeREEa/1ZHHCGXUTZinoevArIE7qtuJaC3Fp+RgkDBdrYqZKHyC7gnJ0egr3KvBWxOvlSBbRoUCRWGN7k7XnApfWsflYratR+/CSx8KEP5d5pCcJbyoSHuAtVs4rLkLPtUHD142iJBAirml3LJ2ay+ygctAgGTAc7lgINhDRwuAUpDrOlLxwZcuIXCnqffXI2LxHr/4riZ850QtWGK3VbUnQudxIyZC6lEGlM1IeyWOK1ZUqdOKWgqeH1jUXdt9mLn4Ar64uycJ2JnTyXDgGvE0+tz9mxC76XS10AwcsliuqFUIbQTVBj1SM24gWMwsYmbXvaB08LJLE3u8DCh/uKZHMOH4K5HwsmeE/Q56buoepSp7aJvxslT7yRcPs6CDg2I3Fnek2EBFZh2iiDkMDgUsg7yt6nNP02anYAeNopNNggDZMR/yEzeTENHOgT2W7jS0Bj7rtJYtu/cDSvCcl834KjyHwOogDg0ny/z9cP/IkVJZbAl9ytysTQ0JifUJZBOfjYY61foB1WoSdHTDTJmT52PRlO+SBjmXOJP41mLSxdWVS0roIOBAAABhwGfLXRC/wAAAwAAqCP0NmqoPsG/gVSCulhVVaDK7J+qiN4E8+tft+1L2cAh4SM/WLCJnhz2XpUjB9pMsC7VArNAMn8pAEWKRYhh9yNhOR5ealnLVziJiLcCAIKcXRU599H0tFcK8N5mhMMj2F0TsEyfM/iI+Dzwma/XCRLvyL/uAsmaHwzC/cisUJ3GhPHR0fZSz7mZu0mOso/M/C6tcB5qVBx5KOxWuT/Dm4RPhL2d3U3aEvmoiDC5yDwKnsoYLeAbheL+aU9Eas+XKWrDZe8gJIAAtOtK2Z2RWxt9HmU0CqrUim0fglO/jptbpiZpCNnH3Cjp//g1PSxEYU8NntF1Tzx3+eaEotAnbGA4K49iGP0/nMTMPS/TEOqW8s23+gIvdmacFCZo+i/STsdLt6ABsuU/t+wNNd7mFgm2Wf2DL8Jg4gFbc/wbftancW2B7FsR2QITBWGM5pvnMNM5SwEmO6Il0cCdKHSYVcpxzrnxmijmJh6OnV21tT4CrXEr2mRW+kDdgaMAAAGiAZ8vakL/AAADAACoBGsH644bWQR3MQ6ZfbuZAEPJn2k3GYxwzDG/HCclaJBD4f2mf5H7qfI7Zo4qqKNnZeGhxtW3/Evrl8dgEz7lmFQuhTAoHdciXqEs+d9LfIp6axktbK9w63Jnw2iPk7YaeHT6cWdkfdzbDc5QODfix2BkEL3XZQyE5x43sLJFxJz1MAWjXYAHRzrWAURKtFPogChBBbu+56GUWDBE0OQ526q4QLAVOeWyN6tiTL+AQpFaYajQNaFA1btWpK+7A7e0C3JJDoIBKd4LOYc1mBvysQZEQKGDDlCjfrTc3/KcbSbBnAzvJ2YN/IjY5zig/iPES6MtL7OziY7xwlrMr1M3P+RFrFvXDscTxHLiiXADIaRn7OmY+8qOJZ65zaPNJWFKJ6iDnW0jMGYXI+07jGutaz00yrrZDLuAhN1HHDvLB1uRG3etbEjtgtwJT1NCPt1jsJisvw75zk/e6dTRpkfz3/gOHhW1xzZd92FlLAVWOteT/H6Mp+QOvvcyL7kYI8uqFy13k5474q5UdiOvMGGmO45SVQAJOAAADfdBmzRJqEFsmUwIf//+qZYAAbyXvgC0rdOjiON72/LCAPwfpHzTgy3oOCSUu2SMeLNiWxLfIHAFqqWP8wEH5JV7pUa8WKYLxDsoPkiK8db/lkvWmg9Lo4EySg5E2EhrnygKjrFjn/QRUCaiFC/lx90nqKZ5B3F+camG0P+adjsoORMn0DblwXywR7ePgaHdsrLQqg9He/4aweuDH6/qzXS4BXwY8B6Vug6vci5GpW5JnWZ8d/vQLN0SeWkc577FIr9HG9Jjt1NV2QCA7obrJgSYL3oD/lZLNVp+VeGGKplcfOuk0aM88BwkWY2L/DHWnXDIud/ENBQK2z8cgNcnTc1FrKTZ5edPm14IesB1cYy3wvFEMT8c8QqOsmhe5dwS4/mUSH6XKTyJoXVJ0QMguebIt3bjiKdQmX9h+EateTxWimw+UKAIMvV4+8TPTPQuE/1k5BwqzzWc2j0NEuZvSl+f3Zl8fbppnGnwwyYmm8EamLKRCqTY2GvRpdY3aWakU8NEIW+svDAMTsYt0ecgR6FFjdNOUj1OucJYp59efL5AbhqzEJAvjK+QqK8T+srosjm+eSryGBKI69ktCIjbLzlMyK6hqTJjlhJnzK9npJdbsUPofckBrA7hMJRWqBbp+HkhzAvJQjGZ5FR0xEvuhkncWkwBgukL9tWmfQ0RI2qcHxceFzBjPJnhu3yCwY0VUbAAvdAmboAnAjmQmQjm6DWyZcPY+jPpuro/Qn0xaW77iajQ8b0UqVW7ve2kIcnC288AKNMlcMZaZ3Pt+mK4Ly7F9vkbkQIU9Qww5AfwU6TuCvxSNARnhc6cfbhAotNTo5Q0z2p/Ly+SHNk516FskQp3ylW/c4QIpt5fpzNSNZCtsPYrJfmPKX7KZ7tGRLzQomJIXkbLdQCDtD7umycLQnC8CdCz6XK0a/Y6XnIQ8ly7C9hf/FaGMTHsmNgKcpy7mzpCB43CD3vSTOhkd36oQlsCrfufAOzhYb2i370c4v4vpRUxCi+bBmWp7GmUvcWonHn/GpPZMcppkJgQnTSFWABKhi+zspDHevR3xNPP7dKApd5XxN+KuQs0B62oSG8HqETznbSGhcfK4ygbqo+pJopiacPB1Uq1cPh+8wJC0g5g+LCXETWf/0gEZBcVCQ5liUtFPQ5gA5wFYZYK6cS9zsKD4amOrILC4cy4GM36+mGKrFEfJt67sAwVge/3tY/f5iIbFf4l2BSNBp5M7Uu4x0PLCJwJzjPEXylk9M9DA7S8X0djXkPcxy7eiBQz5zNkWl4YrtRADPNqM68xTHbPFMo4oW6rzsemAXkmWJc95EwA6Lzn4QtTlare+zI41k5+C7fWJp8y036bpM05258OxKUPn+8kFzgV/rWO5dL9byPFcaumfn0mzKKMNLKhA+EiiLiTY2roxWWMUpK/cDVu5Z/BVUSTrX0hkHsN1QlVtV5FeRrP7OjD9f1hvrJMZp0IZPPW3qqg6OhDU6LbAxRv+Wkwr+flOgVOuTJLLeWWUVBKnbMfHfCTMg7AoZklsJpD231pY9jPbDQinJODtfFgj3fqLCeXXNreTK2xdiAbE9LisH0FJ5iO9e6dYbrSSaXJco3WDEI+GZBjlXvmo8QWkT9mgqxybyQuSgI11WEgsNcJRxD0AkawvGRSzQ+K6uza4Uuu+mNYm693ps33CZ8USi7pSAGCuYBi5T60ZxzAk41D/YguV6GgEARWVK5OUwGmfyDeQ45+dzxhzIvIqnsDWJlZCVA4c8jriN1DjudQz1D7lYmo33+5HDuKMqJoRXSqmO3Xf71rFvVcJlSqFKUhqlQuIEOS1xb7Rz8Aa7qJIfwIIFKeT5Dw/pU2/0K1uCQosI0brQ/Cbagvm5KSRHmlRijnyeDxpgarniMYAi2tQpuNsyQH6E9WLYoekQRM8UEP4YQ5TXDsNH69kZBEiUMtMF6xDPTFQFMlKtTIwpj8gRU7mpXAEAKB0yQoqfEuP76D6kem7jCOGzMT43KrFfdoaQg/dyBc4p+2sqwotOSGF8A5xzX6Cya1ZAkVXuZLQ1IXrvqXU0a4lT87M0kOLphcRyJCOgqzo/NPM9n8Z/eTekUu9fIuuaZSMv6z12wSU03pHMZAVwJgOeUbFTq6EDPjBjZdZ4r7c4PghPFWo0tJTxHGs+mN0rNcQ3qyZhURQHb3yxbGbFyHJY+cFVptj6cVNXqqHXJNi5DaxGNU5vyMrP5L5B6312KrnOmCf3BjuIVYExp7m7liAswP8vWgntFcdeiohILFhYxGPaTdJNH4njY7gtoDEpDGH5Aw/03Usfgcdk3REyX57qMBinz0z9Hf3679vTpDk06K5hXqp11t1jtXUF0uuEASKYGhp9gEYOi5PBCWS4SiQxeilhxjFRXuK+FsBiSm3FHqvMNDwjs8TX00ooNCtA7l7BAFlEJ0HSWNheQdpEB8uPUWRsGwMdYr6jl6/b57FL7rVVYYIdzeRtfbdeBIHfV2xCGPzn3adshP+OXNmPUknNysuGfWTS+280rZ6zpGx8el5JPize1SSDM5QZbu1Jhk+XhO/B7TRWKQaW9G3jYFHnJX8LVvmnNZyNhJ9hubC0m/KSLO1n6UMRedvnj9RBWoya0iaXfhjLwNBJ7uqEB9SHYw0NhJ86DzRGdaTRp1Hh19GpslFlfSeRM5mmao48Us04Sd1le2TIPOPcEPVqbet5xtm9mCOzCFMyV5ladl73aUhKnMBbCcPjcpwyn8w5UP0xhtn62YA+GNDmOJyMZmb5tt3brLo5IhJBFK+tfRAXGhU9IDcp9ByWZSamwk/9stfnEerMxUpRlw7UOXFCtEASZcPVoE+Pvvb77gmsEDwZhJZ+ORskNnDaKkOhtmtrqbTwqJb61r2OmAlTfA9epxnM+iiQ1cmfqJnhRpx3qrOdB+Zmi77OI9jDXe+f30j0fA8X1+Z7Y4+Hpp83/FzSTE3SkGe0NL4moRLFq+UBaUS8zVbwLGjHiIFCjGWguqBkVfrKpyZRwuanl9BA5Lah7DKG7Cc0CYB8FSF475LNXdP6rqVR/AQEiS1LNAaCWbDZ/WISZe+vpiC+41+owemshBPFhOJcykNbTCIWsNfdfVPCZVd8ga+PEh7iFkLaOGdt2WVlXx6v2v5xkH0Fn1RgJKCcnJicVG1siSaoCboSXYNEbcUbzzCXhuQqww52NdHPxnwfcg2yRVdTPmO25q8ZlhmrNESSH8rC1jb7tdHfppOX4itZMxbGc0241nuNASk/W+B7KF5uZ4IwYTXr0rOUqo9b8N+rBkH0gRgImMkwjXYBvjyOY5lmS4afIBOQaZLmtwGNjoc296rmHTQ11gUBJLOenOWAD6O84lMUBPooJM8pFKCfGdMkPXqmTSM02wtRisi9XJ1v6svyUhyDNLpBeKsne+ey3HO6i217/C44IIFCQsyTg+vOF79TcqEeSXHt4N9IRxvFB2qdFNyRFLkI7usGsiYHDc31Hp/dkknfx3dM4Hyq4LRO99t4exlE96DyzCC1hy/xrYhl5Zxcm6Bo+xCY/8MDG5tJ3c0d7b884niiCV7OdKqZrGTicB8naTa4Y/+mpaZ62LU/haFvLZWSu3J7s1i38Unkj8DkUTueJTD0kR3Wnev+mHodECSmL+D2Lty/6H0kT+tr+FR118MJHeAVtCzCj24jqj4jgM6RZdib33zF3E2e+aD9h1LA3DRFayD0qhVupRshXmHBQygpp3sYJox5ec8gcyTFCtmCPkPpNRblGwz//L18qUzrv1Df1HHdDOILqJnMutTOQ90DNDwZ0eJx7CzZbaGwicU7ItqjB8x+d6ZlG7xBngbg74afkvSDs/NKSzGC52pq/zzVHF6mloSTJgY64wRC8m0p2CUOAF6r+aAIkHg5Wb3JhjJLIOoTBvOTRGr/kBipmOR8GZ5dYBaGun0hP/LnkrK9WHc0pwenhybOBYjGaoR27vplzsUpQuQS0l11NSWUeP0xRpSP5J1alMpFHZXXhYxMNdlwkE8L/KV5SLxBttbbY/qPaeUzhbCMm3OWFRJIfz6LW+Rqkd/O1TKA8+NVQdNjTJXqA6z7Yj44yOt0pt4fl3xgiypnnoJlYw/tCivSJhNVID4ZgknVkUVdHi/Iop+wFM2FWPSyeCteWYUyvEznQ7ZllO8rXiPXWQkI0jv3tBlFRAjmtuDqfSVUiRyG1olrtxM5EUD/kKY0N7omc9XJh6BQHFa7C77EcwIXOL04W++XrOxJbUwDNHLX2BwLPKIVlHzmDY8MFWW7I6/MpZNRs0fvf4RrmYZkKDLOkZ96hRdnZ3VMSRksoHVYHWf62BxzSxg+EF04foN5UC4FS/dVv+YobWctoDq9CsSojsLjIykjrhUbu0P2U0wUnudlC35pKSbEOorXIqK1JfZaEVsBJZGvxHQhEdOt3HngC+TaSlDU5vpKV/vRNkPKLHvfF5bc6dwjVkOE1AWbdIZMvTwPwZJKqJMziiXIi2WsdixEVbfXhcqm6Lg6oOn8CP+4Zn20mbXwksEzRYEOnGcNp82ddFUoetLUp9nlRpFPBe171lbMvBuoIBQbFanIB49gLmq4PR38GnCcXfbcCDET4U0VvY+270Dv+I24ZXPRdhpQh03W2rYuIKgsIWS0ZFR0MUZojxeGDtwa34AaW3sl8Zofbv8OaZDkynpyYAw7+mFICjrhFSa2fDAkHiA4Gqv4aGRrVPmDAnwDKWME/216/EcnbL+H7iUO0hMnhmtRlvl7vC3Vu0Rpi+MIYxRTieHIY2C/r2qw9n4AAAA9ZBn1JFFSw3/wAAAwAAisaYQQp6LO0cdZNCAqgiLlpoQUZGeAclVnylXEutizzwB7OAJblK8zYEAK/6SxsYGSpBdy4kKrQb6OsFti4jJuYJuMKHN2IxrkXo6AnLhcSFaVLB9BuJfJdwoZd2V+JDabD0LRFpS5qyFFQF0aOjVRCSc+iKrzJEbhc/r1GGAWDIADBVLv455KvwiXe6Ak00JunuElFx+BZ81W334ALrV8SnxK1l5YjG1YS86JdvOky2/TzH6H3uR6s0FSo4YaBJAyx5gian7uGRaJruzuSs29/FdyRKqh/a26JcDpCh/vP1uc96IrB+K4UnhLRynOhY2BbhlVGD59rSd5KPVb/vLTfDOUTuVzccZdvoZbaKq6CXvZIvPyLHumheTK4IOuOd3NOxVLwOBlChoy5GI3doF5LIFytlbkxb0GndVM4gyIhypRZBm/HOhp2HJD4PMu6Z6TODRtLnkaPFfdXb2ekIb7ORvq/vG9h3HVvNd2bD8hnwKthgZC/O9kttTEFFVLHACMrnin5u2q99oG5fNifqB1Yeiv85wqOyMM9T3HX29c6Msd2JpjV4wllXSIlhLaxVnG0cbEN5hKsigwpDCqwmCGXSZowu6GWY8E05DoYMQsdFI49lbG3Fl241kWqmIbbQkMrzh119GqG6a9IQY/uBZx2U4PGRFYD+RJgeS01Fk2VrEGxEeyCHEKoBd9YA7MBbFbNYVrljJ+HYiD4FaRn2VUOQKIMvVi5OeWnPqsoS4wDINXrm0tmIoEObd1QH8q3pWkHkoQvOszeICRwgxGvq9L2yzcIo6tMGU3UCQjuZBNFCH0i8fcbmoKE1dahHBBjoYTG8XLsplvO7Gs54e9dboOsw+3p7FnfPeNFYJMJnLobWvuziHgiGNj77Y4l1Li/asblqUkwMP4pH24f+8lkv/m1//rtIZRNUpJtGSR5oO7eowQqxTsX6+9uJshNS3bDJdlWo5CtlHdudXa3kjh3s5Bxj9y4+RrzzAZi9amQRnzs3RN+8yi664ibqzOWqRDIes71BKYAf1YywFqUIpwgx+E3SC1vicGan/YShRs8/QCGc7oXX/2OQhLGkzXqajYfzOeUbUZELl0LfTrLCgXQOj7qfhjuHtiAGh2HMJ3Z6FB2LR3OueTxDqH1G6E5mPQIV0XsZ3tD5VGnqSYA9jDbiaE+WZL5KmFL7nY1YicmLY1ikiX8sfEXvCTuz74WXJHsYraEtQE4st4PKI2VUKuDkKaX4xdhSU6YacSZqSrYkphd6kfA+QW6JKjQw3wZ1gUpB8YDFblgUQE3BAAAChQGfcXRC/wAAAwAA5+tcJMVXaX7qU0jGHV/0L5wnSCFdDRSzvEABwKfOZybeOo1ljN0LMgzxW/cuggwXfnlKaFx5qAP3mOC8K335EnzKFAXUsk6z/6JTC1gIfKDKrw73RldEFPJajHe268/88f9BZa9dHnfo/utjeL7EDqrvF7qQ/7M0GoKRf0npa234BcvboKJXFiUNQK+l3AZd80tovXv1g/z593y6i8P30GH0fb6AAk+0nl+zHp7JAKCoOMB0gDRHhTKcrxcNnaQPY+h7GO2k15J5rgKhTz7bsxo9HpVhuHlOt7ChND7BgKliiFki9qLN1uIUeU0qiZ7Kz99U8HsPbcwcOP5qwsG44zuDJKF5egtIsBF1RDWnvTekvlCa/lM9F4wGEqWUTkzHER/gn9pyT7jrecLt1KvAq1ASO9JsOcacAg2URf/xF+dykQDWBK6W2JUjJmoo+cmcgydND88N8XIflM2aSkbigjMqY4+8Y9S4qrave/PGqtjCu/eJ97/jHPvkAp04pMO8jqG005bgkqcj20AFsqmcwZbrypbsUQX0OjdRJGM/X1yOePM9l2qpN8kYSimOMKErAeRijqD1Db6y1b5PD6Df5u4DiUKk0qtXAL3OpH9RTTN0ivVZ9pn/XrIOoxOeyrIQGgknNBfiyWT1+b94KOb6vyr4Gv/vrjhqwLGFmtiapaxFzvLLh93sAo2RtSulYTKEgpsTmIKpw68x8xCszSzbGWUS03fnRd94LTIKipMg+CxFI3Rr67Oq97RysRRD/3THpj2ynu9xDxCujdc7RWrNlu82/Sc4+NSEVyigpK94nzvsQvH+pcD+DYWYqims8ctKFMyXebH6aAAb0AAAAUQBn3NqQv8AAAMAAKPEvBTmgbW/fkejipZmDacGcQL9WHCDzYNgJrMmKjO3vEAd6YbsMlOCd77HYEtZX78REuJ4sLP3ozEIBWZ5eER4OAfiGmmlvSSf0CUhSuQDeBjvI+Iu2YdMaYdTRqKriJ4gGx6sqIzosBOdPzB9tZmysPvnjSbMOOO5rCb5NPebqfRF5jrVUNj6J11xyu4YBoi7XyPKRL4EqfKP/CyCf2qzz5GyKOgp64YV0lSHbQlAFyDg/eEDH+6Nrixy1/Aca1Q0qJPGaMPspcdR0O5WiGmavwpm7KTLTUnLHiGCP2fHPJ3rtFeLHLBkGJeL/Z3KCRQFG6oQUbvU3x+Kl3f+Ry3DqKJhd0yGWBitQ0NDH0JkBfuDLUgzXgVHnhdtb7MT8gM9p9Ywp5pUX97J13ug+IvH+6u6Nkze4IAAAAaNQZt2SahBbJlMFEwQ//6qVQAAVLvqgBOliwR61rm49yKz94QCn/FVVrh2AMLaS/btOQ6aJCCkIDq4Hic9yuAAxWUQ74wWo4aunUSPUzq18ulOwzdjb9A7ultpEcuYES9sGuYw812ugCLguGeCbJl4CP8U5gR0vN6rG0iYys6EC0PyVBvtAcsiH5RHcjhT/StFOWj7wrGXz+O+8QF6c7oiWpfPUO2tfpj4vdCkncJ5rRq01ZxeexR9aiyzknXa28RbaiKkLVDOL/WoZZcLBQ1KEqbv+wt34gxQWLfyznqn6xmKKl+JVQSlbn5bp62vye8Vr6eNxpQyPh86xIrL7fu70MRoDzRnhpTxt+O5uoEoIIHHfdQyBE91p1/5RASZicJsWAG0SBGzxtrL+uPN2br7W8u3QaEtpHCVSx7APQ9Cwgr9rLVSKKCrFqeaGDw0BkAskMrp1/f9Y34gqVyy8yJUAi+oNuJjIGDVbrzzaghttR5/OC31qSPgP9BgUFSF84C/pJkiP4EzHVjtd7l65OFcdcuZiK2ueT9FOSZj7gjZZUTyV0Zspc/C4zNQxnoAuYbDm2nVs/B0uFrhXPNuXyixfK9jIxsUx15xkdpHKTYpMHc7WgJvM7gOFTGXlABdL52eF3iBrgOI53oJXmv9TYc4fi1NjdanaylcCn0OiBOi39AqREOIS8P8/MuvTZT3bsKM04d0K3VRwefXKJF0ni2qmETROuDjBNDiVzD+2QmAXtb3+7smY4u42W9BI7VH9uLyvmjos6NYDv1ebJimzqhGNr9jrvZauXVPIfOV8Upi+93GBU7KPPNW+SKJoSKGoY1iomOLO6IEzlVSAY+kL7IdD1Rk6k/0M/BqMWU4YiLR4/X4LVMt2e7R5h/w6dALPZa14lrooQ4ODiPAnAeOy63tiS/IvhC5p27fM9Ss5U3dCg2ueOxI0IjrYH/nDFF1RydrCMudJnMzVzF9oifidEx1pcB20YZoDbPmDus+QT3k37QNbyl0+3yXApZuFBNr9BSyt7g0qk5tsmxHGsAJVwdkqCO2Wkwnbe1gt0zmV9nB0B/viXAE3BDIk5WjOmVuzjalgdjvrLrr/FqB5PMVCc8+uzFFu2ffNX3qJcxYOyD1f4smptmxrrTF6cgiy6cZPjQaSxEnO0bVL5x36VlwtY9dd8OWW3AhmpuK6BWOuFCUUnvpDxo044NP4iGZXynEHBVL7KlIj3UW5/29yI+9MPjlkiLJjdxPm826GgN/K3TY8eKoMV1f6hG7OY56yVF/FPHHzjK9dUB04j3ZD+XaVpzAg9MtOSvbsLCvwYdt6BHZ/hYgNJQKuhQvmxvk8UJEfcHtH8sf5g/FpuV4fr/jKBUDb5x8gjsUE7uv4URK3adLnnLDAQ1e4lzSlXCuA+LWat0zAHF+aEGEIYy0baTHpfSTm46xu4RWSWFm9tsw2Ie7GYq4Q1ij9RB5kNlRGWE4yldYdGa1nhl7ebtbSyisWOwEk19V9zSCx9bmMgf8zj88tI+X/grranD2yHWzWLCpD+A0+/sZV8oYqzkL3YdrrG5hndk2W1ZRcBSULthmcZdQsmBcYqWcddpk9vVVf75DemIXxfBCCMTlLtRr2F8nGp9QTEG9hmTPDAsfUILStSeCRnlT/GooFVBw6Xe4HAPO2H3Px74yMtrrjqDBKKp3NX+cvmf2NzDRqefzYMpsgmQFi3qt6VDmEkpg5uy+U7KNiXuZ/lfHkf3RHDF3cAaQSJENnO2h5UTFc4PAckEJKbxGi0t+xsl+yen12xTEmXs/h0QmT4VQ7XypiJRlUVkShXxt8HQBR6sceM5qa2brslc6uxoH2FNVe/JFCNSnhofE6oHlA6OwtfOFCVu7ZR3VMKyX7QoA2B1cwRjyx9WEYHJ2CzcVvfMWjWBruwLtOE4bMmwBPcBFt1yeaArrqnVjlcMO9E3tlGbu+tF0fDoIxa9budWF6CJ/dJsPDkhkuRU/oBU+Qg58aZS5dvnPwIkbM1yjMbiYs6Dr8e0i19UqXI2rnz5DX/qUpVCyYqwwcwTc4VpqlvRV3E2zDUrpZJSmlBALV1oMBTcrQFWXGTT4flcrgqUXWSEBWz102sXZt6dz+w4spbFohKFoXIPyD18c+VozSyDM7IlJVBP9EB7NR47FJeIJIkktXy4zFmYslNopSBuZteXTDNA1N5wMhyj9Af6jLtFCbx+ZfPgQWEC8i+HhjVzBO2Q3Hs2JgC29sKN3AAABCQGflWpC/wAAAwADJKcD4i5fbPTOMw2PHWuPyVB1L6AQPuSPaYNwu6zJtcQKD2lUQHYIcYcgToSNts2c/vwwrAdkPf7UJvFiRvN7iJB/0Nr1rvbicV1l+nJFg9sG+NCUyTVEwFDcec11R7bwAeRp9nKkR6bGP1D2YZg6ZanJcFBsqz1Ak0f50bKCMryaLeWbtlu7g5KRaYQ5S3XhoDzyHWs07bAkf0CkFAO9g88Yjvk4KAD8l30fblEMSC87JJ5/AXXn4u/sBEHLhas6GRefnqO8GvUAPKhYKqZ7LNzvUCEUmZjm8JhrZNpLS2oPMVoiz4JfAC7jUpH3IKED4Rl0oKxA3k76+Ab4d0AAABtmQZuaSeEKUmUwIf/+qZYAAUnnvgB2e551SKwvAgR/fsjJiATbdBt7ppq4jZROQxYoJGqncvbYfrdun6IXbZfUIcZzHRqRxW2EJQ4TGQOJj6oV93GBJPfHL5sVqN7Bq3jw7sOHoTNp/BDk5aNgwtssKEuL/87rhF4Go7guMJw7RKOyG9STqb0CiKliCp9+h5oouijwxk10Fku/gACGtHNPhwdfABWZdV9DoxX+hv749ERcoNHwwEf96K/kZMbmUxrsZuaXVB7MyupaJsy0QsGwUbsL34rkJ1ANiNFOqfjEDtfJXvGi5/ORFwy68/KnR7+6OLOz2XixN367VWJb5LZD3uP0sVyrgC/ZVWQZXD/QpJXG+msurEALxmFg+yEMw9AwiwQW4N87B8MyZkrabf0Zts0BntLyEEAkj9Ur25ehJfm5o82OdhDjrl5fwZeKC2tRuywzl8BgWo9uOHlCCy3QZ65F0bCwggxboPuJ2NIB3/wjtqTD1jm5n30pKe1sV4s/PwVzxa4ynbkYPCUkEbeXTKBeOd+aKjB08hOHhYvbvc036WYlk7B9SOz9ZofqCxGSxdDQOoSHvq72K3GLSA3cVUtlq7n/M4rtcUEAXljzx2KH37CCSr91D4DAQFpONcr+oq8YsCnQZft2FsFYcf1kpg4UjHYaqEyiLhNWnCAA3sqHecZqLCm+SV7ba3Iw2AFLovrqLpRyiQZcIxoq3Yiz3BUudzKEr132rLWSGegCUbkpegrsfmf0Zz/NjfYCPZYBAUX5Sy6m3qz6PHgUM63LBCnVEB36Ht+7KGrD42xBb4Ncn0Hhvq0qYkndBjwD00zknkdfzB2S7WR6fRUZsI2/AK9GnoPiUHcwGwHW92v+rEWeWpJpF9axK/4JdwGBux4v+BxYSN+r7aBlxx1focNH/6N3exzOIsbaV82kmx5aDv/ON5wXTlgtXwVEp2DKfVpMp9b87x5PRkXZXimFNY1xinFzsj8YOKiNHk9QL15bCFZaM3KM8GzUiQiO0FFn6WGr1f4JQbi2et+OE8K4+juMc4Cw0ayqxueztWjX/ENtEPZQsCbuShF1yHbkRR9UDfIc1joiF7l1cuKhC4iVZswvjrT9v6NKaR7XjrCZleOxwopvpnhnA5W6ppJyx72klJbkdqh3wVV2UnFEvwgYeb0GKaRKr3+RdE9LMWnlnV5kBa8MS9wKcaq9787RTSxrMLZLrs3MXxZ3pRLBSb1O88t+bfcLRnMkhGQyLa3QY3q/Lfp1hYuMBe2JfZt9rJXeK+e+P2BLZyjaYEDz09DbZIJ0f0abwKoBFAaKvk2nBpi8ornpE+wZcFHa+sHh2jb5uzuDu8w8aMHBWxB8gBdQ6H6C1jkqCJ2SlvP4WEewMZ3SW3wwnDk9D8Wr3dI2jIjBi9qi+hXir1OFrJZpjuTI6qP+VRsAZZ2ghPF/sg9RPKMJTAvODvDp9CDtJENN+6VWXJycq0VeGjYQBfBStUMwqNNa0OrV+Fn6XwJqIY9jWpiMjARCuqI+SpOK2IFff4yzB+LuBG8VY/AEgYV5Kq4RNDB6/XDcIGn11IBCAkVPYtHChS+0dfpq+tPfdtPQXqVUV0BGIHcC5n9mF9MV/wtWEQ2IIqb1FtrZffXL0gEncgn4TLe0ZOm08JTfce62yPfk/2/vL8SoWqOYpbRajhzgfqjMrRkxS6j+jQEXyCA+9Agxy0kYYY7qxOKx+Hg5AXqN4eqdxKRBBSQBSAbee0Gy/3zrmVvJOjurzBO0YA9j4jImGMA8wwn1n0DZoJiUxgZG1g2A2fkvJRothH5WQqLd4Km/WCAoIQO/Il2Kdf4EPskTpSIu2xtXIgH6PG/5H49+sZSBnHCLd64+UDdcAdRxyFxp3dAXoXjLmE9CrJuAs/tu43VCQoGHRUONn1ir99UqA3RIM2haoX6+ZmvSBANPyDQ8aHBadcuk+2FJLxNlET1OD9ZkqYvrBeExwDbjcUCUPdr42nSQ4m7Lz2PG98usLG6gQJehfRv/cnTSVV6BACRqdI4AcMCzRWi+pzzznFU+N8KbfEDglTquSQLtHXSiqD/O3Tf478R6j9/AyUmlZ5682/Mna9OME+3qtaFCW1R7+OoGI+mjyAxG78vx4ckHh1DmhI2zEx3CLPA1+zMwEboKKozQ3lLJKv9rsjBbeDwky5lrT4cizeys1H1VI1N9ktv3tP+3JIc+rOZSN3FKcQkQOLWNs3R99yrown/U6cbHId5/Vi+qARpVp+QTRWVVYTYbAHaQtIwGvat6jSlifbZaiYJ0IAGTTKTnDuTm4mComBktY9Hs5hfXgo95mwNYLxmJ9YODtAqP9Dw2cbom63NZ1ZAMsnRdMi9zx+p+rPHDCPHiGgRrK2Ec6V5iAtl3HrTAlIZ8o8W+k+sDp6paQU0YkKEOVJp07pyeZRnd6wv3EY+th4NpFiJIB7fMAGTfaMpReP1absPRUIwEyyP5y9XmZ47oVOIt0HQc763whofi2hwiK064pWE/v3hXxpqfRNvN9mzgUxIKq5ogNDVU7df2Mg/O1Hd2xvJ1n7uAxIf3ajxnF9maO3WibVQiaCAvgp8NAsPs6lqhRm22KinlHR0OSvDxtmRsz3IemaTDUZ7eqVgIpQWCPEqRvIz1GLMLyzjGkxl3J/1xkQryWmK7563jYRg3L1v6dOYW2ayYJaZ+ydRS1p5+moEsRVGaGQJf3PVWT4bA/Apc/ADhARS1zGB/W39atXagXhMJ3YcsJOnSzQmKS7xc5jnUCKjaQ2XbhOF+7cHOPgwSQg14gzJ/iclDEMb13RvGB9igeRSVX6L3/lzDWh7Un9Ulk59UdgjOQdlfU6kziucCzLLNlJ6eeUqdFUnLZgI38ET4PFzBkoP4fr8tQWHwvVyRtmWU+UMFyurV/Zd0kPMZyBjDJtgzof9r8ZyrBuBED+UrzRhacbOWdcRjaw2hvczC/f6S0WkY8GOasvsV6NKyBcjapGKJ8hzCPCAo6MNkA6LuUg230n6y8EQxD+ramEqA/x/L+2l3u4p6c284sfiskjV3ECg0Yc5t5wGUZwpkevmQBUJrPywIeSBU1Pp/+cjW17ELfuruxqQm1tBWO29VWo/pSFC3E5K1ZxCK3GYYyZwjS9XxsM/4YhH083XnGIoY+m5p6NmPEMLiFId43AhmqXTq1b+MFlCYpPYsr8zgYjq37RpREFcFu8AseLeAy/eYgazCmy7QDrSgXgIvxeA+Z56/TiOl3nul1ETCcN3jMd2MSHhknTQG46tt4dLp2ZIa0HVzyeKpxyeTIGwXC1oPuEWyIaffsuG6vbUfJ4Fwt9T10JUDdSXYL2+snklJeFA9/nU5xlC0uKxMLlBQw8elH67/pZ4d6pQm31i+aOtNdGLwmWX9QnBff/BhR0AI2go1WusFZaazUNMqX8ITt74//fPln0Xk+qsnl74UArF0kzp4322UQ2gWwCqedtKb65/ta+th0fJWvdHiB9gPSQf0Rcfa0NjyRy0o3eGq6FN6PXjLAlkmFobIfkc1tTtyIZ+rwrP9VWZH45xS0vVyf/8sk3qBewc7sRunSABbeBNFr4Plilye1QtSp0a8fV9G5btO8q/Hse96mZbLOG6zY3dprkPJsEmuhQL0KUnaArxOtUM5bLOeNlJBE9FUsfEiihtEo1fUMtexbYEE/bWVRsuUIfyoQ+CIh0OZZPfjtnzNRaU/jxOMJKaoNfv7CW+lNMAG/u8brWat5sDAwpwks7BM4F+IkuN5mA6tFFTTQhMrH3Pv98qfESpVJgtCHRwvR34N1+LII4Gv1SbsaVKx4ziKweac2ehKDbyu7Q0+wAjCYYJK3tfCB6DjyHx1YaZM9w4AslXPXzBvM9LEpfjK3dz7RGW205fb/ytGu/XsFV6ZOcTWduVM4S+D8fhV0Ow9p71iLTTQoo2FtcX7USwXQsTXYfzoAHBwwHdze2Sx48gAlIv7+6WBkZm86wbZxXQue2zEW3rObnjzm5+8EpIkVlTIC3Cvf8FmuwpwlFD/jG7356owgj7GuCyFAd8hTJ5FS9Dp2VXRPDKToxItK7vj/Aimt9PurcgRENVggLTPxY3quCAO1t/VEukzjO2H/7K6Pcv3/y4x3TyK4+3V7pW8NwIMUKv002fRYJGtrhl6t/i7WVK00zeVFl8JCgHzgrf4rND01gAg2+4pdDGLliLglJC7dTfTf2rD2/z1zleE0YO7NVtQvA4g/+Sg0hyRM1X+bYtRMZSjrD7vyO0eR+RnayweS8TTNKmJMt3e38xYtWM71ruM51wn/l85e60YeeNc0Vfb75IQwqYKFi/2vkFQCrkmDYtt7mptIgevJg5o5AAPozHDR/YAzS1rI0aGj8VIaS5euSUWbv/W4qjy4aLZhasBbilCmbV1Y/ICZDLwgfsttVotao3s9/4GRdQkY/TotDPiiuFVniFy2xCZNNzX2a8wX8/F7tIE6NF/vcxq1QxOomcxVBlHamvnODZ4QdJd/kNqVwQcE00kbfCES/syn8LgX7PpD5XKL6dp2YzQDl/0nuIrJusfguIGV8Xqu8xkCbKheXHqSlwiDlB6ilcrzPsjp3YAGVOlR670MmG5qVSPm/nyKSUQEckgb5LI1R4EMIP66rOyzEDMgCFQaXNqKzLbm1d8MDClvm5/JjV1UXFCniPZALV9onup4bPtCyNkKgNYk/y/rBMRSQVGGuFvNJ7hdI1lerx6r2cNOBO38nO3PkyYLJAn+Pzfgdhgx12KrFp7Vt4l68RZHWHIAkEjgewpWAF0/4F3diUmmPdiRTjee0ScznJlaAaWp0dxMG2URLidZzhaXUcRwAXvIjllWeHpeJ6pCxpNnH9fG85SaLOrh2dnBCE5gTCRUdIwIlTlFmYOmBdDJS7k4jL579pgm7Qa2OduigGvDNRaKABnJ1/QpCfu0I09SV1FlrhEKoWXeRvuho344xOJSg6dX8QKOLJ/wgOPuquVh+6R2DwyFNqZLR3qkslYhl0AHWj0k/3mLbxYeFNQ+zbbII4wahcYqo6Lom7iHNTNPSlGZ86EhhelN8Yn1jpwOtHWhfVA4LoU8WoZF4kOvshJhrn+y63+nA7NsWPY4xe3om/rKADRMBL1MzZ4oyzvkJH52y5I4/fyQjAb/7oJ6y7e1QI0iFJhGUOezTkT/JWkyjw4XUGcLi2ufXaJrj2f/bWL07LfG2whEwvjlaVjf6kGwAe1iJJ/nDWPw2q2fgKyywdwWrtxZr8C7myZR1Rl96RriU+pAoFMmq2fS7T6AiWNotfxkzQeggq57TutFv2XZ+gcNx1FA8AOIRr1kDH6r3UXhjHsoJVVdFZElXjKkCRStuunqDuTNaNDSxaDYc5AuSN1Z96oALxyLpEYsQt6eXpNPspU1zOZB0lQJUk2DwwY+BVwmvLQtuWIlt8qImEaQSO90NHEayvnyp4N/209U6QcxByqsz+7kXrVI4DycnzREJsfc67tbn9Xbx4LIwCBry0BIKsCeMAA5jHwYE5WgC26zPuahwdq31uNBlkTx0dtD/ETpQEvEzEKA5nPLIOqq1YdSkCeNZtOYQStDbVJ3W2POaskL/izOrdur7aibjfNVLwSBI4nZP4KelrNd3uHqlH1zlhOEzSjkqxFr+LNAMKhImuvu2+M5e4ytKFZojqVy738tw8HHZGJ5KFqQS6VayyDIN1/1o1hMuPqYui/CyKyagX0pYQfzdgUio/uutz4H88sUUUsP+7suKW3eeVOAAy6CBuimBQJFs3wi97EKth567h5uQXHZhoAqcwG2YoFuxrVwVg9S8SV0KmTesJ9sKvm8exvId6kD4d8ADPuAcNE2qO2tLdkx64DAGPHginIGtSuRvazLcpq+nyvTpxt35wwEJCGgTZHCH/NLXvO4R32sG31thz91/1XcDmkbQuGb9LAzE1kiWPAXsZE9fDqfOj7f2Tg2tjEkRfALsEmQY0sT2a0YGxpLVPrwgDblLOk1l2T8YGgHKAPghdgTFuYStENpBvG+f1v1Pa1puOlkKXQ4e48lyogt71/kAMrvOPJAxDN+ejhJvjAsYUrSPN8AFrFyv7umj+MjIIw7D9Av5w/Hpszt2lSQbjT9paU9C2MwrBtX9fbJ4F0nWoGhZszhvZumTbrMS83XS5dA3iHY9ZDHhm957f3xIgf9wXOzn2bQ17or4cTmBKm7gVmmNaSvbo2gFQhD0sKcPzlLq6uXaw4QqqMlwPyPD55WIEKUpZVXXZPfBSmMk4YmqHVbWnqDCJETb5/PKHfJujzaBdj7zH6hL7GvknHdc+gXTjqiRMcZ+vluDouJiuPjq7VVyjcVpJWQ/i+ZRha+Rfk9V6XA74hSaa1Ikxf4pmW9wFcFhdDkyyAG5PhhPrDyAtZ2kkgKkvKBr4SCzkQSIY0IJXkO08IZjywaPMxPFiMXckH8Tkxt7n8puJMAtZXvkSDgsSKJqGVsgwUZhOAFXCpyanxRxlyZSpIAZyWWRKyskjtcq5DhWBM/XIr6vFOV0AJtLdH2fZYYo1gieApj1IXncxhhpWeoO22vyf8NR0BQFGPgyXNTmQlXmKVRDcH5LKtcHAq8lrUGj4dq4U58NeuhLwvSD+yU5IbyGTEfV8mXS+dWpV1ZapjXsmvcclsazePnEoUoCpA9YF0fR1Ys32+sHvBOpkvcOcbJRPRwx6m67H5ql5+hus7DOGtO78Ex3kvc9XwkkRpSDQNvDnNyYddj89KqMizXMiZcSde5P/z89uCeSjz1MW0c0sEi7a8y/CNvx0jZKAITTavxT0IHXORacS1JRTfte04uDBhFx5gP1NgtOkvSSQsLhCYyWzTzyFHgkFjB73ntzgTxvUVVOIuC6TEAOe1mXewqAWLI9iZ6IXSB21Rx/kENNwqEovzrYEiBFN3ObN5z8yeuPCVZ6xOT+kQCXkERtsnvbN/eBspltlGYzkJKXC//dUDgqibKu89IFCWBQRSZ2pur1Pq42oBEqB22oIKHVCTB9q2LklLHaA+Lm8eJ0TcB4a28KPFtjIC/ncsRnFx1MrcoZHU2LVjAAN+pe755BaKmH0dY4q18CxcgmyFO461riucfJ5AC5ZMZA0eySxjNtGYBgDw9Y7bCh/1QGKR49e01z/FsMAOpU3Gk/b5guh570cLc1vbwvM7qDySq6eJKcef1MTAYt9NOH3KCETtzdf0IrXh5ZwIr46JewhXKWDdWDm3SU0v/9ACCTiYsAqA2BUl/ZD6MjeNTA5f0txwwTHNScoJy5TqJGiEdm2q2HjKybY4fnjTgscBQHW2WHqKHvEop0g66tAOKV7FCRKjKjYN+HySTIZMa+6Ga9rJqWzLEcJfTdIJhjmj6y9nLdxWXJPeMX+ASZE6jHham4yVBG7xsM1rSgHR7UePY1GV+/fNj3y/qmg6XI6rlFARlJtgWQV0SYS+zMl1IzpenXHY8U5tHp/VbkhOjJDkPwnJS1KGU3Tym86sIpaut8t0KoDt7v5pl4edIBiDFAargw8Ays3UDjSpc9JPIf0iVfNF/3uvucFsPM86Et6R29Vq3/inRW+IuljgHhl40/Bc7TfAEQ/obw/kA4zyfkeZXxgN0LCFkKoGknaI7xS+NTkIdMyk4gN33xLWYYlKxkg96DozFRZCHsKRbGYPHaKEXrK6Dc/+77xOH/cmJz/QYD0hcpuATlzS7Bwli5o+a/ab9GuStFNb+nYgygoITkGNv4A7rxZpOvmZX0TSVrKsgolZdUbZO3Z4lYz/e1B3vO9pHO9aMyDKYTix3nmTlJVBcj0PCL6Jo/8XTP26ql87S2sSm0YvpqmXSkZwjH3nZm+rOyDPWDhCScJOgQPc+ofMHXeqbDxBMQHKaDP+8BLopF0DFuIiza9yvwweja6E2GAMZKnup/l+GvlpPz98fHW5WBupihOtqOmE/BrVk03B0WBG9P9nA2QkEYe9fXOnEk3BLQ0DaTT6r2OcdxBRTfV2kQpMAc6u3QWJ/XamUJzhHdIjNl6I+/m6uvJhcvuY7nAm5XPLgqfrgc5RDdixc/iybUaj/6HNCp5aa1VXZJoPqudeSOjEaAWl52oHk45cbHElrYnwgxIVkQV2UYvRpNiDX2n7tjY9fICrJUW+YFiylVswwYxhEE7zklOGWJjNR2dckfdKLW+yA5Y1D97ZBv7OHDZcmKXaULZqixFrBwlD/kQMK7HQcecJtxqm2HMtZUEKL8XcIAcufqdmBVQSnRpAZu6eMNeeijpHGBcJPtmKRKuOo8JSFERchahp25we4HJh0G/FmiH/ZOAAqGYT53v3A/97a6Rf4Qmpu8Er/CkNF3LOHGCZx1g2Slkey5EgKaS1OFe4SWCRLAr6MdCRfXAeB77+fuNGRFL+OEmDJRAlYnT/rddbkny7wpcwTDQZpa0WnMftgTbwKX5ZkxAI9IT11LD5Hpsy/9kjiapt6vrfQqho5mFXlj1jVjX8VW3KFGd/Pxacddejmq6pZ5/rroIIiRXG08UVctE3WYLwZuxRamm+Mq8aQLFBHh0UX0SZo/VurcIRN/ZtHRHGlZIz9buf8xa1dR4/WbR+E186iCnAV2Z6yxUi2R+Rm8ggPGO/cnUuXF6cPprle4sirWByLw8EHktnvpE3Nwq5icXOurIvJgfo+TlqJRH3XOTij8ha2SFTTTbfuRFa8bUrHm6l6jv6dAMVzlhBhJxFwsHPR5Xr5s9fItZCd3VYPdIQ8YbhKlKePZUB6CrCZWl2u7OJf1Oeo0O3P0exL9fXj9W13h5wlFbJt7rdM5+QTwAyDNdtSM9RvEaqLWo0MI96eD5srPUQGmwi0WyGRslpa0e+XZ1v0FZYmGdB9Z6hUHSlt5Am6GzU1LkuvE0dH1bIkdvsFSumsqnoVGFpJmYYvmN9FKYxZvRa48m4IdqS+qwZg8U5bpakeCGXu5S/thiwVfo/YmsZbHBlEi17ty9rtJQVUFg6TqbvHZcr1nYT0ab5IhKRxGScAN10V+q5DxoZvcKynna9zawngNReUd8xPN21v33bpdenXJnfGMeNIwfny60xQBt3cER58XMQ6eRi+MoqvjiZL4xDzBK37MtB9ACToAhDgRMDMQnd1al2TAkPZzVsxLUlZhmXv19gi/Qqmf3Q7vpwwzrQ8GtCp2JKuouD922qPTyZf8Yp3m7s9VmbQZwQAF3qrnTmXN1rgxVm645HGkPqICuaRgKzst0Yyd0aF4zK/aIZ4Ib0tWBJk1gLPFBAGI/4GkSqMHpez6ruQhupnV58OHxwjn4oDrotd7605CHYu2dotjMHoQDiwuf9u9aHw21EaRSY2ZexdvIaDtD3kfPNzdn2coPU7bX6pRDhm9Vb3F6xuIjgD2/9W7LN+nq+gaz+85j7kL60TnOSIVM3AAAFEEGfuEU0TDf/AAADAAHbUqh13Otmt7yRkj6tqsc5d60ABEB5qe8/T0KyxJM/uSr7JHUT7rNYAu8MLv/TstOzlTr38eQl1qu/ZMpBN+YnaJlLzavRVXxDW+cfbYcYNZFd+e7iHVT9gZA7NbEzIy0xnlv26BfG/adPkRyWu+RymR6+1WY9Bjzxb1UH2GLTIz4NNHqbriZsCMhA/7PnWDOrpuZdn7ZYKxDitwDGbdiLvFlGrneTsOc7hFTffHtDsAC04bQFMabK7aG6DnlkLUTwC9C7qObMe/Q6eDYSr7TG3dz5bM//0CJV0iP77hxsCT20rrsagQhmtr0h6euDtCnHvnNOpNCEbIDyCpvKScNYH/e2YeNbvngjyjMhJWyTKZX2Hxr39ZFUuPQqpyxJ18tDEhadufnYCpL4+JXxMEd8dgR1N/7FD4C4kDZd7WvfXjHoNrPJEpWYX6HIxNIHOFIVTQcSQK5WavuJrhPw26BwcDwEGr4RKeQi9g2XYSq08NZF3anI1ahOkJ2wF2mGHOAfc2CZCQ9SZGwmaejv3zS05DpYHiuxLCB4n0zYg6z9Ece7KNgWa7EQnlU6MXNtxmnQfCEJxzRXXAI+8cbP2SqiOiDsz8Lp5x9pMqpccK09YHo71r8ID2qno8E8wWDoNjttri4LYr9wJPn5NBYtWLYCYXenncR4epjaxwVuB34GFE0rZDG5k7/kUrC9hWej3pC+dgbyM5diFWFG7b2A25BNZVqjzmt4wx1EsmI7JkHPHKRDZ9zwDBXhPaRc7+gb/Wzl8QTKVxXkq/cK3u4N4qi+fwOyHFTmz5TevixAcbmyUQW/AyrqiLPyi+XZVhWjW3hyQKlGU5w9JBL1DZa23n62AV9QjcEXCDhBXQU3YdEcLolw1z31zuDL8OBRM3AfMVjMaIQ9npAB/QXRkNmq45qQLZNaBIqZdgwlUvvXJ4Y1t61yB0a9647YwWD8wdz3nA6hWWJE6s8IvV/ee16qNpF8dwTFLGgk3W9lfexakuJAQkCBgAmIOgWwE/1ohkeCs2lm0FrY2f6otZjA4v+72gDbYKhJ7Ih6b5VNgmYqLsRpgt0amyEIjaKP+wS03PlKo2/119pkX5eACF01aTyycKpw/n/8ihx0cbug+7JnXG5WmeQRvPK38qekS+3D9JFH7f9ufaqGtR+kHC8Pzj4etf63SBKHPW/1HKsMInPeLECQjl5hRmSqb/IApRY4MDJNeCYATbiYh6+jf89/BhirQHEB2FmfhVel1U3WN1vGEDDx/CeIr86eq0O4OOnGvgMvbUZbyAP/hdiTyeFTbQwyeNetIFGqaEpdVUy03UKRmI6K1yb2o/zy/cuEyR635+bFoHnxeqssSmdHaqujgxwc9Y9n5VuQ4/uDnucMDT1gVYApW3wu7dRp6iFTBcVt62BPWWsbSCJ7dzGZDYW4a0r2lqBsopQZ+5Xauv3npQKOZ7ObqmmrVIJHpgWSdfFfgygDdjNbdFrFYlPZDyVIfMLeaYaJq9LKnVjlWKSupVLPnl8qxHlcPD8bc19OyR8gBM1EuOESq7W0EdUFR64LXUcU+2n000J2K7Xrk/HSjfX44RwriGcCno6/nAcnpjNwC3pOQhwwJx4w0o+ZDWNd+KM2T34jJk9NfeRv1hGti4KJ84VUNlNF7gs7RcPthWI0lhyAsLLA7HD+GkisJZCeib8WG0pqJ90pBZZ5m9kbwmgwiQGADKq6oQAABcwBn9d0Qv8AAAMAAyPfyUSKlUvm1gnc26akAPpG2li8/i3IZqkFbbYQr2wqSFvV1it+DuFdwxVg/N+9jd6J0wBVKT/ME4ije4/eJAuWg6b+XVXWjzDELxiBXkLnpQ5AZN1Zxp1RKi5HLV/WrGLr4fIbpdpNsnxfUvoQb4yfRxH4caBQMRtGbN7Nw+QY8a1TO22f8Ey6+/WVu+cQr3Vk3/T2XKfebhnlqD7+9JNZ39obVUCH4CTdpuAJ6wkTJbcccPbbpg46hefpv3RxSfaVFINyD2bVecZALa7mh0FPpoltHm56oP3vHydz28VJGEH7plLteUsgxVvxlejiv2oJfLcxISi9tPg9diLtc82D5uLUAvxVjbljR8aEL7GH0msv0WnCNYu/SYeUR90oWP95O+fr9FSTle6tXoMWUuEWpXJ6tkB1MFcZKJYnH0Gm/KFs6RiLT1h6pj3d0hD3c4OGhYEtxo3k45LfziYQLKqTuvqQsXNVtGWT4pCysBNV3dx4SzQyqCFjU9597yk0XOzlh2vOZGWZmYRPkUWDaMVu1dfBRmujUjhm7O8c87QGkZdauhHY8v6tQdZovopIlMf6K08GRAl9PizelMAi5O0q8KJaWBzRFSRbF0Hjz6bmSoZ30cAtfvjWzsT0GTCnJn6Q+bWMooQn7Wg79VXbn7YOjRNqL+rseRy6+yid9cDGza4sbl2Ds+9O5SeItaZwrx6a4MA1GNvJL92tGXCuZIg+l+8jGsZyEONtzQp+u/m7xzIra1xNc5gxYY7+cNBG+J/RZ867jvjFB4srpsry+SoaAALIGHhyOsk1PpUOVu3bMCdcINyu58e9OReR2i2VW86Shu6tKOdcdQSYaKRCsJP9nZ5aStGPArCJvlX/wRyv7zkrcWme2BkktRLyYAxtYHk5npyhiNndej7CsEy+qukPU8G/o5llzetOe2vDrgTWK2kndHn4EcsalRK0DFR5uuwB4ZGsX2uD3HmKEQ8G3j4ENB1vmPlL/rgUBeLfHXoLtu6nqFYXXIbHHslfENt5mAYepFrWsBplkxR3Ib233KGObWr1jsMa7CC5fXlhEoaAcQeldQ/5PVYb3RKLZn62WvT+s5Wg7Jn4Zyes9KDSAm1Mgw/JQNXoSW1sY2al9x2lIHAc9Y5wnfTFai0Ab5O2RL5BQHQWoQ4xx/oqlv4iBY3dwzApsh+h5Z0UXYJ/7vgfE1pHKgA7gLdP212eFVHZWQdcFue7OzeH3eX002MT9rknUAifnu8QQGQwufFso0/M4vQib0yG6puL/KK4K/tck8vaPVWCaLixAqEn/SfCkvI78WY8T/aC8q0sdpwGwU2vXnO3wn7rkQeEdZmC7FOrzE8RHnR4+8oGewDYjbl+k3VZwRJyX6X9g65jB0dGBaJEOKM/RNzhRTf3ZWy4pfS5fryEA7WqmaRnZEVt0HAnIOouooYnS8+SLstlxWS70IfqoC4b3FF7TzMwCQaaYVznVCMzgnIsAtF8t8/qz85YzmJFDkyOrlG481P2DiCQWE9eEs2QxU4kY6QEX4ZSkVudH3+kxZDUcQ5EXLL6lhqfeo8RUXbH9PKYJsC+lzCLFEHAADDXSCSDDUqieqqy7r9Lm2leb9pxTZ/VnbIDatciBwDx6yKxqbehq2Q10KRdlWeE25Heu/AD/MthXFF63N2mIf5yLLKyLcE4TofeeTnd14mP7sc4zB1FxOhMZ1Z6u3aU82SPam9Yga6AVLnR47DYcf/zSsng6BM5NRrEBo2ROfrbXbF7wEiyi54a1ChNwR+/+Gw/vbXEn5H79gwku8EMxfXCw7NoJPmT+8mUmqgeM3QsVYadLyAQN6V8tfHUL93Plje5UnpHQz+QvtpNHmWj5Lycg0AOwt0ZPsIDekbiDt+LU09uB050MrQ4/ptrHm2cIdv0J3VwTp3/cqRNGLPqa/Wh+IjG2X0LRcee+pLIiaFEGrfHeR16Zp0gUopzcCMKTgAAAr8Bn9lqQv8AAAMAAySnC0lf6wQAXGuQBDgsSyfziSSA1XMkXm7lcjZN2qf/2IEWZ8vx+s/57gM9wq7es26fuehSjtf/EWBAMiDSRY8rrpjL3390ykpM4G80j7S/NB9Y14g7po9ThZpfxANkvsvCT0e3CyExxSEHcvBamDXnAsWHnBcgmCFBYKZ//o4k08hKLKday/Bq+5ClSEond/NTemyPPLZWPTre4tlVrTSh0m4IJvRlIPuu6kWSvbsME3L1X3LFgR+1s9Ha9eLJ1R4La4+gjFcTJyoBpFSR6FBOLl6+XMOZvbibtErnh2XqSPjrprSwNX29ueFdBzgE56ysDA8OGES5v3H+rpDeMyJmtdBCnYrzBYN6FvZvNcdzgkmlB+pFoJxli9UEp2pmti2UWlAcu+Gr5hEg74KWaPJqlzr712aZ8aFT4rLCPqSER7aZ1JOF6svFhfv4X5KOZ1PsfAOJ94PpBifEUM3rxIh7a4BUq0DxjVedTyqENNrb3JLmpsbGBk18uDXzrtKu41eRzt3LiNixqa0mohw7eLFGXy67pvTOk4/ZL3hp4cA6Y8x+MB5x1OVh25coGs+SaGS2TkJV8kRvbAmxHBDA5+td8rS/eudYaqBcDQCJTuNg9HlIuqRfXFIHIpda/YmvxG3M7XpRp/jBAjtOK4box7mPnRgU+R/lAW2q4RfGdZYRNmFfvGrz9q8sJX1C98QtPVwzNWEuf/tpxF3rIh8z8pFWZIwd2jJTBJ8yUxvGsbCT40P7uQAfDp4rN3AOhw7e9kUIOuXvW3bgNcvqKh9vqIYppstJHjq/Iqi67O4DNGl1whFWpdcA9s947aKulhr5aUC/fhTxcnlffp2nj9JVL0j8RafifPu5SOAnmcoQlutR4L4hEXLeNGVjEA3L8Wun0ZfrAPL1m10C2GztbuV+x0xVxKMDAAAKf0Gb3kmoQWiZTAh///6plgABSee+AHd5nnVS/C8CbCMDFlXSE1tTFFFRLkuLxOLXwUjGwqw2C4hl2qRbUNth6D8iVMRWNvZZWuw7GxsDy70Ls3JiPMvusaVtGOOIxJQUdjyqJAidHmHI3IveLT4xKva+3nEQiXK7BbCWkmKtaxXZxGgM3EmexdAOVZ1T8yfzfk/KFZpiUU5+5jY243r0swyjMySLcf6PTyyjs/3TGO0832VpfwcqEEULIKmxcWHOn5zY28Sao5vl3q8IbSTHEW8Kx/uZ3KOoibWBM9mcBuoKAE/l3LcWeQ6YtJS3HJtZehrvPdq9qxwx1QDlT3V7mKqWMWSQgp3CQZ6d/jj+8jmTAPA+a2PzkQdZDgJlr3xoe/+e0lCI150Bqoz8KMbQzkbyZ+9khhnS6fRzVqglqetNi/Rgo8HDCH2ClvDCc5U+c29tUYRYAs1RPnpwx8lBD7A8kC0viGKCS3h7hI0ODviE3H5V8G+2zeZ2DIGGm/OaNuQ04XJi05bpQtaawghBGGqUa8zgLDuSVMmPCQnHkL/Oet5lwrjhQ30r2nLpsU8IoBwx3xcDpIzX/uL2N61atnAc6dqLHQG2HQ3oiXj5gm/mBecDhffUSNHs9x/RPfslekXYFdpcCm3D1PJMtwCXIQ3DaVwntsXWim8aKy/3bgnPwhME5ggyq6CS5O8HVXqmk0s8Ed2LM0apx70boWn5OQS6zwrAp0wSvu7DSxGp8JHw69yZXC/CkSXOvkkz8i6C2hrLxdfhG4OlpYtSoPC3HJusqKPj9xFsN8N/OWwKSko7rXfNKqd5lkkYEJhgyQvNTnGEWPVqkqfTs2MSeaGgOqNK9V0H98AqZ2LF4Ps1GHGIy/fiPpOX04lG4YIYx09YIz6cNmFCu/67hPB1p1DvlcubKqZfmZl2cmhAt75ihIrDluyYQA3PH594jCVmzqp52LWfil8xqP03yjR/CATYIipQa7ZXQqRZsCM4xvaB6a1D2v1I0p97trADd2xVVfCIuW9a+Bck/xPPnyXMqf08+SDBJRbLEtPNCIcQg6Pk5XKTnG2kMztRGwUYZYMbUbnPww5b79L7Y+9ufs+g0ds2QB2CAHLElv2z1a077CCOP8/vwb8m/1J18ujL+5nlX7ekzsC2Hy6PffiAIGm/tG4l7qKAV53ziHHliv0LVZ6PIS0KenNPhZY+Qpaj3gVUzK8Gj+x2dTUhybNsEKMBHQGPLhtJlZ1BeljKNp2iqvkPVwDDwf7SYISR15p9c9rH7pZF5LADKZsxeeyOuAGZI6MmQvH3///gUEUkZ8zygogKHp9/vOOHjBveD2qFfwPECoUFySJGUHnx6bVO2yPCCk6+dAEPJGFUXO0rjNMefCsCriPoMZ4P4N9PtwO62hEK86ap0+brOE4SgW4QlU9RV6g5FBjhHDdpJEQ/nzVOOL8YZuS1CQnRU5J/IXasoZkNtoVqdnNfBXw6SCHF+Yxsj+/H9vslmR/nNOQ4ySV3K36Uwczg2L9ESmMQ9QIjzjte39OpM98Uh5O+d4eTyo9GuiazVk1TFSySRORO+S5KPK5yOLbmdSO7z4YLzvP6AoYYRiP9lNNmmcmCNTnhxHEfxSbVZRyn5/9b/jsBT0R7HakV8ggkm2xXKVEGBFpQyMPl9KiqajU3oW9K+2zMd40I+7V2Pti+Qr9aaZn61RA4SjfVwhnemag3zqfUC6fWjBmcxiq63HAvr4kK8B7+n9fk8FAHu2Rp8uUvIvle5FrOQYywI3zJ13eavb4cpDiVGGXqBfXKzvrKpWrI/gVsVB36tYgDS38p0OWR9tDbnXWSYaB/qttcMN8Kb+9U22s9M9P3hfIlUQ3Wv0dXwwnvaG/q+cFs9M7ItJVeldeZy/U4JwN+/xr3+lSe4WBzS42juqnQ4IfbmCyHX9zaSEkuav88jDU2fC6UUhgEI8zwIuiVMn65/ZmWVvgcRgMJYstBZZiVw19IYzVR30CpyjBFPN34JWrVGyVLXcyqk8ywW4UhMcru2az3bTAj2EubT76qKqrAc8rYvAMssDl5hCHAKotbs5HHv5547S4801k26TxFcj8Zh90av3D2qCgV3VmsolgJ7Mzm00rHjwqel7pTeBxtcxuzTPlqkwU8pl07caXBUD/95iikhKJiv7eFNhjSLW81UQ5OJQhKXETkmBIEIsCdjni5+rArSrEclC2XnH4b6eNe8K9S7ML+E+/aQv3EFnZJ7NzrnDMkire9QHyulTmI3iA5FnI/ucacmC8C2jImCaOgxoA9FdlLtBdvKbiAG6d0gAEK8em+2JTKkXp1zoABP4ZQ45XuGPGmeCtE4RfZECFuiIDy/MMlvynht3TUImvQodWbG+d7PTTN4YYT32VGOhoodWiwJOLolxXzYDEDeGmyRJS+hUL0wSdwtTi3FEgsf7M8+faRQZNjyuLKbW60XFtCZLS2iNdsvZCgi012eO07v4WdN05OWhZsD6GdD4qy/hVNN9UTKfnRWHCWp6QhcsfrReeWbhqxxvF8pL3ggU6x2wUOPNiTLfAWUSM7KAqiD7zydHtBqnMmaoDq1I41TsjZhdWMFNOeIj3w/t5h6jgqKJHg7uGc1SYjIcnTJzT7siM6QU6FtmcDvc/LRrVFQHaLGWf4d0nyni+zgKaxMbvuG0VClk+6telIqwITbgsTI9P6D6jAFEzYt0l3nU8M2vaUzg11F2g2T4WlxcNnhcy8Ks1gq/OIsSxjIGgNY5+a5tJQmqtOnPK3s5YpPhpOVaibVm+heqOUaT7GQiGdpBEL4gtGIe9k2RIDZWzmcDEjbQIVmdWBXZ8f7XKYh/2Af721lZmAxlN8Cr1s8n30iR295jZgWQzP8nwAiUfd3irEgI1wq1qxvY4cYGPfY7Xyul6tANCL8+sEDA/COIdwusBtqrwDqCHWHkRuLYSO0bD2T1SD0mpRJuj+MJeNoiWGjS+h/GetY0Qv/PH9pKI6ULzyB7u5D9saeButmE8LQVSXOkEcTvAe/mv2ijFq/ySTGCIhKphsZ7qepu8qDs2rfS6ewaYtJK0NPYENkDecpyueTqhwOCuf/bIHKHv5f1+wMf6ypwp6tzUI7rHD1GtFNy4NIFfbxESK0VOy+rYxp3qZYIgdfVhOK30eMPF18MICPzs1+UehtAYz8V3UYHn84rOIpNSuG1C9R5798DWzIXpQq8TfREudTqhH0h59uYmyHEyZKPY1G8H3E3Gp3rjGr3OVbIDaG4GvMvgZDBwgikoP6oqePk1iUWw1W3tKqT+645K2UGQxoKwE+BedfK4ERphqmxkyB7Z6NxftrUjSvusxJdnqPBLAraBaImTE6K2kNMfDDo7sDAar2cZjKdgfHF/tSLIOAXwuUromE7oYNL05zj3l2zABkl7ZyacWmVSyEAEoK4rBWR/3Y585dogpsl5uMR4Tv8CflvLLzUG4IMW9rBxl62cTENfsr502XSk56ALA18CY901Z7PeEoe7HOT1a5xbHJH/xcaeXr2pAf1MhuoORKuGLjueG2lynrTx5MC0WL0pqKdxc72HdZxnKJy58hsOH58RKvd3CIBGUd+Uw+UKQAAAD+EGf/EURLDf/AAADAAIbXv+B4SWs1tPz6Hu3oJcZhUCR/uYgCoim+zSKRzbtxWWUVzBWZJhThrqUjMnp1VK62lPxG1LS3du0SORy4G6JXbhhh96o0SFSlttRHJ5jmJVfxwokh1jDeSb/MWC8yxnzb7L8Llqmd1QMNfGwFPyVQFp8fJwH2aRrT4dKHlBXtPfQUb4g1aE4vzIiKOKUgsjBXywv+fdVTz2kAyRp4aZrxWBu3y7tv2JAFIURjBiZzffRVksarMehO2kpfdjyfauuwQp7Oos1rKy6NYfxdN21FdLvfWNcfZHPv08wic6uxAq3GngbwfgfszqZi4+szBrWUxko+ff/ZO7APzTg90ZZfs9XHOj9VdnsiDVPM9od/yM7/u5cDfMXDnCZCk7/EcDEViUEoeXcBgUSRiwhT1F/p7GcpY0nPPLpv0hYHJp0yUZkw1UJxmWoB93G4U4uxdB2nlamYk5as8meYj+kQ7kN6xbrpXvzElg5oh/OZNeAjOVbNqfnJk8wx6+4mFvsoRa6o/uPd1CXxh781AjXl+1fQzI84nz+hVjBAZXUQ2ckLtRDu+sNCPo2AGmN7+v9lNKOulfJUz2tYkUfbZcMuoO1bHOz6pg+OXkS/wYM8festUV4jGj1vVqxVHpYhNRwjrVSrzuboet5jNx2MOw+WaQ2v7wda53jPn3jXUnoAP34xsPgUMsPuHkSYkAFeL+Q5Xv+9VJla5HEVFIOHl6pl5Sj1+8KN0D3IUh6GYHk7OEn73XBwnE5KmbTFdVHj50FJaZWwxVBeUHgXOGkJBL36uip09aqp6GaWrz9FvpB7wv2gxQWDok4KQtqmwu/EuNvkTIkYk1bgGsph5U6IzgCutKob536xwSumh8tB08vGerP33j35DjI3JRF+FANLaSASRihHIM0CS55g28dc9xvnYpzqABvEYNpPCf3OvO7DXJcAlq2AXYdCXUgHO7dLXya5LKb4Nj3lAsfjhqTXf7WYAL+5wMcjtCOkWLPuHMtqnRIsoca2/f0CRMu4HyPRC+vXLqY7ePIT7KqZp3McBIQ8DAMW+b959RvCDQUKpsXVvxuWFajR+bICWkB5q5Ncp8UExJY1o8OBMkPtS5nZUot2Z3NEMd+AcBMpWjzPgvdRP0I4XAewpTaNNqA5HeFaI2f4gkcNLPAZVJkrRds6TWRMsGNjeUwouFEAT+AQQkhg/EybkxSGS0RO8b7zozM+DOFC8UV96JSI45JXynB7mLu3hC67nFC9vO8E9FzORu2VI+MxNb0umIac3D4/WIety+3G9yH3P+JUZmH1AKGiEGVVXkz6jdblk2VX6h1qaIysFT+vSZfaVF+88/I90GDAAACMgGeG3RC/wAAAwADI9/PVPQKI2c+NE7QRrLvKI65bTJiDQAAJrvh+S7lgxJPp0r5b79XcFWGWUk0JxnmsrXYW/LG2+rdRU8e5I/qrQrJdFjOQLqEFWYXOQPFfXqrL4DyUxvynwIZM82clhrmAOjwwk6Oto4orS/vpVv+jNT5D8oiyEuJxnhJKXIT3hlAR2/nsOjft0LW70Q38gP9ff/VTjX4UGxi9F2BZxp3mFc9Vmcdw1m+bbADDHWZd650+TjqXzWHzOFbsvca5yQ06vc4E3WVF+ztINjWBgnMZwowWkcyAYICHM0l/zrwek6KDKWQ34pcxkIzGcrNqs6Rjg5MK/xuCNow606VNvxF1vcoJIClTjiVSZwVbQwkNCW0aZivKouXq2Hsx3yHnwMn4GTxVyQhhzA8Ax2soBaLlj8WCvL4RPqXv25InLXw44tBrTfjIE4KMhyj9XShaZwjzT0VF6JaAn8rD0cd5/WmgC+sltfk18cITsf41xc4ha67YXnIrRnOAzQFB34uV8fvf4c8Ld2lPZHXEVNeSBfGRhPTSZ7idfUn0mbjFinKr77HpvoWKvFqEtugoAKe5OwXqsW793psYFDN9dSKkUwfAlZl15NP5HhmDF5R5+bkIT/j3zTKE64bGVGPnxIGKbHpZxrV5CEMEleTXJ5L7Ysy3WMYQ6LJvKzNucA+knehlewamLnrBKB/gLRgD+2aJgW+jRc3pcFiA7g4QUwrmD4qz1fH95OyNuEAAAIvAZ4dakL/AAADAAOKmYKbyaZDngqlAU2mhrJ3PQyeTne1ZAbSKiAIj9SkL4tWSJC8rJiyXA6qHflp49uKFU/vaQOaibVDKCvmCwuP9Q8iA59Um+6sFIl6B2ZPuBVnNpkYf5zDfduVW+It3p18Nu4Lw9Gfan24TjNz4lDq1sMN7Wt1yqHDs6w4TA0RZURIXauFWNNmKqJeP5zempqKZ0j7I0SxkNGXBzEaRvaTZ2VTW+dLTpAzpZebwLEUCJbpaTmdqLhDmBzA0ar9CsJ3EDWQc5+EBqsd2/KgOpFmyDOGXYt5r6OhMBEglA0+q22bLc+38elBsXkaxTVlGPI2gJ4SXqG5/ojYBNjxZMM2fJNwWgkr+lBdNm0BRVzvCy1DMrgK7f3dkNo5tjUPVhF50bL8zo15vOtH5a0hqIVsqMn/U1lq/uhzqoEL9Q5nRS/RJt+Xm5QTRmC3Jzfdujc+qJyRP8cKIoKhiUoJMZU965/dtWRhZpcIPfkb2vB2+f/7wEo00G7QMUsastONm4cvg022HyDRg2Kdwh7jtexVYuyYeSjU8G+Kp8DtKfafKJ65h1AGcsp9IpdeFqy9aiSSoALZ/SnMwJRFwRYEgXCdYmr/e6tKVpgH8QLMus16r+G8Hczi1YoLHZC87OK9gv7U1uWzjbOD9fDJIm5UT61nfcLRjwZfCzHiVeMQocoMC323DDkCKwjDlXh4+2aMiVBi3/pou+T7Ftt647AZiihguDuikgAACH1BmgJJqEFsmUwId//+qZYAAIAZ6UCXHOUU15+sFtt0nFTPiimHuSaOEdkbf0XrD1u4aATFqmEyt1mxXaneWS9jMRwmMXLfAzcjaza7tnXjlraE317BGEYM/PUQQV/8Z2hXUfjK0M9PlYAne4zhhoUnVN1AbFVAf0ph7ciO997fG9RlY68cYbZuBYU4caDFbUxP3lBrFBnmJ3iJV0425qREr/VRMN8m2rLnQDD2NbjrE+7cSPKYZPscvzUPQng2eodBoVTk8fcuU+fGW5SV2LKjs50UUmeZONuKwaRjjnKEomVXC3d+6YJ4bjL4ZUct7+j2C6rKcs8ALPp8isANpMBU8sndb7LO9/n/xnZBt65XiwjBxSkBcdsAQCHtsHsRI7iRpCDV3jDHhGLfgliGY85sUJUNPSfPKZswoFipfGhQ5SVN6YxRgfu6gojf3d377R5Lda5fLJqvgjq9PbF3kJ0QqcVD3402+OGcc8sLnKpEwOfCLcvgFkDO60JfEHWYll6wbizMKKm0ZzbFxXInCXXlDxGA+R7zbjmUH9iH6MQueSDDHW1CdBIHA/wj1buHdA2kAypHgBeq5OgbKMPEAclDnOukVSf4SeprqcvE789xeJ+bbZrBAaTqzAQHk9X2NQhI6blKk41kXyc0cYPZFmHglzvF1BuTSzIal+Gz95oLUCj5S6pwsoQK6aWtR9Zo5ueS9hhKJO87IIPOjQc7PzbzMEP/dV1Y9ghYOG70KHgKK/tqJNtULJI2cMVega18b26l0a9I+i7Ei81uIiadF+5JAoQWvtVVgJhhoyBB0cToURp/af6WkhsJKnL9Ndn0qq6J4Q8YJuUhjedwfhceNi5z8zf3R0DJf4raCNS9qcUbN8ndiGcjFQ0r7hw0cifx7hq7OVCO7FaZh8kEOdlOYD6KkqgBTJIxjn8Qm7BehGv/hQIuOZkfUzFqV6zS1HxA6lslyvX7sxoUOTvF5C3oHwNZ2OhO7yikVhsf0rsv5/09ZzAov4iDJgzQ6be3sSfv+aQ+2QRip8UJUcKSl7Ao1COZNen+VfXy+pxDFhgcPKf3BsPWm1Rny1pVLx61M/LpOtGJWRBfY4z5IWYjCMLYIIEuH+kFpD06OxttmYHJQPWlPvqbicP3vkfthkvStBGxkJS/jF1Nof8xKX59Hi+pHxLxOyh2avxx0weFJ6d8bLjd1SFefwEl36v8M5/GqnFnraDOLU9H6I0sotuqhpq/GOrP31fwZuzma/wYVriMTwJ8W15DH4N8BjdSLXK2ZFJ1sre+NYVAawZOe2oVBccPTO7qUdXajLESgJwML2mQ9rrWPp3SbKhIYBiEjQ66F3rpXMn4gLxnDQbp04JVsV5Yqn7rb5qED98n8aaeYFFLymHLpIJzam39ETFKtKjQqU1WPxaLdtDpquhO/2V5SbXqEDsivQ7GWX2dLpnl7r5TR1y8Z6yNoSyPB/vJNymlYJYxWJacxBQb5mwasdp3gJv+Sk/T0cPky7w1Z+zgxiO5M4pItnVnRGf34qJCpVfz1/lThjmPYWglEvBhYnNzD3vBlkyIz02RX6wyaoMZzdFdxzrYlfeS7cvo6n+6CbXQDxqKpvcF2b2ddR4Rc6t5xchirLCwtWWxOXsrhh6xKWYp/a05BJQ9FYYb1fG+c6+MBZ8XKmiYw6byhgIisYS1QxoKvgUTsnGF3lVzc05ntI/5GWavXnUjDKyaZXzBqyP8ecyfVZ3D9rJ13Sm2m3Z5MZ/E5h48hkpQ9juR+ifbhDI1ni/Lz4ZEsB3zP8K5Kf0WIZSa+uH/OF8bDnEQusrTxh2nIOaDR/tnAZUgLllxQlRfiUkI7Y5dUII685q9RN9o0/Ewly25nXO7mQkV/Vl/uRZUEa8ng0iA0ToEzFqwZIliKRqkKRCtNHBkIIMV/s7o84IQwPdiqzIR54NmPXqOLLsRx/WtOBnss3xpGC1pDyv0zJzY5xrSN+UIyE8T0igEToC7fZcJxld578ar/+8wsHfY9Ijj6qdDwH1EUIQNCSPzl8Q0kM9NishBSIDNg4DReb6zwwToWfKh7FIFvCbiDW7FjU1yy2mjkzXK+DAkVGL4F8106qPSgk1h5RoSSAvQemaoj6hz5yVP1ldtI2Z2lLhIOLpN1sRR7lRdYf7UuMkAdfoQoJ0pubFMlPZk1w3A53TUoz3i+jVZg7i01rNY8soRCIFD/vp5BZPA+0jQw8LxBRBqdt0Yu7KuSBw7VeuYPe3mlC1CDy+w34k024CHMza4k2M0K55CeIHiwXGX9kEmiKnprklb/0dMTGBEzzddFFCgiPI4CF38/QeZC5klVagn3MqTqLAA41FScmA+Qo5xdxU406rmOCkA/C+sWLM7FwgwXRG8wUqYXlwDSoLWhZT34KRvZkgtDTj/UPnsO551BwdivAIKTaB7WRZ5tlmJ394F9JFcWDWskK+n+54Y0N60ZgRSwKvos0KF8oR6E3dREuJ0pkF6jPZ0C3PHUNMJ3OdUfpovgnef6beC8ejWQ4joq4KcC7EBhIDN9BTQ/EUXuFb4Um+WMjFMYVtVZW9+8UsFv81Z+32sLyhUSG3KjaTETZYC237DLpI++m5jdmz/4Chio1M69RDbiosf2+/25YVSiyv3bmp1b/hB3te6maoAM7Ae9ikSUEpsE7SaxNsw6hslWVebzgtgjBxZrKDlp1cftWwFxhK2pNnuwxegn4+ZbfqKtLspCZFaSjrkFs9QRY7IhzPa8nO5KpHeuXvrWWTZyzP95ihuK2HzDz/qLfOqlfbx0cLxO/B473bBYUDbuwtXyuNdPGLA2bGXCCe1eGexNuLuv7W7i++vXgooppa01u/EEVAYLAD+Z+aFc+FKkUOXgrqqfZiPJsQAwE+S/RUjnFe9vC6gq1gkdsufmNRAAAADwEGeIEUVLDf/AAADAAIbkaiJLWRT6IbAA4ez1kzKXx/Q8DUj/e9zIZtVAJbDuyVrUOd93Qz89YSwDROhs3LSzScr88jk4+DTmbcZrn/j7iZcyp8UB34V7VOfksBEDijCVuzuP5h33x+JVKnp8cE39wgau6SmJ4DMMjhBIjiX8hI48bAvTkOVjBP2m4ejwoxOpzaJBs1wcsOLUGEp6LdKgSEggs7kl0Cq7GZIrpGLcBH6G345Qk5lDCDtky9Nsw2rFnrZucPizd7kqggBOul6AxBj0qUfuJS66RwZSsIoPhs3H82rcP/1w1vLrcV3QTvIJCIb3OL9EH6muAq+zVRxHYQSBJKjL9LeHZiE5sE8mr0pbydFmHnv3Jw59kXWePjiS9xLARrM7T0eqTi2KVNCRXxhpvv7uapzlPCTAWXm9+ezYJXS17n/bIm/4dQsEMcd5YmLsEekMYVbvTA/gCS0APPBUxkY9jt5q8p8N9UerXYiZK7vA4l5MG9V1a8DJ1rFJ6lE9Pkdgl4Fb3DolJtDP8qPvoXr+FfLxMAYJS04Q3wrlk7nSyXxWkZvdO8OPYKp+mrBE0pB7PnusgFqiiWpGEUWQhA3O8OJM+4OWl1QWBLNDxX3A+gXowwL09U1TTCZwcwDpDZHGEAIdbD4hYbU8tCZnT/RicgYKwApGMvy1MMFCBUcx04n38k2sUnzXMOvqKMQZPvFrCOIOboiXrLoL37vWfAWsbnOoNe4xMEfx93AOD8owBnE82BSl4OfRP94EG8rZRXlv2iWd148fnRkd9s1AwLsnDF0n4zR5WquDRHZAlZiOt2NtflIXBdne0P0d3WMVwNwPCE6xQYoaByQfsYyreCgEBs+eZYRsGWEy7NU6a2VTbMndfTD89n0zQZlWPZwtTGpYW191FwuRWPnvUTc2l6rHaHEmTHRDzEb+vYphgxeDNb5So566PIGj5oxkYDrqVfzPqxi26gU7+eiECu+QXHx0D+woSC0/FLsQgG3+zmcTzJIih0Yy9k/pWxV53WjTwhgRuBz+nK/PsKNUVBRcoeSJgIEuAtwhr/H9eWbXqCAQnEvNRFta1ES30MS9G2qxqSNNuD8G6Z1LL0jrUFajtgn737Te9rLnmIQSJVQhVi138wE4p0s7wuGWZiAKfwZzoK8biZC+Uic6XZ+bthtI0szxgDSfjWdgaaercaNzX4BGfUehl+KMB0tQM0wGh1nfg3YeH2Z+KgGgMhs3Ku/p4GlR4h5c33cc9OrU6md0UdjhHnUpJyjArzXCrpDFwAAAn0Bnl90Qv8AAAMAA4mt/GHMOA6/jAGi0qnYL7/3Ah0C6l56tSoaVR9Dm3Sg0QjZHCSPx5Skh6ASjRuYXZ8kJOu6V0sW4ctVDhuTkM9aq/5fvhMHxINuUgHv/atF0qVC8iJ8hsOWE9bMdyODpVVPf+kABu81rDY0JdTcI7VAHfgEVnNroCMKtjkdeTWB33dFZYkhhmuN11JjcS/KCLJw8+Kr4AS8626GapHAkAoLBtsQfrlnUUUTNHpjtFVWbqd7cMVtm76PmpQm6D+swFM5Eb2vcucPDbbfSCwt6rURHDOPo0rUm6A5xEXk2p6j1+l5S2TmOfIoC08zFlA0WzPlW9VMUJYWiJYTDNFXEaFB50pN5mlBVuRiYH/4EPAbpf7L3qn423E3aqJG9jpVJ1RaDo+zTQQ8nu5AIlGcl7c2rc6ZF2rcctHdQRAZu4MKOEOjeoil2TazLgsZqYgvBc4SHM1BYPFYYdrI2cSye6YXKpjab66fQxqyntokh9LKrDkqEGZv0mnwgJNiyeE2U82d1MdE5AdWMvzXyPZtt6hHlEhU7JF06ANjbKkw9J5rf8xq7dyPJxyf2FV34hqOw8hJ2yV3DgSWDbtHzbErpeIZNJlotET+dYHh+ifngwzD/qhqHpZ5SU+anMY7hrzfbHuxKR5vcG3aHyTNfboPleciRiuefgj+X87Y2F/N99NDyiBL/9foIVEEETw6lBckOTOC1CwdQAHkt1EH2icJezLhTL/KoE6VT6YBQg/Nfsz8VXUO3GX40mxJNnH39R0Vdo5cFfiJTnlMb7sGV1r20DZRA5WpX/SaNEyQq5pJjkTGl1An28r13ab6SNna1QOChAhYAAABlwGeQWpC/wAAAwADipmCm+mvqzoFd8eiqUoLhTZyo34ySqd8WAA3grs6Ol4EzDKX2FiAN+JJvRArAOQYGgqsH+KxKeV4SGRrrN9x4S2mr5/jOXO1sGMNn47X/8rjUTDqMOy6gakfeeUoZcXhQpuZo6IqQsOOAq0LPlAexh53WP/InluHu2jKfXTQB0f4guGI9CZ8pD/T8qUduFdJVmHkEb7Mg+/+8qwDE13iFcqSPc1ti5NcXIY4Xn+JJhguu5Hb18SHtjDFKGplItGlonQOlpLckXl1ooN/yZGMziJvNPNNn/XKO2NKz1FAv0nuZVuJ+ofjUT3CAKaBQndKC0WfC37LCPLo5OxWnKsTJCbRyccZdlp7mfzhszd1DTq87JOfDz8v/yYXOcjIY1pc0bjt+IcUdWlOB9+k2zQShrJJ2Xt3BlP/1f9fp1+wWuHeDno84qYJtfDm6aBoJxTDPzAW9lvwSQSmX61iKg535rtzlpUpheOWeGp5iTu/K0Y2WqRuujsi5n2oP4yDDc3VWb2So7j4/1VrAD5hAAAGe0GaQ0moQWyZTAh///6plgAAgB3fADlD6+eVpUgJC+p6vGTddimIBrHQFAle9FU5kg+CaEG/zVBS8U8v6y1jIqaEayqPzK4H5XCCA2DM9ZAgLka2I9NWjhdUgEZ85WIW9a2dgKL3G3/EmZNEwMVHaro+JVfazq4xOZFlU0vj+HNa06Gdg+nBQecmTIJKiW3vDRPr0Z9N+wYb3W+a0fWXRaiSyfPoLtNr0tMIWun1pF8YH4XYPQUwuk9ev7+WeGzygR1fH6Mtt3c+6/wqo8Asm81p2vpvI8+6y4HHf+tmNz0KEc5BJCIVtJ0OeWWHUglvXvSnJouH5XJ7+paxBVj36dDwq1PNtT7ojVhjkaZ0qQIeF5wezcTIV8kRDZrmeXks6WurgAWShhwAJLM1wchztlqcAdDPP8nJ3sSZReIa6+EGAvdrtH/iOof29wlnIKmcZnzULnB/Z9dvOuM4wiQWapkmxiYvn9loqIsgDSRDc2r++oO2yxIi1qXN4VE8JwZg2LZrpaBLIaP8h3cAs/LYg1G8mCT7hyiNIc7o9e2CjBMRSgxijEuFGtK5Uq7KDBLg5G+qyKB1skeeVdvNp8ajdJvvf6nJUt9uQi/fjG/Y/Jcf+CzPg1yZOEbbTveC04WriS8NDAmKx2C4pvpbtEihd61go3nGR/6o8owZZxh6orGBDSCeVqoFjwh7YaRof8nUCqn+bstijpQt1w40pfNaRsg7KHjOzj9fS8XMKB/JO/fBLrQbrptSqqAb3edgZ1JSXYhPHPiO8ij+89/lBtzFU1PGPSO13twjnxyteccj8EUQXNvWLTjaBidfuEBqcq3CKRdm8yNd++SOcSBefZtBmO/iJplulsaOf9jJWe2in7lyzARroCjF3xjGGlwhn/ENICCXUpXFwKL3qVx3YAcOICMV5/6kNgXRSQR3EISUnkVdzZxn5RHbUJ969UEIYwF6R1hOj2pRnEOpg4EJLOT1JZimYNOc5ESvDOWeNak9ZtqU/Kf+xqVlz5kgQlN4tIDpy/FMdLu8MEkYAm9uzWmZ/2IoqpT+8w1XgbJfmOtsN3zuMiW9ZcakdX9Mch15ARwN48ISwJPsLwTDKaXyo173ZfK5tpqWnpd6pnNue6F93DG+h45WK24z4MXFAkwCzWrf0CUYPRJgRp5oV9tKVL2jUzmkSK+i0sLtVrffamGi7v3X2VuTps7U68z7O5d7Zy0aVgFvbUZX0dHdlSUoUi9RQ0eLGCtebVi4y2WKfAXj169otAsrAxC90To5nVAE5dcAMYfSP+GBkEAM3X7+V+n1ek7XDLFdMNNCl2MgwUXQTU2pLjTdak4x6DqUfdGkCyupOQzVuArH8FSvOzLpLgpKoGs7ZcymlPnWNLdHjEY/KFElpz5w45F8OvDNCRG5LDVHYbBktGRtqt1s2yYa2iqOp+uoKKDkjD5UEwT2uWKrCYRqF75cRSugxhH5lFGYe7i6yyJC1e3IQl880wv2v7cDmRLCjXWuggDOX6c7N+yYjYVDgHLjxKmXN7z36dqH6IkTqGPF9oJ8M7OMxrwof2IUFEjjEvXeL/hGO6wm4Ub872P3S6mJKg9v/cv8x7MqEOCvKeXr4OxXu8bvuz3ZpDGPrNmXpOB366XM8FilC/F5dUmGzYRiTnKArKEeKOEEE7Hx0kurVhhW4p2oxcQ+bvKHbUQSpF5U2g5RieAiA18NPa4x4ldqtMcMAtOD+4ZyGdTISEI5+s0Sknf76n2jtRYGOGaKwCVcLJzWCpV8kE7wPz74VLKrj83fKlGMe10WpplggSt9qoR2+0sqsMCAHsBtWsa23xmXZeEzSYwWSjydxmPFwr34Id1Wtxaza8CqAdO8XMt/9nazDbgRZsqHrdg4fu1utdMJ+fniEg6NJ8DU6GkXlVebt9YKA6DhfB2taP0WLhWOX4zgnNJMh5gYUmaBkZxagBTyde5xvL83Caw8aTnfPrsKFu/7Wk2/roUAW/R1Biae6ALIP+gIk0sdXeZcSB2ivt9gjr4LdnWVR3rPL0LS6F0EgCG7E+sxD3gwlDHeTkxcOm7hJn1k5X0p+TQfInRwYmDzrTDeuAELKBYmVpFGKJ1UVilwWiceQhJ2g7wdKx7tnWee4yO+4Y1zYUTe8c9h/PKM/EStVLOL0LFsAI2nZ+BgTnwyqk/xw8M325zXLliODqfkuDcK30lfotCmiyWoWrSBbmj1pX8rfAAAEYxBmmRJ4QpSZTAh//6plgAAAwAAxgrgItswC/FGAFfjP9XFSPyeD0e4Gte39MD2MR+eGzdEcy6tYTDeG69e2VUxXNVqrXb3IjQT9Y1U4m7btwfMJJ2+PM8iZxW31uz7V7i9rfuUitOb9Dp+witPU0+MPJXwAkm/QSKmIwTAFFi/P6r716ZNL8Gk39OizDOZzuKpNHfMMyYd3mL6SNzs6FMQwLvo6bgDghXVmqHnJYxnVzE74oPff/eDXFdNqw0CDR3gjxgHKZzqt+4wpGnhPYGdnGEyzagBpDI9iJhEpdPsBxzR3FV/nlnmjIogwoisSVlhkxHZx0Fu8wTCPN/n2M8Duw3csW7guJCmxlyqOfGXcuCeESn1RxatJEKGAV0pLrbT7j+ze9UDS+bIT0GfG9eAR64ejahqfqR302WmK0JtNlgGcDFKQCMoC1CzgjmAtsubr3qtUsKrWGyW3GJiKrKP4GzjGplIcfAEE2o6eocRGsDe4acxq02kVuWfyZHRbqSIB5XVtwJu55dVoRBuFB5Ovw0oLDoJ6yPcdivWAvxrMPAm+nP0nEZGUl38aSQK6mHoNUCaE3sHQt+wTr8cXP49wuceSlPMPIHhNaia2V40fxN+reUdfuVkrU8H5M24CnDlRV6FS08df7SIMZz7bf0zgUC8FzJLSsqB34j2LNUm0Jo/kHNnGSIoO3vTCCHPAyx6Dhfhg2atNkcig4EFpAQTTljxd1GjNiI11taE1NAeMdjc3WFqcxiUy257csZ1bzGTr379Hv/CSq8mGi2m+MzhmgWO3WO64gBZOAKu2AGIT2BRERpUCybA8cwzBPALz+2gwZNQki0zc4Iy2AVk8dweexDPIX4H8shxpQjn/dbK1HpQa0zDm1quhA1p/b8UAfKOT5oqRjpo7QEoHMOtYsrmKbTacLdSs5dbMFkEW1WmSQQWWnJgEDriVBpetONTJuQLJeyvWKtfJzbYAfk6roO6jFHuZtR0O/tgm6raciMe/JDSUjlm9wkG2BeNRo9vpzH1Z7vCqkQvsv4xuiSDUfWAZHd6xU/3PoCMf55q1H8FWgInVUnbAj0iJf/s+ctibmS1v0rt3VxslTOqdLNZvvl6RjD0RVjQ03iVMsI7vn4kv9Ws17YNG+7fyQdfX0ybl+8o3ylDl584LAdpwWc/TaMHQmz9bJWNhv9mIo/702JS36M/EYQlNTf+Uud9wdav/lwotE1l2FIB9k2tZCurVpRyYInZwIcLCz4HM1A46shEqeuBQUmy/a9+Da58dCqorHGA9N2yA/JQ6vpy4ktsgq+IGGuIC708ZlBvGvyYNLqOJCdKlO4meXWm4zJyKq6gFrhZ1P+hod1+Orj++NjQKEPuhnmFW0NB3GuNnxFvr2eanrTFuJJwGPUywHSQdQqXm1pRnGA0ri11Wyk0cC71GW4FTzm5CfAEBUXU0Y1ASb1Lu5hDYgXbbZIrJlfx+LnNl7LiK9pSxVOYGB73Lxc0qe1jKAqvX/YR86MA70hWpxhWdTQPfMOWTaA6pTr3OBm6p9tekVJyixKZ1ZDWLhztu4SEqCsoho8ldfnx8QQXNxu6/8LIAd0aSDIplCQmx10wUC7jwxHAGiVwob8cnINmVCEtpJBfX0E6AyeY53jxKmXXqxYzQ1v3V8cRRWDUpgyVBaY8OxXomvr1g1Z7o1cK3LIFhT1PPWXWzmKbNHVF4oLmFSEdRYvDAexUjQTTogH9/eUpyPvOO+wCPVARv3CHPwxBYAoDXAGXl8FC6juojXhS+hbsHlVAzw/ReTNuVOzYcxuE7qtHxXilD1ZLCG3lWiZ1rqn4/ag1uIRNyPM6XhsFzwUl5vdnLi6XsjnocZ2h+NA+TsGyqp+TaIoitJ3xVFQGBbGwNgCKG34wLsR7ddCDk0P65RqdxHBuf5d5pi/7HS4HYqt+2NhjtOHuUmp2rA3qb5n648vF4nFGjzNVX60BtwzK7ly9S3Vj7yEvU4SoOT82/6x4VYIloOBmSkIuVWCX0b5HnYm4BZGzBBFKs3/XPlu8lyRXbpaIArmuZxoIM2aFzC3aWyTeuaHjxsqUostLdj/SvUjvpzuHPV3kFWgfBqNlolkNZhq258BQ51YhuDim9oVKFp00wHvMlkXsWdbFWw8KXnXvRwrhaG9oZyp+n3c76xX/GPFdkA2Yq+bc+kVQG+5qceX4sGTFVEkLuXX35cnj80CpmmIO3Eo3GQk6Fw/hkucb5l3FEui75lHR0T8bG8BF5BA4w7KyyTy/NOETzQ2Xu5pf719muhuEbRqyvBP0X9ma3z70VtzfNfKB/y9RKImJH5uO/YBO8HcZFLgpU6272nhieYSlvvnup/A07xYpzIAkmg3dZsvl15YhtYWKNHkU9lg/UI2wcgm//fXsL+RZs15mtz7mOHSf4fNzT8HdzZdJj5OcjmeccVmCNqW5pDbZGY/xSp9Wzl55nlqKuQhrmb9iKCzpNRf92jgy8FWn7LOuRRBVY+iQwUd6F1spUDj8zbHjrixgkR4gkh3Up/4VDhVHsYRGGzO365UP8PuLWr90VdAG12bwqRItL39LPO1RDsNrSFvL9Be+oMCv7fpVXiG7FZE8x9/L0JFPica1Bt/VGClpNjj3sxiuSuOzXUNtsPP34oe0Dn3PpdboNU2K1ljV1IHLZ4xi6aSSJkq/1wJ8Eo80WkZZo/6aNolRRXMDc5Fa7rUOi4Tz8lxDcbkYF8PEJAr9GiwmksNGJm4y26j0LntuiA3OM7ehY/520sAuGITKQ1y1VxZGaNuaLI5oUY0yC7E0la8AMsceFgBHRBItDxND7Iu08jlVzC2XMI3tXK3SvqjuTiP8wIiIzzDzrN5Ak8PuYH5vnxok0gMwHqnhaSSfBuEClk6G1tYJ7aBTQoeWCueYn5J5orUwknO/yY0tKx75jju39Vi4JeesZHUF8SxNvHqR2LFybTlUMJOYNvT1IUF/QRS/OUFxc2HzI2otPs6yjVE+2J24dPHavAPUdXFmSFVFdowi4P7S9zFwzgCbUJC7GV1aw3hvHNTyMkgFmcdd4gJUcGPeupaj3qN1aeWgp8R7XwLg56uRqL9vXx/kDGHEKGlfR7F/SWf/Xekb0CqvJ9PE0+Jkb9a98YvRr2Na/3ppP/prC1XUlt7cZPr638QjJrvT7nMTp9MHQDYqQd5PCWvXVDC3ffPQ7dbZ1BnNbpDDwpmnlLIN1zEdkbH86wMSYz3SFkyvK7V6C3agrW67dXgdmNLvgGxvU+VTJf3dCxLULKsQ4PVyG4SqmYk+8WvJbpeF+dd20JKv2ENk6Y1pxRMmEHih4XhhdikTRXfDnaZa5FzmFmToJY+ob6+JbBmloxDgrWg8kiZT3hNFSX3WC+Eki43gi/E2xDwSGUw1A5ANCkkqh+up0miy+QEcZSUnAx1fbODobizC394KRLn+NDl8FoOgJQoP/dKUdTonDST3ub09Ej6awKmgFsa6umAYTKDseZK8ucUDn6rKr0V9uXOEsUtlxD8QDlOIBh+1r3UoKzoZ7pd6NUEhULC+gj1uxWmoRPw9S3tbdVoJ2E91K4OkrifM+pCS4GpEL+axNjH5YdUefVFQIklfoTW0OtMqtUewRMJVRRx3o2WKhZIlRwFc3LItdXIJNB85sbneEsj8mC1Mrv31+ftIBEFO55uXII17h+CuEXg9QJGjYmFyWHRjQEQQfYt/2xSB88N6PzHQoncdTlnzCxgWZ9/DdGKrXgzOD4cN9pe1Or7ZdEYXSYGPlVfDTBHfFOVTHN7PKYTQbzPK+LtLRM+GnEkmx7sVJHX4gYzbq+EFwN/kjjVuZkj9PIA/uDc2nIAJBKpUohBfOTY8i4UWks2DNVNhIpj6tBoztE66tcrcTpwQICtzUCJ81fES2wYrBElZa11qdBVjkoidMoq9U2stl7i5b3ypBbsaXG9OdHKdqJPttIRPX4FaRBZWy1MhP5gKBK6gGlVV/TYDe8tl8CUxF6SRFvd0nSbsT1v/+SAz/pS00/3nZcAk79ozFtPApe3JuHT34C9EV8kN/N0W2V3f+A7zgWOyT3DPQxhztTJRDoT/5zbUdQF8MA348ngcMzR85aSeXU11HOtlh3qKs7nQgsG76174Akr/jHvZ5vs94t93DcSCGO7g0zuzzHg8M4/TongeBL0aPRno0oXn2ZaVGbvTGQywK85rxAR0pSjKBDBFXxR+9PKVJkGWoS0+v09tEfNjXvh2OLCq8q43/oJqJ4W7aVR4wvVU3iXrtpMkMpx7a89aALZ7hiZ3R4ARxbFgYsRdn0D3/kwGIQCk8J92S/XWjJGu8gcyw8NBlBOzU+KSfFF7a3B7jiZVQaHfzE6tlhtaxEwZscEeG/Apre9iCRNroovQ+nfXQNrxrWJV9olfHC5dMYobAztHvol308yvDgR1v+FYOm2JhsDKyCLWx1DJ81+3KZUEKEO9XiqrtIXvhIieWWxLp6rXlpiFSL9qqRfjFiF7xP/jB+/8T+fKJWM/KbsSGzhtBD7OpiAl0pVqXG4afgQI17SvHPEgPvVd3hy2W8Bkr75xS2/alrhcxNb+ESXA+wVsyi7ARij4HWDIRz5EyEqJhAOB0mz2f52a+ZHHySYzcNvtt1DnR/CrHxRa5eNSYDUQDRh4Q39D44Vy0oh6pkL9p92DexjWIyCpmQkgD4J16jTiDuvu3LAJv7twKxWx4QxphXuqLMpwnRGk4JWTfHCihFOOO5CfmLK7ZJ0QdOgb3zDAifu8H+T6Bgk2nyjB2UA/AiAsnynyik/0V9gMSTubYdIQH9NY4v/erb9+CdU2VNCpIVWG2DVlxGGtU/kzHLBVzfd5m+v50Jbbl7wvQ7HpUBjH1vF3aGF9uGr5VZoTS3FhWzlRxr7SYzEumKHgtLkp+egscETejUGWQN20RBZOUYbX041ImF2URE64+2Ez0BTR4kRw5I1td2YiAFrew1ASepOrO+DOI2HKMqcRh2OWQvXR8FzWWVOnYC7SIaZW0XuTTRksJU9sE9HNk/uzffoY3cKb9B93GrKsM2o3hV95xoj+CFeEL/sq0QEIDhzA9H44tt+DxB9BSNTDTQAWWfvoD7rx4PxfhmlWZ3vSU71v72suuNhNVNNbTRlKkeL92JrbVBhe2GNYiSlhfVDx5BhWjGyJUZt/+Xf/+iqq09qHAscCp0gKIq4hfS0YCcGUKdiDLRUcHOTJQ8kjpHX5Nt1kUZh++RbxtnITDXCcqKi8mRCMsYZMaIG+sXU2a4721BEXRaGtjCYvqyUOX9DVDpMK4hFWCu9Sp9/fS4da4BcT6OlJ0W8ZXflLnsdbO56u7MBoFIl8ZYj07CF5ehwMufllN64h+z/bpV7TzisZUpk9lSBUrOj8BR1ggBYv1cxh2P7h3NbhkPBWeuERL1wAlDn27eLhp6isFzGn5spTUZAp0HNI80CMH5x0ATwIJfNQDgS6UyJr51pwbj3Oju4AoiGyC7SmsDrZA7yDi2pJvxcDPFs409k86MF8pV3h0SW5rBDssvwKmghJOfBO7hZWmiT7SkqDvf7x9fKcBbx/TcdvoMjx8HwmMC3D+YQnmDXXtnA7oOfifoW5DpUa+QM/VXKYirlR6vInMyPaHXvJk26av5NOFlJZeZoLXsMpMKBJMWt0Qcid2/z3PNizBvS3vHJwebqjoe4zHjeV5bvMMpzrdwYykv3xplhro8AaH0SXTHjZdt7qLCn/kCfHEKm8Cai97bG/3y3zrUSrfJ2sk06JpI3kZoY4x6rGiTc/fIlG3wigdoQLnNxE87ZWxo8xypqVXaMu/mDZeGhK/EYrqZRfOZ9jBhsnh2hIw6A2Ejv+EJTtIVyLboav+x8vCLIeJ07AKM0jkJIbAX2xzKgVjxVlisdlN+8fzqlFMcVIgOJ356qeeZNx0NXJV5TNK2YcDF6i0aQxTtHZ/YDMKiv3qpC35LtMhaXhJYWWPEQ3rUePYP9aVlxXBoECBA7LEbdCzrg5KuRv4O8dfWsgncgRMlWRAAAGRUGahknhDomUwU0TD//+qZYAAAMAAMVGgA+5yd5Bv2aAPNXuLOEW3NpR4svUfpoNz5yBtvwH5Jj7r0v41TUc/MX20uVoFeQeYUQ4S//dJ6OBRjQ5h2XgtxtfA7/DWwLdpe+efxUrd7f5L9saR84Acc3A+RPfmhC1MCcGxbVR+9T1mEZC7J8lrlQn48ZMYMC8Z8aaaVnigsS3MOsUUAP6iseCOCXekM/vtdX3AVE2nu51RAqw1mPPMMx6d8UnWuCPXYVmLg3GSjC7leTFGqDR68Jzz9Sx+aSe1JLWGXj1LJXoUX22X4czydc7OviulFKslpnCGoCiPi8a/xqfIshJ8oqueLzSx8GojFpANxjOa+9GrgKIRlJtTcl5YmPg49w0FQ6WvZ0L8hONRpZdVJHs5y8yyTe7d8E/cCvp3o0bapWyy0ZofcksphgCkaTr0BkW2/DNqNwW+xk1Ew2IaHcCuNEJy8IioQtKY1rjujd6lqrv/PxXC1eUz6tmgol7wHQJsa6qfCNNMTt9twEj+THRXJbCaNqwKNRowHA4+OEEhlbOQ47tocRcedPcfghY5O4k5Gmny//fPa86/b6jsSLUR0lHssh0QXXe5v1A0t/4j31XMjArzLyg0jbvzuohbbRJh2RpxhMrxwoRDVWqKICoPf5TViJL01tKOmJu+qlI09DpFiW+FV5I/Gj57N+inaIjbG/i3tOFo8NHE7oV8cQgCmFHf5gf4m5xJL+VuPZ1Ci3szF0W0Uoez+1/m/PlYJUFxH0UcAYZsEEnsDq+sVMsJm0mBVtMQt56bJ5kh689J6fw8ZfU665OuX5bt4l0AgocnRMDTTVtmdTs+7H6NEsJCq77Un5HwwJI+P3ivfMIGCSOIrAF6TA1NYkZZX+l3jAEPq/3hJET7/e10nCfe/R6+wnWthI39sBkzAve51p6MgyWFohRRrt17DAfQQHV/xhdVJ3Sl8P76OeI3b+aggROu0XV31zhiR9kLIR39JLjJZZXEHWxX1Hi4J5aYeGeD0I13/apWFk2fqGDHNOPqbtN2H88VFfpfFPVkaRW0ydc3yEck0e4A3upQirbKXjQbG2hIyWaikTRdxH742N7rfi3xxUj2fiU2yH+iX+DIhw+QowSxvhYhXRk8k/u+5lMGuIXmns9+u/hqy2pAJ60tVw7PeV297GDtOeCMgEZSumVjYIWarIoI7i328tyNbiNSFbuQeJVLpYKXZc+UsLPs7XxzRzsXq1JR7E9pzb2FEwQMTiszF0XU9OaGaBNsFU1L5jaSVWgotWeDeNmqvbkX6aHnxu9zYLjfsdCfyd2g2E1j4NXR6E0IlkflfRBxVihQuJ3ishKK8BpSVFxpQZDn7wd2gvmr9DXrrq7X+nnfSHUomek4vrgeYEfJZt7qn3qV4SJehRmq9O6w/aCRveck1uRpV7EtSmrDSny3bhLisjYpxIajMk3ULyRt94DIweqUVxnN15T0hMpFlejkvBfjOBDkYKDdq8ofzjqsqou9prDS7ZtGl/Ope/v6TpIyG6C6qzU08VIr5OoaOWM12bcrM0QYm9DEDtgJSjc7IYeAOdalxr8L/J7WRDNcDerzE1unBaGg1ggVoFv9m1nlkqefnutp5zL7iXpFhZ7Ps1IsJrp621nlAgWwkwwjY0kPRwQ91zAsmxshUqwoQ/5JdVHebuRoQ/dzzUY0bK2BLI4yYghRCS8SIPxp8KoMgbw80UHhHEZWo5mU6tHKRR86/MTmLbzpTKo4P5y7gNzcIhkArWHxuactQBxbVHvFggm3ZYyeT21mQ4LpDqK1XNxksRobb0+dqpANakDl7wXdSBM754sAhKO0FZ/JP0LyAE09hV6OnmwlNWGeAlBegm4UGilToAl1902mpleHWDPY7XhA7DH4RcZMoKU8pn8QqtzWkFPf/ty9jjGIXlsXi0RtiYf7R2TXDFyCEPlrXvunaH1sFhW0DzHIbFyWKuuKoQ1BMwgPCIUySsRy/C58XObv2o5g70DreRw6JfdPEJ36nOVihYw+XQ9aUtHeUF84M8OicJQ2BDhEHxt8Ip4CMmGarQjjqsQ1LXZubcuZCBRG7VmAenhKpo7r88VzVgSMcMCQSIgcROKQPlcIAseNEuuxMQF5Vp9bbZFOvWfcQAAAz8BnqVqQv8AAAMAAOgmRosNFPCOVl3SgcyoiD1YkjkcAQJtf/kIjKYPoWft25J0bnLioQfiiE9X+MBJtkq+zG/K+NP0MsWpkwiRlg4N1bgxAFmM9YvYXmUWUfecq3lQ7bV/eiaYlBNDi5OME4gCjxMOsfPQsmrVs1db1eblLhHRgCXlZalMvqal7yK2MM7SJNOP/PxdWIcY2qsGpUX7cs/0aUGSLLO5EYsjc6ECJdn/gTSsaDljUIAxFQFxJgb8BMlVmmbpzLTSsiXDUKY9HI7kT2x7KQTw0W5/GRXOjDSBfa2iZXxfDwP27B/Xm0Lc09/k5TymIkbAgvh1YyrOUofYVpHjSJGgdOtIDwUljzEswv0u29piOJIkaWCKJu89KXfJVRuzqo5FOJZ4eGhnQTt0QBqq9pCittaWdcWn9G/LB4eFoZ5L3qjEwUkeqcvFQpt8GmOt8O4YTtdVSKNvxTCyN8kuIlkRs0TOf0US52XetlibDK1bAlMjl3F8SQfYnMRc9VDOtDgRGQQld26+ipXqr8W7Kuj+5wkTxPUEZvthAfKu5ov3tqLaTXlovnb6yOWMKadXNuPdEnF1Vmyg5w4hsfIL4YtIuOAlg90Gfvurqh48TKgAiXeoPm7WnEubaYlWqdf7ih0ItLLOmgwDUEZfRv+TNhfQfaZdz0enlD55mVK5fsI7k9KJkd0NMA/cgQlDMGz61GJ5rTuycnAYZNkAFVS6ABH5moi6CXwIDV1qgUw7VErYVWjPzYYLun80JZj7Jc1sv7Dy20Jb5nQ0qBcfUeOxyP1f30AJMzVjUCVMZJrlQE024Xki1bKs1S0B2Ptzkhi6EVhuaACl78eu5VbbGmox0oG2Wv4WceCcBn9fbqJPNm6kjMpN9crGlyXH5NrepJ+IFaY+S3BeZutY4ubWYtzYNBIP3mSiy2ZpNQxsQZkjSwkwNBknKX3edGdOnXC0zzJNRPWkR9jM6OZxmGERODy84R2nuJYYxlJII1DEqVgbmpAP8knoZH71j/aq9STzHcQd/9BgiyBOwFY7N20pv7Wproup6428c/ow2jFjzOL67zMKkjWsSG3nfS1TIUZ/pHM6ISlbJttq5Yt6/ScAABmDQZqqSeEPJlMCH//+qZYAAAMAAMBGKru0AuzqlNHhwAJclWIDqYWZ9YNUR+I/3+6CrlCZxNc9BYgStR6B4N/zw0UHy8IKxfnccfm+p9EEvuVosrQrmUlJ5/EfMPtJ5IBX/62CQ0oyNIS+w2xBmk0bu/J8XdIOuORdBhFXa6oouaEkR2IB/YiNnYybZz8j9PPv4DwRNFsN4qHVosrI1/Ryncey6WGnql/mQEmcdHHwEusah05e86rUev2GKgTLExDCzPD2tmvUyi4A3wn8DcXEDFsVfviQAEMhcBDJryBJPxNwCXH6eyFH6lrnrFgDh3FroyKx1YCcGashUMBz/J7zRxkCMb1860znu+iYsJuRT7CwM1SPRVko2y6jH1mu2k3nW8itVu5zr2NFcaBIjkgNSKA2DL1XXG+AnwptdCqYNwp6HhOWSOPPpYpnR4EuIl+biXTY0FTApncMCcS0QCUS+hpvW1qEmBZJp5sS0ysznE14v1oABexl/rcQ+Iojt4IstE5liCH/9w8hf2ci1v96iv5FLc2JNQcKLZF38HzbOfxN5YQyEdgCoe7TWClVAYs9v1UYVsi6cOMvYatfFZ4aemiSoLjErVmQvfycZqiLElgEulEG2P70FdzhieQA/E7ZjO4EIeOnCL+XIVvlLL2YRsADkR93NSctSAveXFvbxuq6ahaiI4EVQqY15aM9oiikX2lcp2rw4MIRsTQnlgG/YC8GJYIU59e62ClMjCxatfKfM2gXhP9XtjYhOzWI1xPN2mKcBYoWjfVHi89qoWoEegk04qZzB50o0W/IDvzi3wKak5xLJnl1PkkerrDSgUpiOkP3PkBwPTRNgmRV1zYd5okUgql6+NlQGccBHKJGhEhFzkYnz+zPDS4CXGu8rpziHBrnTkKxEXDKI5J1zplUj5Dpw7fX6gZEe3m1lqfkKW8ZKfOEWKKVu4VMzJxQacnKCoqFfOZ+a2ejxMa3CfFyoL2RsBO0QJzzahIPvPNWA8rf8B9Q3fa1hHrGyMatOxq0Kx8rv/dd+d931+tCU+m0yBeHf9I6ZcdkYH0sXwn3i0dC8nQsMm4mr0ILk/ORUCkYge1RE5ReU8Ij5ht3Us2fsf4ECHgDWue2JiBglYv8tmBCIRI3rE7gK6VLsmFSHLck/x1b5pTbVwyalT84evPkLt2DbCxZd9hz8MqAWWB5c0uLzAtohYIeEs/C2xjO1OFDvhrfdXqVKfuO4f4tkeZq2DLnXshbshjYuUZ0Tt15h6b1D9JAjU5F4QwMoe0xKV8cX5fePZi7qctQVkmHPLrVQmVQngl91iMr9Jk3AMbIoraVxvbgKPfOLKBeQ50t90Oo/ZNSWpq9+Le81kF6KHWdRayOmLOSaTP7MogQHugSvkA2GgNbHUKPBvbEt1zfzLo9jWQLauAjUnmWx0d9ij660/J66Q8+4HAP1+KdyQOJ1Y1C2vdC8t66qlC3SJ8Q7UOU7I19/8uZk2QHNKULcBmPdBagFO3cojZHJdDd87nbF0u6RbUjpkoenPjHERkWSzeNKn7Sta6AKNA+i58dZ9bkpMJHCg6+d61ufX3JHSejdAeQmp+DLUxixOW2uwxDXEh+RDc/GYX1QUdHIY86592ag9/3RKha3fiVFWWfRMpMzNdUNBtixzUmZBtJZMQwSS94xVAOQalBQG8NdhiGZc8aSLN+bbLuLect6lDx+9NdW2bOT4bELJ4uhYwws6DSaeDYTyqRehdnoJpYCD874DW7O3JHadxW+Q+3rg3Pd0sFdW3mhIcfrHz049sRyenSQo84IqRnOskBEsB3MSAp6wN5lqDRZH8XwnNokXd/XYvIbyH3+SKBorxLscu+UqLr0x6ZXxjvb+MdzcI+yATQoSjTmua4GD2yvAgVFqsYt5WbinmJMLWdJJJmoYstiMDHU4XemXNx6TK8shcOr5ZUBs2Q9Fl1nf0o+Lsvs3H19BWjBvLomjDsjACZjUIF5LR3LvUjJ3GXuBPNQ0+Vb+0CReWXtqmgxhC+qXutbqbQ5gMTowX+uKmzKy0XKwk/pDooWZaR7LN/KMY7rk741zDLl1mwMd1e2W2SuIGW+9J/gCwFxITzE2qa536V4fr2vWypPpYe82VkTHFvAWI8KFg55xg9DINdjdpbpyg5x+P1WchsxxBF0d+rIgwjvED9MisQCgvcQy15KpH1UWa/jw1Oqabmqpn5MXxkx2Y1Kw07CUoxvMu2zCJ0heAmX6AhsrzYkTc7KPr+sSIdT1O7VXdqGrGlITCD4L5z78cNg+HYmvKOp88ge+Rmo/fLq2/Dj1kB63+jVG5+SiaYhFWBpBj0TVMDB8YmarH9eL4A2E0r2WQMUaZY+cvW26IwzBmuUsUP5BHMjBwA/d5ta2cRSkQ7y9nl0asK3yJUgtQGfCrABrOBD1PiBF8AA9VNHb5KErv7scD6vNKpAByQJY+YdWjojhnHMed7phVqEb+djrry3Lr+VAC/r1tL5WkXBFVODh6NegMSFIklBDpWoms5RcZOHtdWkTTv4EzjPk7kXSyR9sTzT/SL+0Djtcj2kz5sYzeuA9J8Cwh1sZ9mVuIegEuTCgjiwYrBC1sirLfF3vPm3nwoBA1pLWPgcxRdkWSS7yw2gPlAubIIS+B+nqNRLspicW8r/Sghgswmd7X60sLrRCqC3QdkvbCZnAjbNwVIY8K8LoVbrTsFPwsHmaMa4ejnL2uesX/gjkSfBCc6OAD4B/4Kt3NeaTTKNOOimh2GkOqE4HNw5Ix14AazjsNXCUEhujyuEyauAKFWdRmbaV8w4bqazO3c0HPjEiQx3bgINpKUxc+J+9lBrcmYlFtbax0Y3RHuXM+vTW0/DnMYzoVKJJP2aCSVge7Lff22uEQJdVUEPtQo57WjI22Yoa/w6MgpliVqHmm1OLmPz1zENtbqx/kniQe+/KZqP6JB2busRXDGihX+y2A/FwtnBVX9uF10GxkBqznfyTq7hweoOLkNxkZ6ds0VAYKZUPch21GaA5pFQdSlfSHb8csJdjS8LX0fJJ+pO9RQH4/l8vh6T5z2Y2vu1dkC7SuOBCwqq3dv4FXEkHKid8+rxt0GyjajXvWe5eLfdlFEjXALUjek0Elk3DXGnLTp/BbhbxkqZX8r/ZYNdQJM1pFJmtcgF9Twl8pgBgQV8+sck/LYLjmTgRGuR7cmtKI8a8lp7jorifWNdx7kCGoBh+dzbPZcb9VlnEOvJSF+6hazAF73KafDLbXAYK2nlHuiO85Hkh1Jqc9zGZvFJL65Pdw3GmcnDSFkSe6P1RLMhTwe/dF94kGCy1f0E1DtRx2L6obWSa59rbAoWBjkXlyjCDl1r1uw5QTAhed5vnUQLKNdDblILKvSzlEBoaRc3HXJgD8XQOcJAhiRLkjduU35SH3r0TU9VT4CRqZMRYTactQt9j8y3BdfvThX0ULR3//dOZM6RKXYFQNNDwMLs95uKBGaNjka28qkL91ay38D38sJUaZAMNNIqZ7eOo+gtJt0kksawhcrpBF008sITLtkhS51vjGeq8mWApWvUFhuxzzkyew6XTnhClwwcbVOFT0LgCv8D6qhrG0ddIfzb8gXfoC4e8m7y7x2wrbnKnPG9uSivPAABZENEH+TeyE5Fqg0l27AogqXlqIaAu5RUFf91fYD2LhbphQPYgaW/1F8PhpotRAzHkDnNjnd5N7TyT4BvneTAlrYtPdF/iJwN/Qnf1oD6z3rwHFmLdA9C5OlChim6ZrhQW7EXY4HlE6ulaCVqCrvAd5Ag4XqcDOZQUE+1jOprah50Z3GhJvFpQnHlOzYeV+Ys/I/BFxznjwYsG6mlYI+xLZmLaLfJc4nN1obYyKwjT0mQ/1cRmFnyBrlS5mV4MGN4GTFG3CSTELMHIhjEXmyF5II0NYUG3u3/sl2Ni6fcCW9595Cwv7XbsJzE9uU0vQSzlwoO0qu7UJQDwveGdi/JuPrF/yNLF4KgVs/HQ+LYhm2UIgzwRN9LuiOvIfQjb2gxYy+ZBGRgOsIzxPZKc2wjIVt9w37cZMf5tgXi8viwdEJ23TY05WETXdmVYHCHrOu5z1tC2zFMpJx5nSAgRI19S4lSSVVAWmKwBbrqM6o2uNnBJXF1A3M1XvePB2MMpOFR1hNR1uW9r/5MVv7E80IN302p5r8fs+0ysKKItlTkYUWs5VvzViJ2bhU1ewzpDVE2E/XYjpVkx78i1zkbg0Zai5gQ1oukZ70XIEpAcBSdzH4OyDY/eciOn1KkxxUMAo9hePl9SoGk+ZMe8ChP8I2VOm37Qb5AfDuh9mAk7px7fIl0NpvSpC+eTAElmmK2wUqORP4hBtUlA0AkYrvzPV0UIwMYHKWeIG86wgfJZzmAjROUYDS0nqxEYgGXWkwp8eN0huFY+DL3NweGJsYHiCCvzXFRg2QJY0F7o4/gNh+36fDGWvW802b3+GfqhNm+hENsv5cWqOx0M9LWiDUkKMy+ucM8tubsK8IsJa6XC0H21slBuaI4tsJdihDC9Cqso74SEHDiOgiNw1KFMe94YpBYDQ2T38up7J9f1JQbxVZGPC42BuU/5R5BxZhJwwwyy7uw7Py2dC8x/AkpzBlq3+w2DscJUAFnKn/XRUXP0V04UpMbH2XqfxbaAEZ/+nkktkcBb/zf+nCW6E53KxXdfT1VYfR1MDRoG6gfUL8IQA88cKBpxJxiK0m3WiSXy8TrdDzidVQHWrDwSXJwcEeYQI778rDZ4U7+PThLbFD5WvI7vXC7t785GJm0scnrxy7dKLyiV16Yi6Dzk+6jqziQJVmRZnkHJ+1wEiJdzpDeYxaJycTV85QWAFWOJwhvEDXFjSBaVgwi0fAjt2NJAsliVT2JKRgSfPKns43/VV5Aos5VIvKXdw7ZFf7yFNc82rvQ0T0Bnw5uycIlAx/+zztVSTCymUDW14vDb2tcXXfC36VYORmsSx/OC07xummrMOa7vy0jyWenyBHa9AwXIaSVzHSbXb2KUVMuItP/lOIJAq7WuOvHIoq1Z1/Bgla75hb6N7JeJQEUauhYebv0sA/8GggvVd5om8YqTmlxWo4MdJQ2xlzjmOYPn7wYWMN34B6WwG3Yp+xMfSUqHJe9rI5T0Q71Cq0OeEIDKTuHdjmmMZOO4B/RfjPLoPg6iH3QW6GdR72ildN8GzMHFYTvZMKNEghuF15CVZjH9+3f9TeqP9CaiskdNvwc8Maw8m+dsnGzR9/m9YyS7zr/8EJB0ZrOMNOfvNZmRzY8de9dg9D9hNmdrPkJauNGPZ52BTi2lMpya9hs4c7R8NE3olRTgQLjtfoVjyozdgGqwy43AAN6NTyY+hIvlhR7VV4NfnWtVZsICtY7WDjKpL07QmxmlGBQ5Vkaij0mRavXapyO+tkqYsucH17MHCQj64Ql1bYaiTXHmZiHsuw/S2IgxJY4Yu1EFyfFHpUR4h3xs3L2YpBwybrefNf/sEBo6R9mwm8aq6l0et7NN9o3J2V6Xr+IPwH2YM7SzyGGxJ4lz3hvaoBpRTPXI1trSivhZu1iwlKRsX7F2YRperKJFRmToX6mRbegwVJP5pflRF/Vl334N1KiDf4vuNfAuQ2JYk+exZpjS6FNYnsAHMZyRdmlCP1S0dDWILvOTlPya2eodwWuke/+PtPGpBg53l53H1MikLTb0PinWEbSBAhtjJ/06+hby2HCOJjUpeY5Jkkem0r7FRegdTPt4xP5iySMMh3JxbxnHI1l+VmZAraNGkrcQqI6NoaVdO9AYPuJm3a9ZFCi8QYVnfiifLfwRJ5INBKDZdtzR4jC0BntA/OWmRkqSBCFkUR/nlIE4Eii086RIgG7IL8eoxyXoa5vg9++COFymV5WkQ3aBMG61rhclXvolDAahBqXfSZm8kyUrhNxAeGgxJ6HXNIQsChOvFayD8Q2JBFn/hOMwyPFPHwwrbgwMgQRulma9bGE/9WbYxQBsnEh3ftvgmZnhiCdE1m9u5cRw3sWt+6hk/ZeCkl1pir5+w1Vc5IuGIgraWiadm1DGLKG9IsmwLVog/eIAsVihmz40f9fS1gcuQFSUigtUQF8BKl971ETBK1eQR6bjJwt30WC3ZZLgSgrpfkkOOcITMjGDMeQS94q0fZBV91R8YLIgw4/kD40ZQTpcw/2qKrqXKl+DMzOno24GrbzgZsMaO6mggH1jFEvxrWq1DAzuRAdmTcF0IDFOoPjmD+/LsoMq+M75unbnBMyT/VTTRx7N/xm+RlbPYOGdbnFE+5l0A08Hlh0gZn2siVT4p8mXZWx6nV2xPeY81Isl1YRnHQiip0FL3ymdU+ZwYYr8Nmj3V9i6lalNTnQJeHaxt67VQj7gmyv6GmhP4fsG1M5jEz3zSmiLTU1n9X0ahp2uMv48+Z98qrRsho+fiWi9BU27h9RabeXUXbDrbg0A5HGp2XickinLdI73LjwCXvpVgDmHqYZTRaPhaXMtXk8WhnMGJkJf8Qn4zn+0ZIN9gCGQiQoTWCTHcbKK9VK46vcDIKXnGlgk+rSIS+AibiIzNZ2OiBb1IWSdiAfaEJkZuPvc32wJNSEULrPrHsMeyQodmtsfX3fx7Dr/TFnWe8LJNCHYkHI2Mpd8c6MRoRR+qX2fny8pmWS2PX8gk+Vqxx4vHQ3NqhsiNinYNGpiMt20DrJR7o4WUlzTZ2PBrhm6JrrKwrylWiXfYnrftqzltM/beMjnGb10qGxPBKcwQTu1NHbr0em2+ltxMYgzP+KCiEQY9Dov7OJmlHxqsaHaMyrBX5Ik02yUgDNQe0fxyzqOWHyTIT8dJnEe3Eezfq6s/Egk44oQGE6QinzSkcUZGU5P28j1ItlY2DnI2FOnSIPYwNJ9Ovjhv3Jv014NsP2UVTvPnJoPpiegCwE1VqLCTBIpjDvPTeMPaffkSl2gjc0sziqXcq1L3wEQxLlxe4VLw8h1DJUNvD5CqJ0o7zsfM+ATd0oddYvNzUDz1uoq8uCZvl+FF7SA1nH61HjiBn9A8sAgDv6xeku+cI1MxfGi8rlVTlULoNJKRg2DbqWTFXViWo2kaVWc6itu1MkFemlCVX2+tgh0i+3Fepu8DNB6hh5/4Xv1fbE0vpDcMo/drMvHcsUnJu3LSqtSHg891ikgXr34U9fr3Ye/uXT91+7oHwDHIqeiheJTK7jD3lZE7AqKbpgkcZdi/CAPfWB38+4O23VV/oQ1HkKe3hgNCvY2uhxukrc0IlTmj/KsFvo0HLhv/75AwyQr68zyC8zLkc+pR5BdpjCSzGu7UOAo9wEU3+jJDGOEPfcUIkenlZ+n2ngY9y32w9o9TZHIYzEjld6tZOE99ExZG2Nm/LEUqFsTg1yoyRvBha268QRWyMoE2WfcJUJrGIRewa+j/SXo8k/cCDPaCXeC+6Tq0VT5CYwuSe/oMIXYVxg/uQ+7ZJi6rhTirB4Ka0xOJacF7t5z0cVugb4kJjYNtsbo4ic7/ReUV0oeyj6ip01QDG69R4yjlgWwicV3OHjAkxPr7hv5Jil41qlb6QM+gppJIOZsU8HrbhaZiDgPsteJkokdtmNuyLajp+ROnC83NZ23yt099/7+3OLt7u9jdIqruUPer9okIRWdE3T/+n7sPxsBIKWHyd2SOznkW2WaDvhST2EchT9k4eqk2SJHQh4e9pOnxe8SLv/Nhd5cTkyk1HAHK1JAFBKbE0O3KQ/dQiYPbM85jOusEPB6W8gF7codgmTgJJUtvPyoQboQG3/fLQGkT8XAUCtaRgDAK3Buo1dQK1Ba/ID27XaYfYXKc8yybjXp9aY7yUb0ES1AQlQ4ukJbyEjJYuZB2N98FRu2HR6X93TAoIUpT5jqFHgL+5RmpMeejEsaavvo3gtoPThpPdJDya1PLSyY2bgJJPqW5phPf+Wd0i9ZXLTfJfz9VyYe7KRHoFNWMEE9ZnJ3QQfoAHGLfA7J1U6hXDQrwNYQ1nq2Gckxb8NAFuVEUVAlgH7hBVkR2JtYVpUp4miFREmCQ78iA5YWjlJoUfIUmEI2Zrd53ATMn6dSsisQ66pQLJpXAoEtgExTSzYNmWk75nCe99xaaRJsmn6VVt5zRFdJBGp96AHjBd+Iu42gdj4CcWrL8TJItWr5NV7qRXoG8qacWCHYD7iPxyRMSAgxYiO1gYUVeVFKGZ8uqdxbXp77OjqREC6n2oNG54K4JUK7REZ2+9o98NN8/+ZmH/2eyJhT65ZyXXTEwgoP+QqvpIA1a9G8A0rey/Sgrov/mCj3T2V59x+AzNECUZVhiB+vKdKRPT49cWeSrmTfIpcFkIDSDXodCCHjhK3HVXBbqlegnVs00gUMrluta3S9JhkkpVFGmSjnIAPay24/aSYiKLyo6tjDxEKjWbdDQOMhOPIqLlHtsPLnrt3ULmmXWsv3rJUPZn1Ln8RdXEfeoXTzAiTB87a+QucabCA/oL/o6Mk/LB0hiXBsLFOIPHll467Od1MajyWBM/DNHGkUjHP4HUkOtNlW7P6f0fpbpmsBZvp0MkCoMsfkt/ErUqXS9XG/MoeQ2WLfpVGMWX8P01uPxFmMH+TurHELQO8ka4xl2v5tm8ly4YX1ycqBH2CWfmuL77JKKk2cKxwKss07ZR4JAwup9NG+NAKxPxcgKfJvK3F0+CqYI5cZT9GaGkAz7v5nEJuxbU+rZ3GhaiLKGF6j8/HfuczGP0Kr0l99sS77Og6zH9kONIgfnydigQLd3ZZozCPwiEMOZiKUuBAAAIW0GeyEURPDf/AAADAAB+wDNlXvngAKgivFpNhGAGYz0o6nAmGZVYH5jEbbAVyDM3qIHF+MTVswuw+WkMjAVYwUOLyPz8NSzynJnxTkB2W7mY5WnWUY2rOi34iSNnqn/mphX6h0AxtuzjRNnjuzmsWfC6/m/hwpQ5gBnFNb34oa3R2O5JXJeoBvFYrPaweRdwRqWfqjU9BY/t8ST+1zMIkKPHMFexjPp23A5bzAwYUZtAc5A/wNFoSUq0ALqTvU6Fvc7STYbRbW9AVhyjXvSZ2kWxqmxCYqdUvL6o3sQHZRey/7pku5gQIuB208XG4XYbXQX9BDbqorOTKjM+M2U/3ThvCuO2sqX9MIm/JZ//HNxqU/NXAx86jnyMSNTFVMEqxMnL/1XBhYwndBkfObCRg6sBsNpXq/x+OSBIuVfqcBq4hrBj9Q7bXk9Y/Nf9KMPmunqrEF5G1qM5rsDaJjexib7BfW9/cAF2zV7Bm4Cpe0eKYERShYpmBBHou9/vZxRsOZCKwf5do1n9v4JIISVMsmocfDMZxxpHvK9zZBN6R1FPLwst+6SriXq+HDSdcx6bKVJufVYnj6fFzlRUuZZnhQPHjZ6lggqEl1dsrRrEM0yOQQ/CHC3LILFdjLukVB4Pt7sz8RcCXY28Ztf2vXjU5O5iamLbWTgtpqFNxMAbdRz9mNee5aeEBho55kfDtGiQp05ts0C7TQy578LyCRkNLpxnVW2OIffSgyoy453vtF+LAMJq7INpq/hkDPSs3MzXVTtOGlM+QMZAIWk+jpLupxf+t1vZawAeDsFV7owt2eycXLXhVPYyHw/jII/qyhp/LpK98MEwrKTA0uRC53hwpqoiirIJxBpW1ir0wd3JfVCO3FIQHXZFYWLvYT/4L0fJ0F6/XKZjXgA1GgE4M2M6O9tnpynEHvo7BbabnnSW3d3dEhAfrF75MLvkmOg+3d197dRV2nN1uJM+c/QXYxjsMbUJ4hTKmUhvA1gVhDci3ndHRhedVI0bBi74KParKK+ROrJFrfYo8bEi1TGxB5EETAUfUrdI/3wg/Rbst1B61fQ5S4O466yAEDIWtfFLj0qpEGvY3QFPoVU59quwU106eDSY8d8G7SZckjj/XNFeCSwBHp1BulLUYaZxc+m/OF63wL54oGvhCycQjifswnylD+rZFWQWWxLJeCJFYkTJbDvvUt+fSjaC/mFXbfg8X38/K4IovBNbx9hi40caMIESDeMjU3kOxweeAPpKDBJmTbc/311KgCHWoyXRtLWC/OPdDzppTEBzkan96DF/FSRsdBaq6++anccIuUBlbtvJLlNlVF2tEuDbAGy6gfujAYncAZW2lPdxg0DTfZ9TXcX1D9F9zdvFTGfU0zg6O51gEvi7qX1kqbq1k2IRXMUeghBrUdtj0ypLUcB4IeFNnAauzDkRVfvFi5NMaI9M6AYYlbDjGz9hW+oOBHOt5ojDNHAo3J7PKZ/NlNlzp0smzFQTlYtoED6ygw/OEWqYOywrHeSwTbIVeLadPyucDthCdDFGNFKi1k8VZYmu84Tlm1flWzRz0OIt0iusZC+d3d63xzAgdSf58cNOiS8UkWXWAc+f5GwJLrkbgn4UG4KaPRYC8QluZW4rS02e5xBrMRClF53aURt1Q+sttHk7SVyQK7Alqh8MR0ClD8fmm/6dS0tDNUKsZ/KW0vJ8nPqeJz/PZLBzoVQ6qtXrjBhkSP5GCTjY0D9MESKYc7QMClRUBAwQF5InPK4uJKX2vPJiCAZtW8x/1W/qfuldJrlZRLo48jJDB59oGwrQsrNT+xu8WrDQkhAUgEk8BQ5ks/HfaiQZXmFVW6qpChGuMuHAvEnDVf20yRiv6GHnaTUR5oKlkzBdWjrg6x8gqIaQdpp+0jQqN2jkpc0Mx8dhkROik/MF0L+g6VJuLbVRc0kU6PGhOW40kL73A9vEldm3gjYVutCB67Egv+vbxSZlOBWbL+ScDggMeymJ+T+r5FHNFhTNlvXPIziybfIQ6YgrGMiSvyAbnnHWhf6dVV8w6vRBX2duEyUAZZXEsMGAnE5SWLagonYZTNHwTkr3vQIDNUOZuLTRtLPpByTBPL0Lkq/R/rgVcLnByZE5OypyS9pQyFH5dFUYVWdBVWXDM7Bau/Z9F1MQLXTCn+0mUNoblLh9wN96hkSzuuHcNRi5y2OYbOzGKaLaJNNP0I3dW//Xb2o/jJUwRfR9boLISXgxSiIqTm2WfbpXfK2noK2A7jjNG63yg/7j4Cfo4V4f5HGLKruoLKEHIwSxtB8m5tyh3q4P3mR7qVXC72AEphU+5l8fIcZFUjVrsMMl6R9S+HgkRXgMvRL9vWx0jL0tlaqy0eh84CnU9JOp6UtuXjQMAh1iKniRtDcIShh4RQNXgiMo/kP8dNDCAI8rgagR1bb63/ITTD9829dGc0PlirNM2/WAX70RnTjBrdEnq3qHXMqr0F7SMRj3KNbPHBGuuwKbZ46AKqcfTNsT8ctwy/wCyMfpq8++Gz3ftUjDSrsAELQ0vTpca+1pli9aJAuc/9Ho/BNOE5GgkdkZZwlzDHXJsY5zyhG5EF0MlKYMTm+TfbCAIlNwaq7yiYSyr3BJe4pyXUBR0ATUp+lHFHZCKuHXfcb3EqsFbmcHMH5oOZKS5/kXKbOyf2ns1PJAkRPiHVK0KwhJ7Z9qWwiLd3iI4QYCa/UeGQ9nnxM3/D4WBeCqdVVwnGuLM3WD/CVdHNNMBs96esWmeVTJW7z6dl6irpcmYpRoKVOJkQlt7YkfNtFGQKRAv0Xh8Zz3VZK0Wo73ihi3HhaE3xhcyPNYQyb8WySztBSCKA0pzzI9lY/aB55mzT2UCbzekAAABNsBnud0Qv8AAAMAAKyKa3wf0koVqoAiAG6vWhO3bygT1GI3k84NgNGXmvY3i/RB6HuKM86m5wK4BNlJ02J1gL4HzH7Kv7n88gNiVCYnXPjEddaitGNJQTZVG6VA5xywfBlSTUql/H7rAkm4tHdjMetC/VIrPqfgt1dFFGpmgG3M0gOZjVq44e2uzJJqBOyl0q7AxSlw9b+X9myX7tTHO66HpRIxUSURuvRw7WTqLwXAbJqgos/k9i8NGGOaoP1py7vRoNbTOUy3ngyNBod8pRtnocX8ZYskMKXB8PQetbOE8RL2UF/eVnChju1lt2pFaFKqlTQI9T3GqPitY+G4t5tCVvUyBVRcwb7IOCer9k1mE8G667yscsPPRU8VSDZUjRXhxrnHrZhZw+lZdE+korn8ZTemmAkfhvIZix9q0mA6PcND/Pve+FCopFj3ocyns/FROFU1LNhUx3tF4B5vhIO21VLS1NB9p8IUBCbykBA4T72ktR5AxDTy1hNebB6o1mdtWBHHrgzdxQJImWYXME+PxYQELtqAGUQyykAKavbuvzVYpdsQ5sW3yEkkZRjpMCQsGV7/e4TW5/iMBpKUCXuIjc/v19nSvUBDNgfW6OjYjtJgXEwiG84PoPXl6E3+VVIteu+IdtXkNuKq0IFXlm+oSam7bvfcplnS0oauCj3yGAM7G8ai+hbUYW/dB5gZfigQKtwSVnFHQUTvMP7fusrgxenlFNO9tozIH6GNTguxnBoa/ngk/vudMwkPNQu1XbQ7zNrX61+qzPbVB+DvCVikDo5BiG4EAeF+qtwjRdr1090lHx8KmQOtWcs6/xVWh7BjggR99/4VPsW3h+B2MttwBMasW/2tI8LxBfXqraOH3Ab1vafFVux9SUW/DljcB8OicZ73sLNANKlZAh+h8v2PKxmaYEHh0XsR0fyXHjQPMrAlbraFocl7cwn/ZUPJahc7cBeELNAHf07WILQnEwCyLV+hROp3XMGofEr0s+yfZKH5hH4QrvNafHIHiHHFKyiRflYsa8ZrDtdpiuxfm4WUkXttrfNQGTeVdwbLDEVw0huUiU3ufg8XABdYZ1ICUqdxHmN3JrPOxmxJVcwEoc3Ykee70bib1Ef4M0BOYUBfdkXVyWXJRVXLlf34t5xeVv7I5qpZFNC8TfkaRK2unT4Ih6uzpgPkyv5Yv8kQ4MsmrRCFbIsPjUm7hsSQtzftWeMOLB3EK47G9tooCcNkpwkx6fvS19F+Qv5lLZTfuNsBi/DmQES4QvebpeMnXf5q4ieOtYPG+HdXabS8/Swa1UmpJz+YA036q3jEawO56I85Z7zyHFW5hGJsuJdVW3JgVj2LiIXvMMZS6gwgor+J5yQI5NJNfR4ud53cwqoYq9OTYlVaPeQgUUYkCUutr1dXq2r3dxSScpzuLLNMF1CsGpF0qeN+EA9tHTAFOewz7zP1yVbbEG7m8QkfGwHqgvKcDVbMYb47X83iRS27+E7AagtA9a+ccgq1ccB4pnejUUFMUH/zXEx7b9TJhJgOOrNnfngMsDE0u0mtcyQweKS4D7CXJ3m5omHVV0RUxUk1r2WF7fVY3tPCCsgB0AO/l8VoSvkTDM6Tcw/0xhRh+6C6UxDeBzqusXeMXxY/6hh+xbp4Y5xWjpTObmACGmpOAAACuAGe6WpC/wAAAwAA2AX+uyAeBN132OgCLHpBe2UWRs0ahlnsEPKm577JY2Q3f0YynS4oexb7Ra2gxbXRRwOiFTAL592hz/dn3Q+mJEWrllYITZg88Cjl0xFTx9nHPlsnBELf1jHTqBOBEMcWeX0OG2Ji653JDbH9v54ymGeC1co+NmTP56d4z+JdJ0jzJq8M+Ou2nnzG9k3/q/fdg/SLjAV9dqCkatGxnS3zEru7bLKFS3oOSGmm8sQAGdA3fcje4yeaaSV1r2UUOdElpAWLrCqBAtlKP0rwJDq0HtdhnD6/7meEkNurGoS8ETnFJdK7qTIUF2/eD13LuywKUzAEZCfeg0GLqrvqWOj4q5/T/nc9PLF8NI6966GpjJpVJpn+t0BTAzcTT6ddoKPY7C2qCrrGJwpmdk3/6Os0OZCr+kdG9QcTN1yRenwDwoBlv92AmQBR95c/buBX5cfU6lfkfJvue86GwCb7zUMNL7VBe7i/9tRqDHIz9WA2T5MuHla2O/IYF6C+ELDwPT6JK3iYlbJ0PhoapT2dFGBcDYIFwXI3IRiwt57LYde1GadGljXNPqnSTjOiaNv+vlTJYzYXKWo67h6qTbVHRbHpnv56uia77qRxRr/OucIBhZHdEyqK+Q4u+/zrcIq5IGw1L90nWn9+/SrZfcp6BPbxSICnM3w0gHRj6x35W8UiNqfACkElxJRu4LHrj7MK8eF1pu6TAS0eze/Xq8jFPDuFlwXa82a3pcTbVR26z3UdrRkw5iJwx/OICWh+VRIe9Pmjv3IdqFIVWwogwU3dQf1AsgzIiez+vAe5mdrGgq9F19uta1VaGwD5ri4JIPvBhmpAN5p0BM6tiS7NfHIQp0uuzsXxrYYOfibn3ZY66myyjxowxr/UFcIpWeE4s9jOedWA8PyyXSw3K2mR7qAGVQAAC8tBmu5JqEFomUwId//+qZYAAAMAAJSxL5c/Lo1agBsXKoSzFe8e9EzzixzPPInY35/UbugtVzLQduBGhrkPKnFaJqS77tDl1xE6so/moL+P+JxPsJabUusFk3zqx9kBvQQAQTv5FVxH/JPn3u+E90zyYQPV5iAztU1+b7d4fVBv6jIHDyvy8qHFdydmW7IHOl+4JLbRjyaj7+LSSe0ghHrJkOvpNtwiHZihs7QrggQ6DkBgOB1CPD/SGxKwMFA2maMWg60TRLd6gbzXHQjXgkUEHziQMZjFoLy9s25Kzn1SCmnOJBBEpl8UrA7SBFtTElthXIuHeQZZ3adam/+0dCR1FarpMz6EtUDhCAVHnmrfP8sGE1hVsgwq35kStEbifKI2GP5iGUfQQf7NyeHE0FBvIdkgJ9LRQO+B4bFakJUMM0IYBXvS3SRlf9jXCnENG3TTIpMBfBQnOiUd4MBC703CIEmUvdHJbqvFX7M2zLCzeS9+jDF/uPMhFlwkytBJxhkZTHLvJx3ljC8Hw9GKjEjsCusyvV1gzHiAZaXiJg+7iR4JklsssXW+qFJH0lK/wOy31OZ+PFFOO5X2703tWHKkkBlQeSAkXYJQm9UUHk83B15g2WgEG2bTtc/b0NFQxD8PZnn6pfqdvQCXG/mBZfmloYxUTJ62FDj4ycg7XzKZ8CfmpiykSg4wTHhBU5HhuDJYwSZTI1oK8O/80QJPK89S84/yGW1oy2wroKni8YAYQAMWJxAScoyl2BWGDIYr6ktxDy3j7kVexSMhT4pXTr8vcIHXLW3ATczb2F+jiZD5khrKJBzkgyCHPq7A2125D+pywKCA7MBQKjs2h/wVIVw/q0Wq8k86nRqoX1SNxrzQmeItIby3a90eAent87kODvyhneQDeJ6AMXCI3H9jW4MsMaD5AP6k0d8FDJ7BA2XJKFRl9n3Cxw9zOthsDacBjJV1KtsejR4yAxUKR+VKxTNlvH2wNpHfvZexQg0z5cH78D5d4bOiecN85FXwHlal/jk9TMHYZ73AQFThZQw4RlW+gkunKk2Ljxap+csZwJggKOnqFU8WCiUKYzYFwEj/Jt7yEAkAygFAxzUwWo9Fjjjc98KRtfI6xPRqnFQJcxmIKnZC/09w7HLVEuwmRbLiNipm+2dsnWyYhJCQSMJOEu6obIZQ83DfgPsav/QWxR4VFSkEXSXlYa+4onVRBJSMVOuQa2ywG80gNV6mc3f4f9avzEbvRPaJnxr3M6oUuWr/AdPMZJ+QgcfypGp02m9R0piJWcRL8kiZTBn94934dKSZbrnL9SrInnu+0MHtQWcrtlCEaKCgtlY14Dj7rpMUdrYVpGOQZ/1/GEuowlbBwNLYYDGNaIp3R/neZvYQ9RrU4SgFQso7dxh0lQTY7XeLCtM38ROreXwofa016WJqT1d1JGFzKG85U2V+CqDEV1pXnKjldsMxRiquEfCbKN10huEggltMKCBuO2sNIYqepiWpclF6iLyLauINnpQzL008k/wtnRvMdjQ/o/zq45MqHlH/rgC9/ExxCQ9KELuiy0Sf6DLMahYBxRhmwp/I4G83E17Om+hOAK62E5VruRKsE1u1x99GBZzFQ3LlMOPboxcc4g74UbjTdqMxCmeRuZmuRd4AcWR3cdIacXa2/OC/AVeqLHZmdRTZ07uQRGHHoQC+Y9Iy+IMfC6S6+bRSrp6T+1zXsGaHRPpyKZ+tgS9zs2FmP5QOb5OhffnX7+iUBYkCJDOzvYTzYSttxJ3gYiyLejbYKESuoOeJcdGxK5OlFD1nGvrJFTf3+QinfEMIYBRuVyUmpCL0LJbvGv2ZWkRtlplrYuvak14XgA+E+9LtmwkuN8KM32vrh2zpgwq/2hMkbHl+Sh1S85ohEdbs1OQCzqJr3YZ8OriZstQnXWnjoiwOKK7Q7jKPk5/onOCCACHCj7Z+M5AVApJhCUfmM3sb5Y+gpB5scftHF/vyL3nhFlCt+gc73CyUEJ60SUyw0DTym2QmWbsyS3pQIT+lo5xJL9LQEr3xkB1xaycyDFAoKaP4LWhJH1SpjWdig28vYKGr/Sh6A+CW62Pbh7tgVr3fmnF6Ki7D6u5k4OF8P2JornbvmH+zzTNZpGolcT7arO4nvjakxK6mcVjcX90GRrDHmOcMnXGz3/VdzYPzGKB79dO/E1gj611KACn539lGIRWemaoGKLuPZXGrJNp0pV2sqYOUxBnxkl0ge8RGgux536YLxBoFZ14/La2ITTKwdTX6rJEZgfxZziltvAoxapcazsA7ZLTCo3t4YOsVNL+ZXAfTm9q3Q28WOFE+wX/xCd/YC0WHQNa5taHq7rN000Op8WrL0aYSM4VOv0y+6SCni5MaFYhoNZD94LE5Xtn+WfsiwE5U9FPsW7VWuo6KJQ8f1xJN6vAMYd2U1u+Nyr5PRvWo0Jim0xdflRryJYjMPb/ru+RXVjMGPmDIKEJr9NVCNBq4SAhOWZERNOAlH2Z7dE8GP1SAVltWis8It7GMpCG14Waqvop8eYhqUF5IBHqPydeLYOYfEIk1bmkYLeRx2zNV7z5IdWeWm3koWQ2zMrwWEDC4LVCBBwSZzeL8JY20bkvdHzeERVBQieUd7mlap9Xb2k9Rpr93QtGhryj1UTTDrodL6rwk8b4y5l9hnB5ATP8bcMYt/4Y/mLNEXw8Y4hPBadtFSsT8wHKVp4sVVxOmezFw8jpV4di6IE1hb8FRrHVu5IC3bFAl8b8cG32Gp4rcxb8u95XL7AThNnPddddr2Nj16g3YMOhk02xO2T1T+NijVI3XSjZAVox0bxva3g7vX7Dbe1YYxdQpTN2lrfPU8R6drBf5rEZxa/Nt/y/ZtVLqtKejF8jPoZyz4OqbiqBKcqkyYEsw1Z3CAC0K81IOiJZOZ1/N11UGKX4e03iTjwCDs3PzWJL/0EjzDRgBVkqAuQq4AheUJbzZ1V/GBPMoFjBuUp7+0Q/UgYackyCc6lA4N420/H2F8gNeF3lBPCEIm1IMSiBDeGhTXeOG6udCgtDhTKXVyK5fgZwVTt7lFiCPxYwMi8B5ZzORPXuH8K8jzG6n8MTffnK6louvY3jeFeDLlthZXv+fNuamqLMhdc+M+Omej/0S/CyXNlOZELss+zryrN3XJxf/l9MJxf3cvdVGWvtM0sJyhyk8+oSPT+PO3I5MDXKG5q2fDHanRu1JwLY8aIoBYNogWf3kT60u9pv/B1I2nKTmjmW4tY0tFpa1ygvOxtwzvcpN/p8FFfQvUy0d25ETh6+UASJ17sEXlnBGDYxCAZ884FAINF6FNZmnr6OnUuHhVLiaWb38jAS1OfqcgKWz8IJ5EovFlZD+092l0jAAhDEzvholU40XAasvZm7l6Tmw2EMBHHuDCfQERiMx7Lykch77U7GySE5yqEAhsQxwzEivpqAJCgIJAVxS0EMLiilcEpuV/F9wxynxarGfD8QjOsYScS2Y73OigQG3iSvRiZvcZNHmKq+eGB48cAk9cV2sUfp1M5At662je1sp5Ijofh5sIlRw32fgXnaNDrly5hkLni1sqYjHQ2NsLgy+YWXK+lTtTvPLdz6/Cx/b9VbyrXZFIt9Akf5tNYLANiuQT2gPQeS3ktPOCf3j1x9Ma7Gijz6IA1KjpNRmdlcnZ0LlEuTp7U5aPYHejO1K9WQvMmNr2iQ0vbcUeU2BWm6ByeajlAu9blQ3F97Yfi98G94hhZRFdthrXlJpSjPLmNwoD8xznoTjzNfqeMMG6WE5rFCUdJVLWY0xqZPl0qBA2fMFCtvZh1W+bLgPqW8bqLgyv7vBTHWIrm+Aq4aD4OMrgIDKk77kbkVTkyWtvokrsk1gMLV8bLX4XuEx4CQpU5jRJcnZxoIrdtNrx74nJOzHECushwmxzsvhZbM+tPt/K0VwC/56C4//0NDNIDNt13+6AosiBW+Z5YlO3XR4L4b/Pzphnwj40s22Z4VgSJHKl3geRhyYXrr3AbyS5KmiWRUnNzfy1va2MX5GMLnXWkWMdN0pEQ/TAAAFF0GfDEURLDf/AAADAABkfN9XjHvEAVEvtd/GNOkrZpJcT8tXGM3Ywlv4bgiwBjQPkyyLGD8KFj/eKm2j6imdlFES4mB1WHGPdbmITTWWMiX9sYjU9ie2hF3LdE99a/DcQPvG95ewJ3EP056/tVcATfKGZo5QZoUa5yzCaKIXzdcWiBlggKN4/GrdhcnP4HdgT4P7qbH3pM8jz5726u03hdEUd9/JOJBxioUJdgN7C3wuRAZNbKa1z02P7pPdwMLbpN/vWR5wVaJKg7o8cRVHESDDoPnb6vXx7epmlVIwddni/dcqLzw8ANi5CKOYZXMxX/FPKKZJTlEF9v17FYY95FVzsA/JbI8lJhVyPexmKFGqVcY+aapBCxoUfxnFmD42zCVItJsrrT1mOmmmxLYFMFiTLvLG5zpC8NydKUyNaPDKbQrhVWV3JYyO+ptRGhwiBV6YSkJR7TJFk0CEV/eBUEkL9xnDbojoyerweUC+KPcKFujrsebn89PvlT8GUcVtIDrKl6fFjZ2WJWUA9w70KiwL6R3Toz9NNKxaS/cl0y39TMH+Kx0vnz9tiL3dRx1Mg9cgj5K3JyT1fQjMbz4m7q+PDt05fhll4AhBEpfXgZSwLa1fgE40/lvDluDMXmk/yTSRpAhkFVSxXlzN3jBuVR2fcnZf71mqlncQUiVCN4IMdwtM8v/7pv2o1YZWYNlaM7C09V7FnOpZ2Rh6/MtJ77TPa/2xzE+G7XWJK/FC7bMrYEGOo/c04YLDGvgMKL3/D+2wG2KsPHaNhcQQVwM0btN/bqyUZmhFemWEIbT8TYPbgsZw6QoUd7zNtjNuZWLY0DvL7te6Taoxkn48qoDbehuqPwni9iy1JO0oj2/8SYISG9P1I+CBOMU0nkexcOR4Z6LHsUl83j5yYuXcHjunNn4/I9Ndt/zrHKzt+K6ueQJcPd0nfaks9nNJ6ZVk++vj/gGx/9NueKGEMiJWWQZfMeJobdKgKb5sOqyGpdwUKBXf5YUmhmIe1PwvNZgYwDw+Abk6NFoHnHRCB+JQuWzM+miMAyxVH71jMVdpkcgzKP8v0lI0Sdqf+I8Xw9Af1gHDyXHms213FBmHa90uqrxHrtJjTNPSphsOHvtGArlRaeiumgf4ejalUUfHNljFBKTkSjvvlJ/exgNOWe5uglMetzgfVpWYYpJJRJI0Ya3+Yjbjc2gytb+ngkZFspLzwIluwk/wiD5M/KzIbFqNwQrcjKAbJMcRMaOGHEY4ExAgsNxOKxuvCaPwgASBFqFzwZR8HXPEne/qcZbr3MNNZTTW5/ZD4ZRcMDffjX4ApbQCALikjg+vnCykRkRcFLSiuSZs1XTV4Km7sopfDOjo3zB3W52tl5gnrt7BPaJuwLgvQYLkxRIDTnZ/GOHwCqphoryUSrYOCDmnovpIgPTzx28troVzU2VwI8WHd0GDZ3cnumhM8402RHZNuRwy8TRSvMT/dJoYrIWOxHo+I172zQPtwDMxafR5nP7HY72bhvkYPekXMytSx4ya0fNUPvsRCKXktio7jQ7Wy2YQunFhSi2PB8N7PvBhBSrLJeE/ff2ohZUFkAXrRTN79bscdRsof2hI/WWIscLqETz/oGCmzdPdppxzrawAxo9c0wztPNYw1Xh5Pu5dfHUCkrUm2K54UdR0/Risziq+gV8MnvdH6tjXT6EUvGY5TdF+PRmJy1VubIpl8ytuFBR8SuPiPFDMiY7M1QbZz+SgCpgAAAINAZ8rdEL/AAADAACspAj3A/58r/G9pvvkfehXCrUJo8MpghjgARnQBvRDHsLmtrgr29W2VBC4Ze14t2+GsobPuCeql/6v4u1iZVD0KZOiCjhHFWQCSprcu66fObRj2WYZHlbGd60ZLLGMDxyZdJAXJxcG8HfD9VKJYFbATR22YC4ddAYj9KAersG8+Uxq4eUg2YduNePh8OWOgcm59RRlZbgTcf5eR1HN6/a7XJLDPCduck1ajoNioc4kNtHUndhUpEvaPk+A2AaCQl6KLg7S5byPzpVe6TiHvC71pCg9F3jaOV9O53FX4Mgr8Sh6DcxsvLPgm93VfZSX0KIJEZVxbOPGb8TF95v69l83vk3Ey4I8C1Bi9yHKKYiXjw5j4Tx/z+oTu8jVNLKn+s9/5wt4Jn7qpZ3hzJUsnD9rJdsDas9DWfsRI4xNljBG+Q74CduttIhTJdMRJQqH0Hyi324hnNwlvrbCRAi1D9QUaXJakWFXp/amvEpYx41JQBkO76RCwOTDDe5DYXP4FVlUISmzedHWAo8aNxPx2A0nkxnoh7dSHvp4DAJpGlmjKsARKLNs7yPEXaTx8NSocYIZYM6IUNXvrGnposw26dVwzW12/7bxtBDZE8DLc2r8Um3phTh48Fumei7/lO7b5wc1F0BbnKuxkIFBFo9YdsVencQAdcSf/KlRYTEBah7QAEXBAAACnQGfLWpC/wAAAwAAgs7A59D5ng/TG/7AABEduNC/sV9vhQ3elMoAWIkRlIV1WhOjVfFQ9cVCXVoWqD3wzPXNKikRAj+jP3luJ+leGdfCBnuKt/kU2brpzMyOrbmEG8ZiQvniEk52YU2mZlkWa4f6j1mVFfFYmrDIhW0mCrWNzuLGUPC4XVSbHEBNQVE0ef/3yYDxMas3TzWuIhGMiOZ6fgh05LjBvFkV9Ivi64j1LpmbC1c8D03k3OSIhnrHsHJAimk/dCLpjK54tWrdL3kLsF7g2/cV0/+OoG7QhLoMA7rkzDAs2v2cprGes00vpQXb8p3VVHcFFu/U4OpTIia+7/YQ2xhruoTgd4ARa9rvuHfgsLbGQwv2SZKS9OakbYCAauk+3URt3hLDzsX/E6FZ+yf147yybzE6SnW1Krwx6DWWj1XNQ5R0TSZFw8wqoUddfSI0WoI7ZLgS8BXVu48dBdhjlPQsrugSH6N6SaIW/7PxHLFcKq94O0f4bno/Mox/9pNPVJyKCIHBzVekU81aU9qpboeXND/vR5qgcIkmm/3P6Kp3Zz0/mZZoMHlSwBA6BFHGtZI76JrHkKZIK0R+0Sf5pOTtxfny4EvfIczIPrLTLIgkGVkhIKmI2usFdYTOsZKetj0u5VhlBP9EICdKzCRzkxd2Pzaw6+FqUIJisG6mezqMzykQ1ceMRrTryurBO7+pmkB/jBo5doEE+YVSi038dNEndhWnhzj9WgjHAdRisxwKm0qB3qdXAHoARV0M40zVEwN0Hjq1Ih62HzKk+0pFbkPIgrbnrpwX4XBkcpYlmcRhYrXX/aLJxT0ycdwz7962CxnvEP7dAY85gMskMfCmEppaT8+VL+bLGNToVnNpxv5sSXrm+Y9YXMAB6QAADaBBmzBJqEFsmUwUTDf//qeEAAADAAElL84gBnHKl0x2jtAe3+Igy7rRlRlfkB9RlcK85CI82fkYGBMbtR57opQ7zq8Yx+xWtLh6DIyhrTwDKGWsyx4lqQOb68efNtGUTvYSNJwKh0LW65oOQnMinoNiO7DyY1bw52WMrk5yFCk+6VA1cMN8cD5IjT4Z2Aad65OL8LHk1mTym+atFx4oKZR4Hq6vwqyDH4ShhUnQF8GKbnGXmXeyb4Lk98JChzBmbK9Zgw1kqdTtoHEFQPykR4jR3o2f5R4OcCTuD3tpLUFQIwlOWt8ujKLPlZyIV4X5W9CiCOAhZKfMmhLYVrda7m6loZGijuJU0G/jvXo1xQ66Nbd3fFrLp0HI6zNCXAehz3coQFbR3XzqtE5Z2ZH2NWfot68Sb1GhCbTAt/IyfhS9nfiJ8+3xvXNII2OPi7KHjejq3iU9barSwYAZCkjA6KaRqVosTQ4OsRCg40j57G3GQoMBu8mSzMdj08Q4iK2TL0h73Vhv0CXlqz+FUlLMeYdsgJKo2/OupGBLKNsBh8A9AT24kcKepoCLQieIeTGRN3KQZliYRUNyUtguAK9OaUvKB6N7e5XVXPeQjCxltw83A1242RZVEAWxdLm2pji9wbOWSQBfDoN0feL3RtP8K4etQ1ry7J/kqAXyRoLknllJqOnShIj4a9goQpOKfD0aqFdMYAGzzw+TZIlqEDV78J3Ew5pm3sAgPuk5YukjLiSsIeKifnWJXPDPVzKmdLtJbDsQPqaB9xerizYZPhYfe2Ae2pRntf58RN2U3O0x1jIhQTGIEdHX4AAPo6uGFuQUW76PbB0vitDLZEu2HrpIyD1dMjXZQuTIMy7v0+hYyy+5tON87Nwn0KY+ynwLjos8AAIsI8bL9Xqch6k5ehiQgetYAkAzFtVaoFIHFV9aJDhwUTcMXOzVuRQbriKDahHYFiZV+6IrNxYmI82LmcIn7EgMs90MktEO2Q1TbEgDywETxv25BaURjQrjAU/VxMbHyak9lYVT7kqOkw02FhH9dCO3bGby15p9zDErQkdKL9rWT3R+Ec6qIAhFLVBx5bBB2yZ6zGlJQ/rJRyrFHV6HT41IIbKacELQeFc28Qjq4LCGc04k8XkzlS2EyMZZlpLMCUnPJkZVzg4QYbVHAsw9k/bI+zS6JoflZuiZHofau5yqhr+PKOqXByfE9LxRHV34hxlrbwzBGHc36pXhMILr1Sv5buQDXm5wV8PsKD+kxzJmtjSB1yzDdm22s4s9/jYSvWSh4uEgvgqKcSL+aM4bdypR0Xm6PRZUSRdVlHi0zCmisDagLUC8NPuMCGVc41dRX0fKwP+QQt0MZtSeiMzoqegNaQgOG8YxrJqHhjNbUteDQUIWZ9gs5XmQzbl/JjzcYs3zx+CLZYDIt6iOROEzJU4vHhxCngiNIy0NIfLftjvyyd81Ubmfw9cY/YF9ZoNWQzi2fjZY8SJJzcBlQVo3KLbDxuGtwDbgevAZkZvufP5aTNG84+VMGH7/dYlfhw67Ng7x2AxygcEObZVKHvuRPlcoOR2ZRrkdx9NoHkbNqMWu4oID9DIra01/MjxiBLDzK7EtIBM2a22a6hfiF/7/dr9NTLZkHIqxB8fuIi/XTPpEIRE2mABMk8mZ9gRPsFAir+Q2gYff3PnKvy7S6986GnjsScLdDm/YDE5o7SJoGnmqWy6KNdzcaSoYkDaql7i7vTX6yhtjfO5Sf9EjeF6dG5eXAC4sVZDft534gG+yZgoVpNRaLJIwNDKC1FqudPdSo5xi+P5aPx1IJNKeQ2T4YrjPZRgImpjl2PuV2MlibDk/mrlY0LyiVNnTmWbFc7JzIrqzO5zCiMHoLGNWITpbFjs9EtoTAkEjtycP0iKfkwYEpJkAA9Tr8CXcUqXca8za55C4Z653NKJA9PHjM3sa1uLgb7516mydzWzSsS7Ds4jKo9+oKIENPImjZQkvxquZYFCoH8L63jWqzk0KV6fmzbHVKjXm9rObj7wCxhmDkQOpLV4dymiRvb8yxIym3SUqBU6FjdEnC9n9vLdbEwLSLbd/fDu0chbuKw24oC6zvBs6mW4lrRjKsTQYzAFY3ovHPptTmD+nYZz+Uswc21RXlDnOGCUdlwtoyFB7hMTOb/zsnlvw8g8Ni6j+zBp32gz8Vm6e3eGWNrJP91RGKZR7Rl4MM321H1RQdSyx3spECkPclTPtxN59Gkt+HASwv5VKawijEkZXNeOmPLKStfbbgGE8nozkZWi+312pHtDTFLYGN/KJBMOZ1v6nlhGfFnshGeMc9ETk8kLJJgpKrza204tQLDz+rj0jIVVEXY+se4imtS05yHM5Qk5fTqi3sGULn6VOnzXA7yOL+lLvxls2ug9Br0Z5Ip6KX2drZcO78Z90yhQZfI3RXtcq2tlqJTHCfdgFav52mEw/KVPTgGocLVKYfHOAZzXEwenre9H0xA7R0uW1th6PIScOyd69AJ6JVX+cRqa8Le29qVWoJcka4IpBe/zMmJ0EQptWABxGDSrqQV2hEQhgSjd4ipgjYPNzLdTvSB/yNK8m7r0e0eQe1aN6CInMPPMxf2Kcsbm5iWTioUbauvabPtuVL3vcRW63T2cpMxwd+HIzR3el9ronO/dmPRDYSd57A5OCah4w4ZZ7puDEpi1BcLzoogjxkUFoZWffVLxIT4PfpAW3loFUlIej9aNJuXKi6cEr4fyBpz9zkkSN70QBkiWWgKdif7KZsc0qj3TJ8yjzRD06ADrae8BT6UksRRrdOoyhRP7LUyI7FG4EaGXIF2fnyiusMad/syoNTgXaQZeH7f1hLF91P7cx6w40WUtbvL5vXSE0ctFxYwTiGZjhixbduwrBhbFqOnPzD3QHq0VbxkVtFmacDlqZKnU0CM3XjaeRCdh3W0l0XrGlGYOPw+K3s1hjz76PlcP2ytK0hsrngJNwXLmCCeyNIr7fuVuog8XlIqG5tIq0CtSeZFo4N8o2gI6qmHCt2ZXfRz3X5UUJVuvzGHVQ/y7hzcxJbh8C+DLgjX2tYEnJfiq5D4WNDs/bodrVRUSFK+MSEZUL4K4KSe7yqbt5BmVUkL5gf+TaN82zaOhiiL1WdfaQ6hbwucXVfROAMwCqTZDAbqq+BZnD5mSgNugV0tDOOBUu5FGxrX02ftMkurjdxI3V1zpfudAlY76jkcu2b586sirZiC66BoyNVjlTHdz6WLqnGir1MLv4NIYHseVFMriAsdDHeHk0sGwbyHrodUHSoRx5CRR9hNmGUJGptXPtvk0OkZrpYGR7Tn4/OHjXX5zY4CxynFvWcmQVZywUfChJ3fA2cCMkDPFxRSt7jtQVmezcR3z8XZzOdQYAKss9j57/ihQ9oYt6LYmujTotqNRUYZGR/rHq2Y6bNenLqUUWXOfRkyBNAtVFuamQGcg/tnl7ArtW/9I9PZKoPSUekcNga43cAjxAGuqQjDBdUkbrQQo4n3kmcnch6dYhzFFW7XqZIRYOP/0b9MR1SEJkX7e+p33A75MzGyQNjNEzNVoMq14Jebpw1MDswpS2aZaBbGp/5p3mj4D1ATqsm7i+dUqArD/8to2fLzetxilUI+6mzvidJPtbSHc2NwEr4ljoq3OMZFGCsc3PnVyHULb2JugpWGfEwtyaEbSp0hZfZDz39KG1jCRPgl9mzlIn9nbY1ObzS7RNuKvRsvgMe3+5IQmqRo4nsZmoCdg3KmoSsxVCg+16k4yL9nYba9rBCvJDzJ6G6Avkx6z71EgpO+VaTFvM8y5vU6Bo/KXgI443BluleHxahHCkM+vtNbq+hs9jKzMpwkCRO2NqgMasFk59S5+cKTJj10oYNcwqfEIJwjTFeVo8A3FgBU88/M32BooUF9Bx58FBK04K+pro3aKg76dWSk/wklJd8hDCyzLlgfJyA5BH4Bv5eAJwnCz20UDInuvN2p4WflenXQnVf/KzPLZzDBci4T+8+9NXRx8rb3bfsCthj6mWK+FeDes+JEyCrfG3wvk2p+09h96Dq2rHrYAlJ+yWCZfI/lpQ9PRTVNREksLr9mX4zF+XBmyU5GCyyWKTA56x6yvNy8xA/0ntFYaPP4CaWfgLyB6YFgHUp/XMUCJ88AC7BNGmlY6ZzfUDElrA98vY0bMA5zNYQAPt/Ms9A4Z3GPUlwEO4V0s+6zw9GNvquw3pOJbYvue8YhHqD9AWIUTarKlw8tEiM4VMEl2qGcVRWUeq1Yt/HhhCvTPxBhRrHtlEProWl47abdpU+R9kNKhykAOemYMDv2ECrxGkPodBWqIE0KTd/gh8jc2yK76+II60dQFBxWUj3fjIxnCDXf7h+5uJrSk3qJxWuR59iuAChORUDgS7q/mwR/+qKyO/ItOO8RmRO01EvBPBnLY5eFB/lqatyVhD7qopDoeWreIrzN5kBRynzWQM3YducUr4REJ04TGcp+D7WejySgbKSeZ0bHbREbYWVnsWyGsBiXoKLInU7f228jibeiuH83/YRhqo6lqRv8ysTEiS1sDldsGICOgtS3JYVP0miQnaaPuBsLh3vgsirlQhwKTQpys7ijjoZ2OYZJ5RX0IfWbDl7aGsNIiaCFZWSVtYuMGwMohRJAsdYs+eH1aBOVaiIO0F4omIGAAjMn/cH8MfKwAABR4Bn09qQv8AAAMAAKxyjXzl9QA1dHc9UZ7eH/CZco1Voj6uwj9zhkacUx+vlR8Lt5EH4FgUJG31SXJ6cgYRke/Rm/aVkNV4qXmV0IYyw7i4xSqrxcYS1Y8jmE67VIKFVmnTgZGuKSfgQGQYPO5qqW8EFotpXZk//+3oigyZ19DG6lxtynVVSsCRwlBLJPi91RLPUslgM6nFbdBZzjnwfDbp8JCzJCZZ6TUkPzCfznXCqBjH3IhHS9Q6Mx7v0poWQiVluoy65rsoddSPLAlAQjuwQrgkCE2btyPp1f+Nqe8Dl7QEdPTH/SW887VBOX83Z8VE/U77ULZKvXRqVuHWQEHOHpwAkt+UQId+ZCiu/xFvPCEM8NVIclMyzG2k0Yia0Z6V92YyLsVz4z+0CqNd/hVeI8KkqX7stDqYp0wczKiDvHSknDLuxSyTGGVgPw8EiIM64J+X0rpwIn/M01SqaEkqcJJeSZ0ETPQnn+aG2qsnBUJ1lhLTo5A965G4w0bUVeRy8WL1BT83Uu783myiFKeX4vsrZTL3qIr0LhxYcXwMalta5zXF3COx10Q3MOz9+20U1tckbNcUUz5DRZRGzRt28JWYTdOynTW82u4OjELV8v4wVZMNhDuwTdO1MLOVNArQgEmp0UmoiAxPJtP/3c8eQefWsuwxJbH3BtR8L1j3kw6FMdXA69W6+LdwDK0dOG3VeEypd6g/NmTnkpDYbEYf3t+jcMgyd2CMWj6N2/5A2MTsFcrn7gasKkyW1Umskyw/KhOpG4Eq8+5cRLiJ2+AxtMkD/NbSx7jprzQ1WQrXOGy9V2oSht8bG03DrZW0syoEQ99iXjFtaOvJGJovXcOc3EViPA4odLAZzmwkDivRVr23DuKsSAX3M96HfRCzVUH4Sht9yPiYSZHrPAFT6o87VgYQjOI5M/LNH42U2isF9IhXIM1fTjyXT5f6rEs/e2TzxEi8d5g28mHJ2tPlIQXf+/tzWRk9jsxkXInqMr1sdpj2k1cUj2M26M2tybtuW4IuxpGJMsDmSsOgJivsEhnQ0WTRXjGnDohInArZyDnAU9CpPB1XpcrrucB26v9uNpyBTboEPE53MZOsPWYdluDkOi0ht41ebaGVbhWuF9hINwBI9QW/IBL2L27eW/cH1s3OzLJpEipUNVM9d/nS2iELxTy1pTXgO7qKCP04Z5lFGIYXuUMa1uM5ZxHS1NYcs0kVsfLW3KHk2u2D20eYbT+4SOmTIer2HTab5IxbXgSe0ON7hH0KWbpQt8yfeNaq+fHq6tvkhuBZu/dFuQ6Tm1y3qd+yDdjNKd19FdUvOAa8wyd/dWL1Vy5jahXJAc9ZJTkZjwG+bEezZ1gDu5m8jPUyPIjDfKMcNONUHhosHmH7V5sW5Opxr3G3/NrsnOrOLn/4Kkp5jGmGByO/ri2t6Mg567nSZ9GYJqVTWbe38+0AUjcf4ZLF5TES5X+2N7PmU4sYPcrkYENQDY5bUV0GngvZzBNfSGwckkUylfuOvG733OaDr30VpUNSje6JVsaThqD4CzEAHHPlk1dGRqGIqeoxaM60sPRkhktIFdrePm/3gQtTWHWghL+9xCNtMAMJC9gf/hmT2g2l/QZPwprxVOjDI3slu9uDxl+48y+zftZO4XYzkiMkWwY1WsQseX+U7VpI0/CGLdwf8XH2YBF2kzqHllUSCLTXCIAMlrDCsVGJ4Tc7PCpojTI1B63upduaGCwphFOQhqk9rK8+7AmFtAAAB1JBm1JJ4QpSZTBSwv/+jLAAAAMABW6xUhFr74Ec/tuwSvxkAUfR6gWt7Vzst3JPBoP9kDDFGAiGETGeVEMHSukBqv+wwrKyMnAj1EbokAXtQfE1hVnYU0ml/n/I/8+fq0BstsoKziclWFOwF5l9c1eP3cWy8wXe6yIM8E2l8D62CvGjcKj9i5KvZu5xedL+FjDMUAcXzE5A4nKymeUp5WQ3Eya4GA53SCP5qcen9EtiQ/aL/PW8vZJU/4sWvBZAsaXbUqJWpHlo9LJ7riKQVJpSpR+UJnHNlvYv/64yds5JnnMXuSMn0+QGDUPeTRnE7v/b2OriO7UjwkgRDKGlXrUhh+wJmcWKIqe9n+eq3BVi6KTFjecGgrDxm+R1p4PYOwojNMDtyZJJjNbuaCYitvQr9ePzPPzhMx9W+8R8iYJ7G4YHcMdZV32/zA/qHy+/UaozRmtGpKpozzmfuLE4+bQf7jgjKqESSjaaLMYViAW2nSqVjf8PcOlxVzqBnCkX49esGjOxGHCUgOT+q2Gw3BVgtfah2rTwycL5T9CYV8jthj6jT98oTXMJjL97O+2AfULBVnodhwf1CgBeNc27lT7gg4pSUukZBZ3CLAzmAP7kqwHajZArsYivcG+Fkxa09itWSpEejlT1qMq8pjXsxzdpgxEEzgVkL0qolN/Kbng+DZ4U0YRtUvwtctjY8Xgz4a/Uv7bo9LvYBtsre2g/p8tjdWN0ytsTWpilb+11XbVsnjsQQg39cgUrremEkbngL7ePvYCtywqQmEkipoPXxHf7UpKfg4x/nqYUE9dr11I9vdsP4GMPyb0OOc9I9Ou9fc0YrIi6wuXWiWI0CBP/qU7VuJYBnMV2rd0IZD/iEQudDyiwjgLj4VcEXbfmY31Wa5bmXF3SOAbnJDVsLDO5jJqB/Q69jiONeHo0nYm1ro8GKgbSqiPNk5lxhj11Az9jBDRLrkNGY2aTSHE/BkCNQBqT+VQia9mpyQBqrukGMwwv+okYc/SDuf32Dr7Slysg7kCKmiuU4Lh6WTcVaZo7KQ8tPM9ZouW6OyuB1V6V9NabAr2PacjKaLYSl0NMbXJlaVRIw5zyF18cDOdinz98bJh+srl3TKTWvieWqAbapHrYizXRi27+ACw8tTN5l4oo9+zvMI1fBy0DYJueP5aPhyHKnl58Noh0RmSt+16RozXsi9l5RFSzyoH7yT6sz/4hiU+fkCh4We5j2TTB8yh7dFLK5x4XRb33sg+lwUVtNygQ9j79y6C2vyFiTicjDoIxwN7GbUlkeoS+Cp1pOqLDKCrBOcqTboSgdjvS481ceA+lPhmvyq8Khww8J3hoEZxSgdKk88OIa7HLTgWD/TVuOgeq57lQYD7NcO/+F3hUubZX+Srdy/RdmPRHr0NGlH0iq27kV+Mu/0qsnZeVi6aVmSvUoaASoE377giYQn/VH6Xtt7hR9TBjDSKORN/n1HI5G1o57WmqFjlo6o7/xKWz5SgxfaxB8Izk+YxcEyJsOeL+naFhIIg+2S11Vl6XNO2K7DGqxEcr78NWFO3I0GJ0QC3Yep1rkhmIs/0oHLoInWbXe/thwqU/f03cdCpWIexQNJ7SSx4srL6h6IcwS6BMv3XEC0T9JcI0ZX6+GLQ+gga1XAPTwq6yUxqwN6gz+FSjksDneee0RcwTYHfawQ4LSbwUdxIkaUqS7xVr3swKkVNr1fsS2E5ybJJo3hKI1FWsEWr41wsdDNSnyCDvSDIfGbQDoVgELk6UkgHxv6vADnP8rgKI0Uj+uxvIp/TZGIWrS7ckyCCAWMOvj4KP2+efVzQCZMYBezHY8CPI+D0Ws8hR5apUIN8pSJJyecLR6UkL+wLTo/Dcc/zFvJ64h2iFRCr9DaSwBGfbN1FCo3/QEIvqwJxRBn7iugsZ3imISaucNIY9vtrTJBORF5IiWHsjYkMUIClbSqk9JC+RxtzQxZIIIoTuJZ8trFm/bfge7ZhQTUaQW8cNAQZG7/9PZ191DLcwe/XTWQUekuvA1RIal3czMUBs8tx6Lzz+avn/dGZdJLVGdq2xVpTEw1UeMFz6DRDzzwhcyhpG8Krowtad91qa1pgpEu9Mu61hax71bUm3hmLVdjiV9K46vz24RbVAR0K8H8azYcI3T1nJ4J1nm2TLtZq+jPUQEcHbJxARc9p474sF4LoGLTJhKsrtbUUfQNU4maOyDnwjgA5OxzCUnU3fhjXKa+aB77q50kpkayX1374seahy3bWZpYlglR1TqDjtpd/xb//mAYK/VGSp0jJ1104gJP8DKg2wB1fC5toRhWgoeciijoZi3W+/3IBd26SxfiVnJL9Dq0ZNFhL19CBjSXIJAQNQ9+KDZ1shJ7C6KNtqbXzeYZDbGayyz2zm992lgOMgat3GOANLLVIbVcOtm6u2dix5q1q67QGLG/Z72s5GMW6V26SDr/ObW7tcJ30LRM5I875vDDhRYpePKkohILY/hpvAjH4Kzya9RD84mUeloAAAAy8Bn3FqQv8AAAMAAKe6VW63eugCLCgF5I1V1vmvHmTpDu3ZGEn/Yz9eDHwkqFrrOJp5xNpldtnKqx15B2pMdSuAsVieHpqdpRgotYY8yp/vXTLZhF86gvz6CIMHOMwD6uxKfXlBQoOl2zqOVVI9SRFy+Op3zYBG/4rZAlZvzvYyaCMWBLLDaE6xNjedW6fDEaH7SzwaSgizBZvM+nAtOk/ZY0SjWQfncBfOM0rz21GW9ejxYAioBRP6rtqSle55t+XNbM/FAJgvil3itKnz9rbTrRJsJl6wjeoXXxoXu3Mm42obuDzsm/aCniJc5bIQSgZdd4W9Iai+M4Uh95Zg3DGNEiS7+fMtQ/0lHymXvSTWJrLN5Ps5FRw4eLU+GzLkSSdHXM5ApwE1jl4YNucMKhTGbsxBveX1UqgJ7tmx6lB2dG6MRL0Jim5L2wEvna/fIHDg/O+4lSDbq8zrtJJyibw1xUDG4G5SNybFtlUgfnwzmzL01y4PeKL4ZWHu9UX5LOuu7Vfut+xb7H5ODXWmWByCF6p0xZRoBtB1i8Q+CeCK2N/F/Rmwwz0mT1JnITZJUa/bk+gDdogZ01S/I/4LCJ39ca2DrYnrA+mlzjJu+6p5Mi8PnWCD+ToggzrHBdnAEG/IdyPiQDbA0C/b99qc9czMgjOeO5cuE1uxevKZUAI2e3J5Ok/aPTA+I4MTNkdLOYJ5xABo9Oa8PaE4Dh3HCmcpEVQJVlJiv2V9dcm4TpfnO2WyWHhEZ/ij57j/fXEcsvB2oVIW3iyGHznyASyGp4ZRi9akXEcGBdhj7swfy4BF8d/dsCvXScobT+hjUJTubbyzmEUxdZMCDCSPT11yydsEnilGQb5RR9n8a6iVoZ6D+bicRnC5kIfn3sVTO+l6pX9Z95vLqQwbcqXZq7QFSUUcz1YZkD2wLUaGA8IbTgyzdFYykS9iwipL/AT8RQYPYAGOEzQK522uOI95qtem9crNUaiGNkWPC+mGuKEbs6AkF27KWXPH1ZBl/lqoxLlfLORAIUe9tEsPgliULUQj2jWa7VJvgLbSGUk0qGm0OIu8eLv4FxZRKoV+P0gGP6NruQAABW5tb292AAAAbG12aGQAAAAAAAAAAAAAAAAAAAPoAAANSAABAAABAAAAAAAAAAAAAAAAAQAAAAAAAAAAAAAAAAAAAAEAAAAAAAAAAAAAAAAAAEAAAAAAAAAAAAAAAAAAAAAAAAAAAAAAAAAAAAAAAAACAAAEmHRyYWsAAABcdGtoZAAAAAMAAAAAAAAAAAAAAAEAAAAAAAANSAAAAAAAAAAAAAAAAAAAAAAAAQAAAAAAAAAAAAAAAAAAAAEAAAAAAAAAAAAAAAAAAEAAAAADYAAAAbAAAAAAACRlZHRzAAAAHGVsc3QAAAAAAAAAAQAADUgAAAgAAAEAAAAABBBtZGlhAAAAIG1kaGQAAAAAAAAAAAAAAAAAADwAAADMAFXEAAAAAAAtaGRscgAAAAAAAAAAdmlkZQAAAAAAAAAAAAAAAFZpZGVvSGFuZGxlcgAAAAO7bWluZgAAABR2bWhkAAAAAQAAAAAAAAAAAAAAJGRpbmYAAAAcZHJlZgAAAAAAAAABAAAADHVybCAAAAABAAADe3N0YmwAAACXc3RzZAAAAAAAAAABAAAAh2F2YzEAAAAAAAAAAQAAAAAAAAAAAAAAAAAAAAADYAGwAEgAAABIAAAAAAAAAAEAAAAAAAAAAAAAAAAAAAAAAAAAAAAAAAAAAAAAAAAAAAAY//8AAAAxYXZjQwFkAB7/4QAYZ2QAHqzZQNg3oQAAAwABAAADAB4PFi2WAQAGaOvjyyLAAAAAGHN0dHMAAAAAAAAAAQAAADMAAAQAAAAAFHN0c3MAAAAAAAAAAQAAAAEAAAGgY3R0cwAAAAAAAAAyAAAAAQAACAAAAAABAAAUAAAAAAEAAAgAAAAAAQAAAAAAAAABAAAEAAAAAAEAABQAAAAAAQAACAAAAAABAAAAAAAAAAEAAAQAAAAAAQAAFAAAAAABAAAIAAAAAAEAAAAAAAAAAQAABAAAAAABAAAUAAAAAAEAAAgAAAAAAQAAAAAAAAABAAAEAAAAAAEAABQAAAAAAQAACAAAAAABAAAAAAAAAAEAAAQAAAAAAQAADAAAAAABAAAEAAAAAAEAABQAAAAAAQAACAAAAAABAAAAAAAAAAEAAAQAAAAAAQAAFAAAAAABAAAIAAAAAAEAAAAAAAAAAQAABAAAAAABAAAUAAAAAAEAAAgAAAAAAQAAAAAAAAABAAAEAAAAAAIAAAgAAAAAAQAADAAAAAABAAAEAAAAAAEAABQAAAAAAQAACAAAAAABAAAAAAAAAAEAAAQAAAAAAQAAFAAAAAABAAAIAAAAAAEAAAAAAAAAAQAABAAAAAABAAAMAAAAAAEAAAQAAAAAAQAADAAAAAABAAAEAAAAABxzdHNjAAAAAAAAAAEAAAABAAAAMwAAAAEAAADgc3RzegAAAAAAAAAAAAAAMwAAdtsAABtpAAAGVAAAAmwAAAO+AAASbAAAA4MAAAKyAAAB0wAACgYAAAN1AAABSwAAAbAAAA1uAAAD8gAAAYsAAAGmAAAN+wAAA9oAAAKJAAABSAAABpEAAAENAAAbagAABRQAAAXQAAACwwAACoMAAAP8AAACNgAAAjMAAAiBAAADxAAAAoEAAAGbAAAGfwAAEZAAAAZJAAADQwAAGYcAAAhfAAAE3wAAArwAAAvPAAAFGwAAAhEAAAKhAAANpAAABSIAAAdWAAADMwAAABRzdGNvAAAAAAAAAAEAAAAwAAAAYnVkdGEAAABabWV0YQAAAAAAAAAhaGRscgAAAAAAAAAAbWRpcmFwcGwAAAAAAAAAAAAAAAAtaWxzdAAAACWpdG9vAAAAHWRhdGEAAAABAAAAAExhdmY1Ny44My4xMDA=\" type=\"video/mp4\">\n",
              "</video>\n"
            ],
            "text/plain": [
              "<IPython.core.display.HTML object>"
            ]
          },
          "metadata": {},
          "execution_count": 9
        }
      ]
    },
    {
      "cell_type": "markdown",
      "metadata": {
        "id": "mqLOxZz8kOk7"
      },
      "source": [
        "---"
      ]
    },
    {
      "cell_type": "code",
      "metadata": {
        "id": "Wz7yc0B9iznJ",
        "colab": {
          "base_uri": "https://localhost:8080/",
          "height": 654
        },
        "cellView": "form",
        "outputId": "a76726f2-645b-4d81-fcbf-15c25e1006e7"
      },
      "source": [
        "#@markdown ## 4. Run Gradio App ✨\n",
        "\n",
        "\n",
        "def inference(source,\n",
        "              driving,\n",
        "              output_name = 'output.mp4',\n",
        "              find_best_frame_ = False,\n",
        "              free_view = False,\n",
        "              yaw = None,\n",
        "              pitch = None,\n",
        "              roll = None,\n",
        "              \n",
        "              audio = True,\n",
        "              cpu = False,\n",
        "              best_frame = None,\n",
        "              relative = True,\n",
        "              adapt_scale = True,\n",
        "              ):\n",
        "\n",
        "    # source \n",
        "    source_image = resize(source, (256, 256))\n",
        "    \n",
        "    # driving\n",
        "    reader = imageio.get_reader(driving)\n",
        "    fps = reader.get_meta_data()['fps']\n",
        "    driving_video = []\n",
        "    try:\n",
        "        for im in reader:\n",
        "            driving_video.append(im)\n",
        "    except RuntimeError:\n",
        "        pass\n",
        "    reader.close()\n",
        "\n",
        "    driving_video = [resize(frame, (256, 256))[..., :3] for frame in driving_video]\n",
        "    \n",
        "    with open(config) as f:\n",
        "        config_ = yaml.load(f)\n",
        "    estimate_jacobian = config_['model_params']['common_params']['estimate_jacobian']\n",
        "    print(f'estimate jacobian: {estimate_jacobian}')\n",
        "\n",
        "    if find_best_frame_ or best_frame is not None:\n",
        "        i = best_frame if best_frame is not None else find_best_frame(source_image, driving_video, cpu=cpu)\n",
        "        print (\"Best frame: \" + str(i))\n",
        "        driving_forward = driving_video[i:]\n",
        "        driving_backward = driving_video[:(i+1)][::-1]\n",
        "        predictions_forward = make_animation(source_image, driving_forward, generator, kp_detector, he_estimator, relative=relative, adapt_movement_scale=adapt_scale, estimate_jacobian=estimate_jacobian, cpu=cpu, free_view=free_view, yaw=yaw, pitch=pitch, roll=roll)\n",
        "        predictions_backward = make_animation(source_image, driving_backward, generator, kp_detector, he_estimator, relative=relative, adapt_movement_scale=adapt_scale, estimate_jacobian=estimate_jacobian, cpu=cpu, free_view=free_view, yaw=yaw, pitch=pitch, roll=roll)\n",
        "        predictions = predictions_backward[::-1] + predictions_forward[1:]\n",
        "    else:\n",
        "        predictions = make_animation(source_image, driving_video, generator, kp_detector, he_estimator, relative=relative, adapt_movement_scale=adapt_scale, estimate_jacobian=estimate_jacobian, cpu=cpu, free_view=free_view, yaw=yaw, pitch=pitch, roll=roll)\n",
        "    \n",
        "    # save video\n",
        "    output_path = 'asset/output'\n",
        "    os.makedirs(output_path, exist_ok=True)\n",
        "    \n",
        "    imageio.mimsave(f'{output_path}/{output_name}', [img_as_ubyte(frame) for frame in predictions], fps=fps)\n",
        "    \n",
        "    if audio:\n",
        "        audioclip = VideoFileClip(driving)\n",
        "        audio = audioclip.audio\n",
        "        videoclip = VideoFileClip(output_name)\n",
        "        videoclip.audio = audio\n",
        "        output_name = output_name.strip('.mp4')\n",
        "        output_name = f'{output_name}_audio.mp4'\n",
        "        videoclip.write_videofile(f'{output_path}/{output_name}')\n",
        "        \n",
        "    return f'{output_path}/{output_name}'\n",
        "\n",
        "\n",
        "\n",
        "import gradio as gr\n",
        "\n",
        "iface = gr.Interface(\n",
        "    inference, # main function\n",
        "    inputs = [ \n",
        "        gr.inputs.Image(shape=(255, 255), label='Source Image'), # source image\n",
        "        gr.inputs.Video(label='Driving Video', type='mp4'), # driving video\n",
        "        \n",
        "        gr.inputs.Checkbox(label=\"fine best frame\", default=False), \n",
        "        gr.inputs.Checkbox(label=\"free view\", default=False), \n",
        "        gr.inputs.Slider(minimum=0, maximum=90, default=0, label=\"yaw\"),\n",
        "        gr.inputs.Slider(minimum=0, maximum=90, default=0, label=\"pitch\"),\n",
        "        gr.inputs.Slider(minimum=0, maximum=90, default=0, label=\"raw\"),\n",
        "        \n",
        "    ],\n",
        "    outputs = [\n",
        "        gr.outputs.Video(label='result') # generated video\n",
        "    ], \n",
        "    \n",
        "    title = 'Face Vid2Vid Demo',\n",
        "    description = \"This app is an unofficial demo web app of the face video2video. The codes are heavily based on this repo, created by zhanglonghao1992\",\n",
        "    )\n",
        "iface.launch()"
      ],
      "execution_count": 10,
      "outputs": [
        {
          "output_type": "stream",
          "name": "stdout",
          "text": [
            "Colab notebook detected. To show errors in colab notebook, set `debug=True` in `launch()`\n",
            "Running on public URL: https://10982.gradio.app\n",
            "\n",
            "This share link will expire in 72 hours. To get longer links, send an email to: support@gradio.app\n"
          ]
        },
        {
          "output_type": "display_data",
          "data": {
            "text/html": [
              "\n",
              "        <iframe\n",
              "            width=\"900\"\n",
              "            height=\"500\"\n",
              "            src=\"https://10982.gradio.app\"\n",
              "            frameborder=\"0\"\n",
              "            allowfullscreen\n",
              "        ></iframe>\n",
              "        "
            ],
            "text/plain": [
              "<IPython.lib.display.IFrame at 0x7fc0a8244310>"
            ]
          },
          "metadata": {}
        },
        {
          "output_type": "execute_result",
          "data": {
            "text/plain": [
              "(<Flask 'gradio.networking'>,\n",
              " 'http://127.0.0.1:7860/',\n",
              " 'https://10982.gradio.app')"
            ]
          },
          "metadata": {},
          "execution_count": 10
        }
      ]
    }
  ]
}